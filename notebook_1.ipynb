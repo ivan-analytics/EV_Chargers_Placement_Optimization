{
 "cells": [
  {
   "cell_type": "markdown",
   "id": "2d1e523f",
   "metadata": {},
   "source": [
    "# Research name"
   ]
  },
  {
   "cell_type": "markdown",
   "id": "4309fb60",
   "metadata": {},
   "source": [
    "## Intro"
   ]
  },
  {
   "cell_type": "markdown",
   "id": "3fc6c89a",
   "metadata": {},
   "source": [
    "### Task"
   ]
  },
  {
   "cell_type": "markdown",
   "id": "c810ba13",
   "metadata": {},
   "source": [
    "### Imports"
   ]
  },
  {
   "cell_type": "code",
   "execution_count": null,
   "id": "a6223b5c",
   "metadata": {
    "ExecuteTime": {
     "end_time": "2022-02-13T12:03:24.780316Z",
     "start_time": "2022-02-13T12:03:24.768212Z"
    }
   },
   "outputs": [],
   "source": [
    "# BASIC LIBS\n",
    "\n",
    "# data\n",
    "import pandas as pd\n",
    "import numpy as np\n",
    "\n",
    "import geopandas as gpd\n",
    "import contextily as ctx\n",
    "from pyproj import CRS\n",
    "\n",
    "# stat significance\n",
    "import scipy as sp\n",
    "\n",
    "# visualisation\n",
    "import matplotlib.pyplot as plt\n",
    "import seaborn as sns\n",
    "%matplotlib inline\n",
    "sns.set()\n",
    "%config InlineBackend.figure_format = 'retina'"
   ]
  },
  {
   "cell_type": "code",
   "execution_count": 2,
   "id": "a8934e1e",
   "metadata": {
    "ExecuteTime": {
     "end_time": "2022-02-13T11:21:50.908634Z",
     "start_time": "2022-02-13T11:21:50.905854Z"
    }
   },
   "outputs": [],
   "source": [
    "# JUPYTER CONFIG\n",
    "import warnings\n",
    "warnings.filterwarnings('ignore')\n",
    "\n",
    "pd.set_option('display.max_columns', 100)\n",
    "pd.set_option('display.max_rows', 100)"
   ]
  },
  {
   "cell_type": "markdown",
   "id": "112eb58c",
   "metadata": {},
   "source": [
    "### Config"
   ]
  },
  {
   "cell_type": "markdown",
   "id": "cdb07233",
   "metadata": {},
   "source": [
    "## Data"
   ]
  },
  {
   "cell_type": "markdown",
   "id": "c1a3af47",
   "metadata": {},
   "source": [
    "### OD"
   ]
  },
  {
   "cell_type": "code",
   "execution_count": 5,
   "id": "69688af4",
   "metadata": {},
   "outputs": [],
   "source": [
    "df = pd.read_csv('./data/georgia_od_data/GDOT_2019_09.csv')"
   ]
  },
  {
   "cell_type": "code",
   "execution_count": 6,
   "id": "4db57b35",
   "metadata": {},
   "outputs": [],
   "source": [
    "sample_size = 100000\n",
    "df_sample = df.sample(sample_size)"
   ]
  },
  {
   "cell_type": "code",
   "execution_count": 7,
   "id": "517091a4",
   "metadata": {},
   "outputs": [
    {
     "data": {
      "text/plain": [
       "Index(['year', 'month', 'origin_zone_id', 'destination_zone_id',\n",
       "       'origin_zone_name', 'destination_zone_name', 'origin_state',\n",
       "       'destination_state', 'origin_flag', 'destination_flag', 'day_type',\n",
       "       'avg_linked_trips', 'avg_unlinked_trips', 'avg_tours',\n",
       "       'total_linked_trips', 'total_unlinked_trips', 'total_tours', 'hour_00',\n",
       "       'hour_01', 'hour_02', 'hour_03', 'hour_04', 'hour_05', 'hour_06',\n",
       "       'hour_07', 'hour_08', 'hour_09', 'hour_10', 'hour_11', 'hour_12',\n",
       "       'hour_13', 'hour_14', 'hour_15', 'hour_16', 'hour_17', 'hour_18',\n",
       "       'hour_19', 'hour_20', 'hour_21', 'hour_22', 'hour_23', 'distance_0_1',\n",
       "       'distance_1_2.5', 'distance_2.5_5', 'distance_5_10', 'distance_10_25',\n",
       "       'distance_25_50', 'distance_50_75', 'distance_75_100',\n",
       "       'distance_100_150', 'distance_150_300', 'distance_gt300', 'mode_air',\n",
       "       'mode_rail', 'mode_car', 'mode_bus', 'mode_walk', 'mode_bike',\n",
       "       'purpose_hbw', 'purpose_hbo', 'purpose_wbo', 'purpose_obo', 'age_lt25',\n",
       "       'age_25_34', 'age_35_54', 'age_55_64', 'age_gt65', 'income_0_25k',\n",
       "       'income_25_50k', 'income_50_75k', 'income_75_125k', 'income_gt125k',\n",
       "       'gender_male', 'gender_female', 'hour_00_pct', 'hour_01_pct',\n",
       "       'hour_02_pct', 'hour_03_pct', 'hour_04_pct', 'hour_05_pct',\n",
       "       'hour_06_pct', 'hour_07_pct', 'hour_08_pct', 'hour_09_pct',\n",
       "       'hour_10_pct', 'hour_11_pct', 'hour_12_pct', 'hour_13_pct',\n",
       "       'hour_14_pct', 'hour_15_pct', 'hour_16_pct', 'hour_17_pct',\n",
       "       'hour_18_pct', 'hour_19_pct', 'hour_20_pct', 'hour_21_pct',\n",
       "       'hour_22_pct', 'hour_23_pct', 'distance_0_1_pct', 'distance_1_2.5_pct'],\n",
       "      dtype='object')"
      ]
     },
     "execution_count": 7,
     "metadata": {},
     "output_type": "execute_result"
    }
   ],
   "source": [
    "df_sample.columns[0:100]"
   ]
  },
  {
   "cell_type": "code",
   "execution_count": 8,
   "id": "3a837b6e",
   "metadata": {},
   "outputs": [],
   "source": [
    "total_trips = 26842386"
   ]
  },
  {
   "cell_type": "code",
   "execution_count": 9,
   "id": "3c3cba00",
   "metadata": {},
   "outputs": [
    {
     "data": {
      "text/plain": [
       "total_linked_trips    99.846545\n",
       "distance_0_1          18.218589\n",
       "distance_1_2.5        19.252141\n",
       "distance_2.5_5        18.366933\n",
       "distance_5_10         19.430888\n",
       "distance_10_25        16.395864\n",
       "distance_25_50         4.595366\n",
       "distance_50_75         0.979686\n",
       "distance_75_100        0.451268\n",
       "distance_100_150       0.593200\n",
       "distance_150_300       0.830891\n",
       "distance_gt300         0.731720\n",
       "dtype: float64"
      ]
     },
     "execution_count": 9,
     "metadata": {},
     "output_type": "execute_result"
    }
   ],
   "source": [
    "df_sample[['total_linked_trips', 'distance_0_1',\n",
    "       'distance_1_2.5', 'distance_2.5_5', 'distance_5_10', 'distance_10_25',\n",
    "       'distance_25_50', 'distance_50_75', 'distance_75_100',\n",
    "       'distance_100_150', 'distance_150_300', 'distance_gt300']].sum() / total_trips * 100"
   ]
  },
  {
   "cell_type": "code",
   "execution_count": 10,
   "id": "40d943bc",
   "metadata": {},
   "outputs": [
    {
     "data": {
      "text/plain": [
       "total_linked_trips    99.846545\n",
       "mode_air               0.546214\n",
       "mode_rail              0.429876\n",
       "mode_car              86.357226\n",
       "mode_bus               3.193759\n",
       "mode_walk              8.716472\n",
       "mode_bike              0.602998\n",
       "purpose_hbw           14.639291\n",
       "purpose_hbo           48.240671\n",
       "purpose_wbo           11.010322\n",
       "purpose_obo           25.956262\n",
       "dtype: float64"
      ]
     },
     "execution_count": 10,
     "metadata": {},
     "output_type": "execute_result"
    }
   ],
   "source": [
    "df_sample[['total_linked_trips', 'mode_air', 'mode_rail',\n",
    "       'mode_car', 'mode_bus', 'mode_walk', 'mode_bike', 'purpose_hbw',\n",
    "       'purpose_hbo', 'purpose_wbo', 'purpose_obo']].sum() / total_trips * 100"
   ]
  },
  {
   "cell_type": "code",
   "execution_count": 11,
   "id": "93fea4b4",
   "metadata": {},
   "outputs": [
    {
     "data": {
      "text/plain": [
       "total_linked_trips    99.846545\n",
       "hour_00                0.718699\n",
       "hour_01                0.619483\n",
       "hour_02                0.580634\n",
       "hour_03                0.523161\n",
       "hour_04                0.744140\n",
       "hour_05                1.279640\n",
       "hour_06                3.557195\n",
       "hour_07                5.939003\n",
       "hour_08                5.283100\n",
       "hour_09                5.190992\n",
       "hour_10                5.874310\n",
       "hour_11                6.610694\n",
       "hour_12                7.302376\n",
       "hour_13                7.273679\n",
       "hour_14                7.392297\n",
       "hour_15                7.767435\n",
       "hour_16                7.240929\n",
       "hour_17                7.650866\n",
       "hour_18                6.948730\n",
       "hour_19                4.687773\n",
       "hour_20                2.469076\n",
       "hour_21                1.829629\n",
       "hour_22                1.375168\n",
       "hour_23                0.987535\n",
       "dtype: float64"
      ]
     },
     "execution_count": 11,
     "metadata": {},
     "output_type": "execute_result"
    }
   ],
   "source": [
    "# 26842386 is sum of total_linked_trips\n",
    "df_sample[['total_linked_trips', 'hour_00',\n",
    "       'hour_01', 'hour_02', 'hour_03', 'hour_04', 'hour_05', 'hour_06',\n",
    "       'hour_07', 'hour_08', 'hour_09', 'hour_10', 'hour_11', 'hour_12',\n",
    "       'hour_13', 'hour_14', 'hour_15', 'hour_16', 'hour_17', 'hour_18',\n",
    "       'hour_19', 'hour_20', 'hour_21', 'hour_22', 'hour_23']].sum() / total_trips * 100"
   ]
  },
  {
   "cell_type": "code",
   "execution_count": 12,
   "id": "8e8e3cd8",
   "metadata": {},
   "outputs": [
    {
     "data": {
      "text/html": [
       "<div>\n",
       "<style scoped>\n",
       "    .dataframe tbody tr th:only-of-type {\n",
       "        vertical-align: middle;\n",
       "    }\n",
       "\n",
       "    .dataframe tbody tr th {\n",
       "        vertical-align: top;\n",
       "    }\n",
       "\n",
       "    .dataframe thead th {\n",
       "        text-align: right;\n",
       "    }\n",
       "</style>\n",
       "<table border=\"1\" class=\"dataframe\">\n",
       "  <thead>\n",
       "    <tr style=\"text-align: right;\">\n",
       "      <th></th>\n",
       "      <th>origin_zone_id</th>\n",
       "      <th>count</th>\n",
       "    </tr>\n",
       "  </thead>\n",
       "  <tbody>\n",
       "    <tr>\n",
       "      <th>1383</th>\n",
       "      <td>130639800001</td>\n",
       "      <td>7178</td>\n",
       "    </tr>\n",
       "    <tr>\n",
       "      <th>3450</th>\n",
       "      <td>131210035001</td>\n",
       "      <td>5693</td>\n",
       "    </tr>\n",
       "    <tr>\n",
       "      <th>7501</th>\n",
       "      <td>13820_AL</td>\n",
       "      <td>5349</td>\n",
       "    </tr>\n",
       "    <tr>\n",
       "      <th>7531</th>\n",
       "      <td>16740_NC</td>\n",
       "      <td>4514</td>\n",
       "    </tr>\n",
       "    <tr>\n",
       "      <th>3677</th>\n",
       "      <td>131210092032</td>\n",
       "      <td>4387</td>\n",
       "    </tr>\n",
       "  </tbody>\n",
       "</table>\n",
       "</div>"
      ],
      "text/plain": [
       "     origin_zone_id  count\n",
       "1383   130639800001   7178\n",
       "3450   131210035001   5693\n",
       "7501       13820_AL   5349\n",
       "7531       16740_NC   4514\n",
       "3677   131210092032   4387"
      ]
     },
     "execution_count": 12,
     "metadata": {},
     "output_type": "execute_result"
    }
   ],
   "source": [
    "# how many destination may one origin have\n",
    "(\n",
    "df\n",
    ".groupby([\"origin_zone_id\"])\n",
    ".agg({\n",
    "    \"origin_zone_id\":\"count\",\n",
    "})\n",
    ".rename(columns={\"origin_zone_id\": \"count\"})\n",
    ".reset_index()\n",
    ".sort_values(['count'], ascending=False)\n",
    "[:5]\n",
    ")"
   ]
  },
  {
   "cell_type": "markdown",
   "id": "ef236100",
   "metadata": {},
   "source": [
    "### Block Groups shp"
   ]
  },
  {
   "cell_type": "code",
   "execution_count": 13,
   "id": "3802ee35",
   "metadata": {},
   "outputs": [],
   "source": [
    "gdf_zones = gpd.read_file(r\"./data/block_groups_shapefiles_2019/tl_2019_13_bg.shp\")"
   ]
  },
  {
   "cell_type": "code",
   "execution_count": 14,
   "id": "3ff17d35",
   "metadata": {},
   "outputs": [],
   "source": [
    "# gdf_zones[\"GEOID\"] = gdf_zones[\"GEOID\"].str[:-1]"
   ]
  },
  {
   "cell_type": "code",
   "execution_count": 15,
   "id": "e4cb4449",
   "metadata": {},
   "outputs": [],
   "source": [
    "# gdf_zones_sample = gdf_zones.sample(3000)\n",
    "gdf_zones_sample = gdf_zones"
   ]
  },
  {
   "cell_type": "code",
   "execution_count": 16,
   "id": "c3479261",
   "metadata": {},
   "outputs": [
    {
     "data": {
      "text/plain": [
       "<Projected CRS: EPSG:3857>\n",
       "Name: WGS 84 / Pseudo-Mercator\n",
       "Axis Info [cartesian]:\n",
       "- X[east]: Easting (metre)\n",
       "- Y[north]: Northing (metre)\n",
       "Area of Use:\n",
       "- name: World between 85.06°S and 85.06°N.\n",
       "- bounds: (-180.0, -85.06, 180.0, 85.06)\n",
       "Coordinate Operation:\n",
       "- name: Popular Visualisation Pseudo-Mercator\n",
       "- method: Popular Visualisation Pseudo Mercator\n",
       "Datum: World Geodetic System 1984 ensemble\n",
       "- Ellipsoid: WGS 84\n",
       "- Prime Meridian: Greenwich"
      ]
     },
     "execution_count": 16,
     "metadata": {},
     "output_type": "execute_result"
    }
   ],
   "source": [
    "CRS_mercator = CRS.from_string(\"epsg:3857\")\n",
    "gdf_zones_plot = gdf_zones_sample.to_crs(CRS_mercator)\n",
    "gdf_zones_plot.crs"
   ]
  },
  {
   "cell_type": "code",
   "execution_count": null,
   "id": "a9f4f5de",
   "metadata": {},
   "outputs": [],
   "source": [
    "gdf_zones_plot.explore()"
   ]
  },
  {
   "cell_type": "markdown",
   "id": "8153759b",
   "metadata": {},
   "source": [
    "### Population By Tract"
   ]
  },
  {
   "cell_type": "code",
   "execution_count": 202,
   "id": "cce85190",
   "metadata": {},
   "outputs": [],
   "source": [
    "df_tr_pop = pd.read_csv('./data/population_by_tract_2021.csv')"
   ]
  },
  {
   "cell_type": "markdown",
   "id": "8bcee43c",
   "metadata": {},
   "source": [
    "#### Tract as a proxy to block group"
   ]
  },
  {
   "cell_type": "code",
   "execution_count": 203,
   "id": "28592db7",
   "metadata": {},
   "outputs": [],
   "source": [
    "df_tr_pop = df_tr_pop.rename({\"Geographic ID for geographic unit\":\"GEOID\", \"# Total population, 2021\":\"POP\"}, axis=1)\n",
    "gdf_zones[\"GEOID\"] = gdf_zones[\"GEOID\"].str[:-1]\n",
    "df_join = (\n",
    "    gdf_zones\n",
    "    [[\"GEOID\", \"BLKGRPCE\"]]\n",
    "    .merge(df_tr_pop[[\"GEOID\", \"POP\"]].astype(str), on = \"GEOID\", how = \"left\")\n",
    ")"
   ]
  },
  {
   "cell_type": "markdown",
   "id": "5dddf359",
   "metadata": {},
   "source": [
    "\n",
    "<span style=\"color:yellow\">*Tract of 40% of block groups is missing!!!*</span>"
   ]
  },
  {
   "cell_type": "code",
   "execution_count": 204,
   "id": "46ba5fae",
   "metadata": {},
   "outputs": [
    {
     "data": {
      "text/plain": [
       "POP\n",
       "False    3155\n",
       "True     2378\n",
       "Name: count, dtype: int64"
      ]
     },
     "execution_count": 204,
     "metadata": {},
     "output_type": "execute_result"
    }
   ],
   "source": [
    "df_join.POP.isna().value_counts()"
   ]
  },
  {
   "cell_type": "code",
   "execution_count": 206,
   "id": "adc01b32",
   "metadata": {},
   "outputs": [
    {
     "data": {
      "text/html": [
       "<div>\n",
       "<style scoped>\n",
       "    .dataframe tbody tr th:only-of-type {\n",
       "        vertical-align: middle;\n",
       "    }\n",
       "\n",
       "    .dataframe tbody tr th {\n",
       "        vertical-align: top;\n",
       "    }\n",
       "\n",
       "    .dataframe thead th {\n",
       "        text-align: right;\n",
       "    }\n",
       "</style>\n",
       "<table border=\"1\" class=\"dataframe\">\n",
       "  <thead>\n",
       "    <tr style=\"text-align: right;\">\n",
       "      <th></th>\n",
       "      <th>tract_id</th>\n",
       "      <th>tract_population</th>\n",
       "      <th>number_of_blocks</th>\n",
       "      <th>derivedCol</th>\n",
       "    </tr>\n",
       "  </thead>\n",
       "  <tbody>\n",
       "    <tr>\n",
       "      <th>0</th>\n",
       "      <td>13001950100</td>\n",
       "      <td>3421</td>\n",
       "      <td>2</td>\n",
       "      <td>1710.500000</td>\n",
       "    </tr>\n",
       "    <tr>\n",
       "      <th>1</th>\n",
       "      <td>13001950400</td>\n",
       "      <td>1852</td>\n",
       "      <td>2</td>\n",
       "      <td>926.000000</td>\n",
       "    </tr>\n",
       "    <tr>\n",
       "      <th>2</th>\n",
       "      <td>13001950500</td>\n",
       "      <td>3723</td>\n",
       "      <td>3</td>\n",
       "      <td>1241.000000</td>\n",
       "    </tr>\n",
       "    <tr>\n",
       "      <th>3</th>\n",
       "      <td>13003960100</td>\n",
       "      <td>2214</td>\n",
       "      <td>2</td>\n",
       "      <td>1107.000000</td>\n",
       "    </tr>\n",
       "    <tr>\n",
       "      <th>4</th>\n",
       "      <td>13003960200</td>\n",
       "      <td>4604</td>\n",
       "      <td>3</td>\n",
       "      <td>1534.666667</td>\n",
       "    </tr>\n",
       "  </tbody>\n",
       "</table>\n",
       "</div>"
      ],
      "text/plain": [
       "      tract_id  tract_population  number_of_blocks   derivedCol\n",
       "0  13001950100              3421                 2  1710.500000\n",
       "1  13001950400              1852                 2   926.000000\n",
       "2  13001950500              3723                 3  1241.000000\n",
       "3  13003960100              2214                 2  1107.000000\n",
       "4  13003960200              4604                 3  1534.666667"
      ]
     },
     "execution_count": 206,
     "metadata": {},
     "output_type": "execute_result"
    }
   ],
   "source": [
    "\"\"\"\n",
    "Cell generated by Data Wrangler.\n",
    "\"\"\"\n",
    "def clean_data(df_join):\n",
    "    # Rename column 'GEOID' to 'tract_id'\n",
    "    df_join = df_join.rename(columns={'GEOID': 'tract_id'})\n",
    "    # Rename column 'BLKGRPCE' to 'block_number'\n",
    "    df_join = df_join.rename(columns={'BLKGRPCE': 'block_number'})\n",
    "    # Rename column 'block_number' to 'block'\n",
    "    df_join = df_join.rename(columns={'block_number': 'block'})\n",
    "    # Rename column 'POP' to 'tract_population'\n",
    "    df_join = df_join.rename(columns={'POP': 'tract_population'})\n",
    "    # Performed 1 aggregation grouped on columns: 'tract_id', 'tract_population'\n",
    "    df_join = df_join.groupby(['tract_id', 'tract_population']).agg(block_count=('block', 'count')).reset_index()\n",
    "    # Rename column 'block_count' to 'number_of_blocks'\n",
    "    df_join = df_join.rename(columns={'block_count': 'number_of_blocks'})\n",
    "    return df_join\n",
    "\n",
    "df_join_clean = clean_data(df_join.copy())\n",
    "\n",
    "def clean_data(df_join_clean):\n",
    "    # Change column type to int64 for column: 'number_of_blocks'\n",
    "    df_join_clean = df_join_clean.astype({'number_of_blocks': 'int64'})\n",
    "    # Change column type to int64 for column: 'tract_population'\n",
    "    df_join_clean = df_join_clean.astype({'tract_population': 'int64'})\n",
    "    # Derive column 'derivedCol' from columns: 'tract_population', 'number_of_blocks'\n",
    "    df_join_clean.insert(3, 'derivedCol', df_join_clean.apply(lambda row : row.tract_population / row.number_of_blocks, axis=1))\n",
    "    return df_join_clean\n",
    "\n",
    "df_join_clean_1 = clean_data(df_join_clean.copy())\n",
    "df_join_clean_1.head()"
   ]
  },
  {
   "cell_type": "markdown",
   "id": "7d1b6fcd",
   "metadata": {},
   "source": [
    "## Main"
   ]
  },
  {
   "cell_type": "markdown",
   "id": "13102d96",
   "metadata": {},
   "source": [
    "### "
   ]
  },
  {
   "cell_type": "markdown",
   "id": "0960241a",
   "metadata": {},
   "source": [
    "## Other"
   ]
  },
  {
   "cell_type": "markdown",
   "id": "b347e80c",
   "metadata": {},
   "source": [
    "#### Viz of Blocks with Trip amounts"
   ]
  },
  {
   "cell_type": "code",
   "execution_count": 471,
   "id": "97be8692",
   "metadata": {},
   "outputs": [],
   "source": [
    "gdf_zones = gpd.read_file(r\"./data/block_groups_shapefiles_2019/tl_2019_13_bg.shp\")"
   ]
  },
  {
   "cell_type": "code",
   "execution_count": 473,
   "id": "695b7701",
   "metadata": {},
   "outputs": [
    {
     "data": {
      "text/html": [
       "<div>\n",
       "<style scoped>\n",
       "    .dataframe tbody tr th:only-of-type {\n",
       "        vertical-align: middle;\n",
       "    }\n",
       "\n",
       "    .dataframe tbody tr th {\n",
       "        vertical-align: top;\n",
       "    }\n",
       "\n",
       "    .dataframe thead th {\n",
       "        text-align: right;\n",
       "    }\n",
       "</style>\n",
       "<table border=\"1\" class=\"dataframe\">\n",
       "  <thead>\n",
       "    <tr style=\"text-align: right;\">\n",
       "      <th></th>\n",
       "      <th>origin_zone_id</th>\n",
       "      <th>origin_state</th>\n",
       "      <th>destination_zone_id_count</th>\n",
       "      <th>total_linked_trips_sum</th>\n",
       "    </tr>\n",
       "  </thead>\n",
       "  <tbody>\n",
       "    <tr>\n",
       "      <th>0</th>\n",
       "      <td>1005</td>\n",
       "      <td>AL</td>\n",
       "      <td>12</td>\n",
       "      <td>916</td>\n",
       "    </tr>\n",
       "    <tr>\n",
       "      <th>1</th>\n",
       "      <td>1017</td>\n",
       "      <td>AL</td>\n",
       "      <td>31</td>\n",
       "      <td>5163</td>\n",
       "    </tr>\n",
       "    <tr>\n",
       "      <th>2</th>\n",
       "      <td>1019</td>\n",
       "      <td>AL</td>\n",
       "      <td>16</td>\n",
       "      <td>3313</td>\n",
       "    </tr>\n",
       "    <tr>\n",
       "      <th>3</th>\n",
       "      <td>1029</td>\n",
       "      <td>AL</td>\n",
       "      <td>19</td>\n",
       "      <td>2558</td>\n",
       "    </tr>\n",
       "    <tr>\n",
       "      <th>4</th>\n",
       "      <td>1049</td>\n",
       "      <td>AL</td>\n",
       "      <td>14</td>\n",
       "      <td>1273</td>\n",
       "    </tr>\n",
       "    <tr>\n",
       "      <th>...</th>\n",
       "      <td>...</td>\n",
       "      <td>...</td>\n",
       "      <td>...</td>\n",
       "      <td>...</td>\n",
       "    </tr>\n",
       "    <tr>\n",
       "      <th>7876</th>\n",
       "      <td>RWI1_WI</td>\n",
       "      <td>WI</td>\n",
       "      <td>7</td>\n",
       "      <td>40</td>\n",
       "    </tr>\n",
       "    <tr>\n",
       "      <th>7877</th>\n",
       "      <td>RWI3_WI</td>\n",
       "      <td>WI</td>\n",
       "      <td>3</td>\n",
       "      <td>123</td>\n",
       "    </tr>\n",
       "    <tr>\n",
       "      <th>7878</th>\n",
       "      <td>RWV1_WV</td>\n",
       "      <td>WV</td>\n",
       "      <td>3</td>\n",
       "      <td>14</td>\n",
       "    </tr>\n",
       "    <tr>\n",
       "      <th>7879</th>\n",
       "      <td>RWV2_WV</td>\n",
       "      <td>WV</td>\n",
       "      <td>4</td>\n",
       "      <td>18</td>\n",
       "    </tr>\n",
       "    <tr>\n",
       "      <th>7880</th>\n",
       "      <td>RWY1_WY</td>\n",
       "      <td>WY</td>\n",
       "      <td>1</td>\n",
       "      <td>8</td>\n",
       "    </tr>\n",
       "  </tbody>\n",
       "</table>\n",
       "<p>7881 rows × 4 columns</p>\n",
       "</div>"
      ],
      "text/plain": [
       "     origin_zone_id origin_state  destination_zone_id_count  \\\n",
       "0              1005           AL                         12   \n",
       "1              1017           AL                         31   \n",
       "2              1019           AL                         16   \n",
       "3              1029           AL                         19   \n",
       "4              1049           AL                         14   \n",
       "...             ...          ...                        ...   \n",
       "7876        RWI1_WI           WI                          7   \n",
       "7877        RWI3_WI           WI                          3   \n",
       "7878        RWV1_WV           WV                          3   \n",
       "7879        RWV2_WV           WV                          4   \n",
       "7880        RWY1_WY           WY                          1   \n",
       "\n",
       "      total_linked_trips_sum  \n",
       "0                        916  \n",
       "1                       5163  \n",
       "2                       3313  \n",
       "3                       2558  \n",
       "4                       1273  \n",
       "...                      ...  \n",
       "7876                      40  \n",
       "7877                     123  \n",
       "7878                      14  \n",
       "7879                      18  \n",
       "7880                       8  \n",
       "\n",
       "[7881 rows x 4 columns]"
      ]
     },
     "execution_count": 473,
     "metadata": {},
     "output_type": "execute_result"
    }
   ],
   "source": [
    "def clean_data(df_sample):\n",
    "    # Performed 2 aggregations grouped on column: 'origin_zone_id'\n",
    "    df_sample = df_sample.groupby(['origin_zone_id', 'origin_state']).agg(destination_zone_id_count=('destination_zone_id', 'count'), total_linked_trips_sum=('total_linked_trips', 'sum')).reset_index()\n",
    "    return df_sample\n",
    "\n",
    "df_origins = clean_data(df_sample.copy())\n",
    "df_origins"
   ]
  },
  {
   "cell_type": "code",
   "execution_count": 474,
   "id": "d7dfebf2",
   "metadata": {},
   "outputs": [],
   "source": [
    "# !!!\n",
    "df_origins[\"origin_zone_id\"] = df_origins[\"origin_zone_id\"].astype(str).str[:-1]\n",
    "gdf_zones[\"GEOID\"] = gdf_zones[\"GEOID\"].astype(str).str[:-1]"
   ]
  },
  {
   "cell_type": "code",
   "execution_count": 464,
   "id": "3f111c5d",
   "metadata": {},
   "outputs": [
    {
     "name": "stdout",
     "output_type": "stream",
     "text": [
      "origin_zone_id  origin_state  destination_zone_id_count  total_linked_trips_sum  GEOID  geometry\n",
      "False           False         False                      False                   False  False       10089\n",
      "                                                                                 True   True         3769\n",
      "Name: count, dtype: int64\n"
     ]
    }
   ],
   "source": [
    "gdf_origins = (\n",
    "    df_origins.query(\"origin_state == 'GA'\")\n",
    "    .merge(gdf_zones[[\"GEOID\", \"geometry\"]], how = \"left\", left_on=\"origin_zone_id\", right_on=\"GEOID\")\n",
    ")\n",
    "\n",
    "print(gdf_origins.isna().value_counts())\n",
    "gdf_origins = gdf_origins.dropna()"
   ]
  },
  {
   "cell_type": "code",
   "execution_count": 466,
   "id": "d1fe9254",
   "metadata": {},
   "outputs": [
    {
     "data": {
      "text/html": [
       "<div>\n",
       "<style scoped>\n",
       "    .dataframe tbody tr th:only-of-type {\n",
       "        vertical-align: middle;\n",
       "    }\n",
       "\n",
       "    .dataframe tbody tr th {\n",
       "        vertical-align: top;\n",
       "    }\n",
       "\n",
       "    .dataframe thead th {\n",
       "        text-align: right;\n",
       "    }\n",
       "</style>\n",
       "<table border=\"1\" class=\"dataframe\">\n",
       "  <thead>\n",
       "    <tr style=\"text-align: right;\">\n",
       "      <th></th>\n",
       "      <th>origin_zone_id</th>\n",
       "      <th>origin_state</th>\n",
       "      <th>destination_zone_id_count</th>\n",
       "      <th>total_linked_trips_sum</th>\n",
       "      <th>GEOID</th>\n",
       "      <th>geometry</th>\n",
       "    </tr>\n",
       "  </thead>\n",
       "  <tbody>\n",
       "    <tr>\n",
       "      <th>0</th>\n",
       "      <td>13003960300</td>\n",
       "      <td>GA</td>\n",
       "      <td>2</td>\n",
       "      <td>170</td>\n",
       "      <td>13003960300</td>\n",
       "      <td>POLYGON ((-82.81773 31.35824, -82.81744 31.358...</td>\n",
       "    </tr>\n",
       "    <tr>\n",
       "      <th>1</th>\n",
       "      <td>13005970100</td>\n",
       "      <td>GA</td>\n",
       "      <td>5</td>\n",
       "      <td>3126</td>\n",
       "      <td>13005970100</td>\n",
       "      <td>POLYGON ((-82.53976 31.64450, -82.53951 31.644...</td>\n",
       "    </tr>\n",
       "    <tr>\n",
       "      <th>2</th>\n",
       "      <td>13005970100</td>\n",
       "      <td>GA</td>\n",
       "      <td>5</td>\n",
       "      <td>3126</td>\n",
       "      <td>13005970100</td>\n",
       "      <td>POLYGON ((-82.44913 31.54280, -82.44863 31.543...</td>\n",
       "    </tr>\n",
       "    <tr>\n",
       "      <th>3</th>\n",
       "      <td>13005970100</td>\n",
       "      <td>GA</td>\n",
       "      <td>5</td>\n",
       "      <td>3126</td>\n",
       "      <td>13005970100</td>\n",
       "      <td>POLYGON ((-82.44642 31.53904, -82.44604 31.539...</td>\n",
       "    </tr>\n",
       "    <tr>\n",
       "      <th>4</th>\n",
       "      <td>13005970100</td>\n",
       "      <td>GA</td>\n",
       "      <td>3</td>\n",
       "      <td>52</td>\n",
       "      <td>13005970100</td>\n",
       "      <td>POLYGON ((-82.53976 31.64450, -82.53951 31.644...</td>\n",
       "    </tr>\n",
       "    <tr>\n",
       "      <th>...</th>\n",
       "      <td>...</td>\n",
       "      <td>...</td>\n",
       "      <td>...</td>\n",
       "      <td>...</td>\n",
       "      <td>...</td>\n",
       "      <td>...</td>\n",
       "    </tr>\n",
       "    <tr>\n",
       "      <th>13853</th>\n",
       "      <td>13321950500</td>\n",
       "      <td>GA</td>\n",
       "      <td>11</td>\n",
       "      <td>6208</td>\n",
       "      <td>13321950500</td>\n",
       "      <td>POLYGON ((-83.99746 31.47632, -83.99745 31.477...</td>\n",
       "    </tr>\n",
       "    <tr>\n",
       "      <th>13854</th>\n",
       "      <td>13321950600</td>\n",
       "      <td>GA</td>\n",
       "      <td>8</td>\n",
       "      <td>635</td>\n",
       "      <td>13321950600</td>\n",
       "      <td>POLYGON ((-83.94037 31.37549, -83.94036 31.376...</td>\n",
       "    </tr>\n",
       "    <tr>\n",
       "      <th>13855</th>\n",
       "      <td>13321950600</td>\n",
       "      <td>GA</td>\n",
       "      <td>8</td>\n",
       "      <td>635</td>\n",
       "      <td>13321950600</td>\n",
       "      <td>POLYGON ((-83.99941 31.33513, -83.99941 31.335...</td>\n",
       "    </tr>\n",
       "    <tr>\n",
       "      <th>13856</th>\n",
       "      <td>13321950600</td>\n",
       "      <td>GA</td>\n",
       "      <td>7</td>\n",
       "      <td>1046</td>\n",
       "      <td>13321950600</td>\n",
       "      <td>POLYGON ((-83.94037 31.37549, -83.94036 31.376...</td>\n",
       "    </tr>\n",
       "    <tr>\n",
       "      <th>13857</th>\n",
       "      <td>13321950600</td>\n",
       "      <td>GA</td>\n",
       "      <td>7</td>\n",
       "      <td>1046</td>\n",
       "      <td>13321950600</td>\n",
       "      <td>POLYGON ((-83.99941 31.33513, -83.99941 31.335...</td>\n",
       "    </tr>\n",
       "  </tbody>\n",
       "</table>\n",
       "<p>10089 rows × 6 columns</p>\n",
       "</div>"
      ],
      "text/plain": [
       "      origin_zone_id origin_state  destination_zone_id_count  \\\n",
       "0        13003960300           GA                          2   \n",
       "1        13005970100           GA                          5   \n",
       "2        13005970100           GA                          5   \n",
       "3        13005970100           GA                          5   \n",
       "4        13005970100           GA                          3   \n",
       "...              ...          ...                        ...   \n",
       "13853    13321950500           GA                         11   \n",
       "13854    13321950600           GA                          8   \n",
       "13855    13321950600           GA                          8   \n",
       "13856    13321950600           GA                          7   \n",
       "13857    13321950600           GA                          7   \n",
       "\n",
       "       total_linked_trips_sum        GEOID  \\\n",
       "0                         170  13003960300   \n",
       "1                        3126  13005970100   \n",
       "2                        3126  13005970100   \n",
       "3                        3126  13005970100   \n",
       "4                          52  13005970100   \n",
       "...                       ...          ...   \n",
       "13853                    6208  13321950500   \n",
       "13854                     635  13321950600   \n",
       "13855                     635  13321950600   \n",
       "13856                    1046  13321950600   \n",
       "13857                    1046  13321950600   \n",
       "\n",
       "                                                geometry  \n",
       "0      POLYGON ((-82.81773 31.35824, -82.81744 31.358...  \n",
       "1      POLYGON ((-82.53976 31.64450, -82.53951 31.644...  \n",
       "2      POLYGON ((-82.44913 31.54280, -82.44863 31.543...  \n",
       "3      POLYGON ((-82.44642 31.53904, -82.44604 31.539...  \n",
       "4      POLYGON ((-82.53976 31.64450, -82.53951 31.644...  \n",
       "...                                                  ...  \n",
       "13853  POLYGON ((-83.99746 31.47632, -83.99745 31.477...  \n",
       "13854  POLYGON ((-83.94037 31.37549, -83.94036 31.376...  \n",
       "13855  POLYGON ((-83.99941 31.33513, -83.99941 31.335...  \n",
       "13856  POLYGON ((-83.94037 31.37549, -83.94036 31.376...  \n",
       "13857  POLYGON ((-83.99941 31.33513, -83.99941 31.335...  \n",
       "\n",
       "[10089 rows x 6 columns]"
      ]
     },
     "execution_count": 466,
     "metadata": {},
     "output_type": "execute_result"
    }
   ],
   "source": [
    "gdf_origins"
   ]
  },
  {
   "cell_type": "markdown",
   "id": "410ecd06",
   "metadata": {},
   "source": []
  },
  {
   "cell_type": "markdown",
   "id": "23f41266",
   "metadata": {},
   "source": [
    "#### Other"
   ]
  },
  {
   "cell_type": "code",
   "execution_count": null,
   "id": "3a18cbc9",
   "metadata": {},
   "outputs": [],
   "source": [
    "gdf_t1 = gpd.read_file(r\"./data/illinois_tr_shp/tl_2019_17_tract.shp\")\n",
    "\n",
    "CRS_mercator = CRS.from_string(\"epsg:3857\")\n",
    "gdf_t1 = gdf_t1.to_crs(CRS_mercator)\n",
    "\n",
    "gdf_t1.explore()"
   ]
  },
  {
   "cell_type": "markdown",
   "id": "397839d5",
   "metadata": {},
   "source": [
    "### "
   ]
  },
  {
   "cell_type": "markdown",
   "id": "21a80e22",
   "metadata": {},
   "source": [
    "same origin and destinations do exist. for some reason with TWO different rows (two diff data on amount of trips from loc to itself)"
   ]
  },
  {
   "cell_type": "code",
   "execution_count": null,
   "id": "d0493295",
   "metadata": {},
   "outputs": [],
   "source": [
    "\"\"\"\n",
    "Cell generated by Data Wrangler.\n",
    "\"\"\"\n",
    "def clean_data(df):\n",
    "    # Filter rows based on column: 'origin_zone_id'\n",
    "    df = df[df['origin_zone_id'].apply(str) == \"130570910013\"]\n",
    "    # Filter rows based on column: 'destination_zone_id'\n",
    "    df = df[df['destination_zone_id'] == \"130570910013\"]\n",
    "    return df\n",
    "\n",
    "df_clean = clean_data(df.copy())\n",
    "df_clean.head()"
   ]
  },
  {
   "cell_type": "markdown",
   "id": "2bd141b8",
   "metadata": {},
   "source": [
    "od data is two-directional"
   ]
  },
  {
   "cell_type": "markdown",
   "id": "db8221aa",
   "metadata": {},
   "source": [
    "### Gurobi tests"
   ]
  },
  {
   "cell_type": "code",
   "execution_count": 1,
   "id": "2e807745",
   "metadata": {},
   "outputs": [],
   "source": [
    "import gurobipy as gp"
   ]
  },
  {
   "cell_type": "code",
   "execution_count": 2,
   "id": "2346e84c",
   "metadata": {},
   "outputs": [
    {
     "name": "stdout",
     "output_type": "stream",
     "text": [
      "Set parameter Username\n",
      "Set parameter LogFile to value \"gurobi.log\"\n",
      "Using license file /Library/gurobi1103/gurobi.lic\n",
      "Academic license - for non-commercial use only - expires 2025-10-20\n",
      "\n",
      "Usage: gurobi_cl [--command]* [param=value]* filename\n",
      "Type 'gurobi_cl --help' for more information.\n"
     ]
    }
   ],
   "source": [
    "!gurobi_cl"
   ]
  },
  {
   "cell_type": "code",
   "execution_count": null,
   "id": "c801d902",
   "metadata": {},
   "outputs": [
    {
     "name": "stdout",
     "output_type": "stream",
     "text": [
      "Collecting gurobipy\n",
      "  Downloading gurobipy-12.0.0-cp312-cp312-macosx_10_9_universal2.whl.metadata (15 kB)\n",
      "Downloading gurobipy-12.0.0-cp312-cp312-macosx_10_9_universal2.whl (12.1 MB)\n",
      "\u001b[2K   \u001b[90m━━━━━━━━━━━━━━━━━━━━━━━━━━━━━━━━━━━━━━━━\u001b[0m \u001b[32m12.1/12.1 MB\u001b[0m \u001b[31m10.2 MB/s\u001b[0m eta \u001b[36m0:00:00\u001b[0m00:01\u001b[0m00:01\u001b[0m\n",
      "\u001b[?25hInstalling collected packages: gurobipy\n",
      "Successfully installed gurobipy-12.0.0\n"
     ]
    }
   ],
   "source": [
    "# !pip install gurobipy"
   ]
  },
  {
   "cell_type": "code",
   "execution_count": 3,
   "id": "fc6563fc",
   "metadata": {},
   "outputs": [
    {
     "name": "stdout",
     "output_type": "stream",
     "text": [
      "spatial_analysis_course\n"
     ]
    }
   ],
   "source": [
    "!echo $CONDA_DEFAULT_ENV\n"
   ]
  },
  {
   "cell_type": "markdown",
   "id": "23dc167e",
   "metadata": {},
   "source": [
    "solution 3"
   ]
  },
  {
   "cell_type": "code",
   "execution_count": null,
   "id": "2ed6d94f",
   "metadata": {},
   "outputs": [],
   "source": [
    "# Fixed capacity of each charging spot\n",
    "cap_spot = 150\n",
    "\n",
    "# Maximum number of charging spots per site\n",
    "max_chargers = 5\n",
    "\n",
    "# Total budget limit for the number of chargers across all sites\n",
    "chargers_budget_limit = 10\n",
    "\n",
    "# Sample data\n",
    "A = [\"Area1\", \"Area2\", \"Area3\", \"Area4\"]  # All areas where EV drivers are based\n",
    "P = [\"Area1\", \"Area3\"]  # Areas with potential sites for EV charging stations (subset of A)\n",
    "\n",
    "# Number of trips from each site to each area\n",
    "tr = {\n",
    "    (\"Area1\", \"Area1\"): 100,\n",
    "    (\"Area1\", \"Area2\"): 200,\n",
    "    (\"Area1\", \"Area3\"): 50,\n",
    "    (\"Area3\", \"Area1\"): 150,\n",
    "    (\"Area3\", \"Area2\"): 300,\n",
    "    (\"Area3\", \"Area4\"): 100,\n",
    "}\n",
    "\n",
    "# Capacity of each area, representing the demand from EV owners\n",
    "c = {\n",
    "    \"Area1\": 500,\n",
    "    \"Area2\": 700,\n",
    "    \"Area3\": 300,\n",
    "    \"Area4\": 400\n",
    "}"
   ]
  },
  {
   "cell_type": "code",
   "execution_count": null,
   "id": "5fb026b4",
   "metadata": {},
   "outputs": [],
   "source": [
    "import random\n",
    "\n",
    "# Fixed capacity of each charging spot\n",
    "cap_spot = 150\n",
    "\n",
    "# Maximum number of charging spots per site\n",
    "max_chargers = 5\n",
    "\n",
    "# Total budget limit for the number of chargers across all sites\n",
    "chargers_budget_limit = 10\n",
    "\n",
    "N_AREAS = 20\n",
    "N_POTENTIAL_SITES = 5\n",
    "\n",
    "# Define the areas and potential station sites\n",
    "A = [f\"Area{i}\" for i in range(1, N_AREAS)]  # 20 areas\n",
    "\n",
    "# Randomly select 10-20% of areas to be potential station sites\n",
    "# num_potential_sites = random.randint(int(0.1 * len(A)), int(0.2 * len(A)))  # 10-20% of areas\n",
    "P = random.sample(A, N_POTENTIAL_SITES)  # Randomly choose potential sites from areas\n",
    "\n",
    "# Hardcoded number of trips from each potential station site to each area\n",
    "# Note: Only a subset of area pairs have trips to reflect realistic connections\n",
    "tr = {\n",
    "    (\"Area2\", \"Area1\"): 120, (\"Area2\", \"Area3\"): 250, (\"Area2\", \"Area6\"): 300, (\"Area2\", \"Area10\"): 150, (\"Area2\", \"Area15\"): 400,\n",
    "    (\"Area5\", \"Area2\"): 180, (\"Area5\", \"Area7\"): 220, (\"Area5\", \"Area11\"): 100, (\"Area5\", \"Area14\"): 340, (\"Area5\", \"Area18\"): 290,\n",
    "    (\"Area8\", \"Area4\"): 90, (\"Area8\", \"Area5\"): 160, (\"Area8\", \"Area9\"): 450, (\"Area8\", \"Area13\"): 110, (\"Area8\", \"Area17\"): 230,\n",
    "    (\"Area12\", \"Area6\"): 130, (\"Area12\", \"Area10\"): 280, (\"Area12\", \"Area11\"): 160, (\"Area12\", \"Area15\"): 210, (\"Area12\", \"Area19\"): 320,\n",
    "    (\"Area16\", \"Area8\"): 70, (\"Area16\", \"Area12\"): 190, (\"Area16\", \"Area13\"): 300, (\"Area16\", \"Area16\"): 270, (\"Area16\", \"Area20\"): 260\n",
    "}\n",
    "\n",
    "# Hardcoded capacities for each area (demand capacity of each area)\n",
    "c = {\n",
    "    \"Area1\": 500, \"Area2\": 600, \"Area3\": 750, \"Area4\": 480, \"Area5\": 650,\n",
    "    \"Area6\": 700, \"Area7\": 520, \"Area8\": 560, \"Area9\": 680, \"Area10\": 460,\n",
    "    \"Area11\": 640, \"Area12\": 590, \"Area13\": 620, \"Area14\": 610, \"Area15\": 730,\n",
    "    \"Area16\": 540, \"Area17\": 510, \"Area18\": 770, \"Area19\": 550, \"Area20\": 580\n",
    "}\n",
    "\n"
   ]
  },
  {
   "cell_type": "markdown",
   "id": "624b375e",
   "metadata": {},
   "source": [
    "random data:"
   ]
  },
  {
   "cell_type": "code",
   "execution_count": 14,
   "id": "7fba2dab",
   "metadata": {},
   "outputs": [],
   "source": [
    "import random\n",
    "\n",
    "N_AREAS = 2000\n",
    "N_POTENTIAL_SITES = 500\n",
    "chargers_budget_limit = 50 # Total budget limit for the number of chargers across all sites\n",
    "max_chargers_per_site = 25 # Maximum number of charging spots per site\n",
    "\n",
    "\n",
    "# Define the areas and potential station sites\n",
    "A = [f\"Area{i}\" for i in range(1, N_AREAS)]  # 20 areas\n",
    "\n",
    "# Randomly select 10-20% of areas to be potential station sites\n",
    "# num_potential_sites = random.randint(int(0.1 * len(A)), int(0.2 * len(A)))  # 10-20% of areas\n",
    "P = random.sample(A, N_POTENTIAL_SITES)  # Randomly choose potential sites from areas\n",
    "\n",
    "# Randomly generate trips from each potential station site to each area\n",
    "# Note: Each station site serves a random subset of areas, with trips varying between 50 and 500\n",
    "tr = {}\n",
    "for i in P:\n",
    "    for j in A:\n",
    "        if random.random() < 0.6:  # 60% chance that a station site serves a given area\n",
    "            tr[(i, j)] = random.randint(50, 500)\n",
    "\n",
    "# Random capacities for each area (between 400 and 1000)\n",
    "c = {j: random.randint(400, 1000) for j in A}\n",
    "\n",
    "# Fixed capacity of each charging spot\n",
    "cap_spot = 150\n",
    "\n"
   ]
  },
  {
   "cell_type": "markdown",
   "id": "9a0eccdf",
   "metadata": {},
   "source": [
    "real city like data:"
   ]
  },
  {
   "cell_type": "code",
   "execution_count": null,
   "id": "21a9546b",
   "metadata": {},
   "outputs": [
    {
     "name": "stdout",
     "output_type": "stream",
     "text": [
      "\n",
      "Trips Matrix (Potential Station Sites as rows, Areas as columns):\n",
      "        Area1  Area2  Area3  Area4  Area5  Area6  Area7  Area8  Area9  Area10\n",
      "Area1     995    738   1028    756    908    875   1196   1012    863     873\n",
      "Area10    915   1085    890   1103    851    179    190    226    235     188\n",
      "Area4     867    893    845   1042    976   1163   1033   1018    892     813\n",
      "Area5     972    817    723    869    757    903    989   1097    889     878\n",
      "Area6     902    970    803    811    831    152    174    180    168     207\n",
      "\n",
      "Area Capacities (c):\n",
      "          Area1  Area2  Area3  Area4  Area5  Area6  Area7  Area8  Area9  \\\n",
      "Capacity    128    112    146    135    109    879    990    910    859   \n",
      "\n",
      "          Area10  \n",
      "Capacity     997  \n",
      "\n",
      "Constants:\n",
      "cap_spot: 150\n",
      "max_chargers: 5\n",
      "chargers_budget_limit: 20\n"
     ]
    }
   ],
   "source": [
    "import pandas as pd\n",
    "\n",
    "import random\n",
    "\n",
    "# Parameters\n",
    "N_AREAS = 10\n",
    "N_POTENTIAL_SITES = 5\n",
    "\n",
    "# Define areas\n",
    "A = [f\"Area{i}\" for i in range(1, N_AREAS + 1)]  # 20 areas\n",
    "\n",
    "# Randomly select potential sites from areas\n",
    "P = random.sample(A, N_POTENTIAL_SITES)  # 10 areas as potential sites\n",
    "\n",
    "# Define hubs and residential areas\n",
    "# Assume first half of P are hubs and second half are residential areas\n",
    "hubs = A[:N_AREAS // 2]\n",
    "residential_areas = A[N_AREAS // 2:]\n",
    "\n",
    "# Generate trips based on area types\n",
    "tr = {}\n",
    "for i in P:\n",
    "    for j in A:\n",
    "        if i in hubs:\n",
    "            # Hubs receive higher inbound trips from residential areas\n",
    "            if j in residential_areas:\n",
    "                tr[(i, j)] = random.randint(800, 1200)\n",
    "            else:\n",
    "                tr[(i, j)] = random.randint(700, 1100)\n",
    "        elif i in residential_areas:\n",
    "            # Residential areas have higher outbound trips to hubs\n",
    "            if j in hubs:\n",
    "                tr[(i, j)] = random.randint(800, 1200)\n",
    "            else:\n",
    "                tr[(i, j)] = random.randint(150, 300)\n",
    "\n",
    "# Random capacities for each area (higher for residential areas)\n",
    "c = {}\n",
    "for j in A:\n",
    "    if j in residential_areas:\n",
    "        c[j] = random.randint(800, 1000)  # Higher population for residential areas\n",
    "    else:\n",
    "        c[j] = random.randint(100, 200)  # Lower population for hubs\n",
    "\n",
    "\n",
    "\n",
    "# Convert the trips dictionary `tr` to a DataFrame\n",
    "tr_matrix = pd.DataFrame(0, index=sorted(P), columns=A)  # Initialize with zeros\n",
    "\n",
    "# Populate the DataFrame with trip values\n",
    "for (i, j), value in tr.items():\n",
    "    tr_matrix.loc[i, j] = value\n",
    "\n",
    "# Display trips matrix\n",
    "print(\"\\nTrips Matrix (Potential Station Sites as rows, Areas as columns):\")\n",
    "print(tr_matrix)\n",
    "\n",
    "# Convert capacities dictionary `c` to a DataFrame\n",
    "c_df = pd.DataFrame.from_dict(c, orient='index', columns=['Capacity'])\n",
    "\n",
    "# Display capacities matrix\n",
    "print(\"\\nArea Capacities (c):\")\n",
    "print(c_df.T)  # Transpose for a row-style display\n",
    "\n",
    "# Constants for the model\n",
    "print(\"\\nConstants:\")\n",
    "print(\"cap_spot:\", CAP_SPOT)\n",
    "print(\"max_chargers:\", MAX_CHARGERS)\n",
    "print(\"chargers_budget_limit:\", CHARGERS_BUDGET_LIMIT)\n"
   ]
  },
  {
   "cell_type": "code",
   "execution_count": 56,
   "id": "56b6e842",
   "metadata": {},
   "outputs": [
    {
     "name": "stdout",
     "output_type": "stream",
     "text": [
      "Gurobi Optimizer version 11.0.0 build v11.0.0rc2 (mac64[arm] - Darwin 23.5.0 23F79)\n",
      "\n",
      "CPU model: Apple M1 Pro\n",
      "Thread count: 10 physical cores, 10 logical processors, using up to 10 threads\n",
      "\n",
      "Optimize a model with 66 rows, 75 columns and 170 nonzeros\n",
      "Model fingerprint: 0x49558e9d\n",
      "Model has 10 general constraints\n",
      "Variable types: 70 continuous, 5 integer (0 binary)\n",
      "Coefficient statistics:\n",
      "  Matrix range     [1e-03, 2e+02]\n",
      "  Objective range  [1e+02, 1e+03]\n",
      "  Bounds range     [1e+00, 5e+00]\n",
      "  RHS range        [2e+01, 1e+03]\n",
      "  GenCon const rng [1e+00, 1e+00]\n",
      "Found heuristic solution: objective -0.0000000\n",
      "Presolve removed 50 rows and 10 columns\n",
      "Presolve time: 0.00s\n",
      "Presolved: 16 rows, 65 columns, 120 nonzeros\n",
      "Variable types: 60 continuous, 5 integer (0 binary)\n",
      "\n",
      "Root relaxation: objective 3.000000e+03, 37 iterations, 0.00 seconds (0.00 work units)\n",
      "\n",
      "    Nodes    |    Current Node    |     Objective Bounds      |     Work\n",
      " Expl Unexpl |  Obj  Depth IntInf | Incumbent    BestBd   Gap | It/Node Time\n",
      "\n",
      "     0     0 3000.00000    0    2   -0.00000 3000.00000      -     -    0s\n",
      "H    0     0                    2800.0000000 3000.00000  7.14%     -    0s\n",
      "H    0     0                    3000.0000000 3000.00000  0.00%     -    0s\n",
      "     0     0 3000.00000    0    2 3000.00000 3000.00000  0.00%     -    0s\n",
      "\n",
      "Explored 1 nodes (37 simplex iterations) in 0.01 seconds (0.00 work units)\n",
      "Thread count was 10 (of 10 available processors)\n",
      "\n",
      "Solution count 3: 3000 2800 -0 \n",
      "\n",
      "Optimal solution found (tolerance 1.00e-04)\n",
      "Best objective 3.000000000000e+03, best bound 3.000000000000e+03, gap 0.0000%\n",
      "Optimal solution found:\n",
      "Build 5 charging spots at site Area5\n",
      "Build 4 charging spots at site Area4\n",
      "Build 5 charging spots at site Area6\n",
      "Build 1 charging spots at site Area10\n",
      "Effective coverage for area Area1: 100.00% of capacity\n",
      "Effective coverage for area Area2: 100.00% of capacity\n",
      "Effective coverage for area Area3: 100.00% of capacity\n",
      "Effective coverage for area Area4: 100.00% of capacity\n",
      "Effective coverage for area Area5: 100.00% of capacity\n",
      "Effective coverage for area Area6: 17.29% of capacity\n",
      "Effective coverage for area Area7: 36.77% of capacity\n",
      "Effective coverage for area Area8: 95.05% of capacity\n",
      "Effective coverage for area Area9: 19.56% of capacity\n",
      "Effective coverage for area Area10: 82.35% of capacity\n"
     ]
    }
   ],
   "source": [
    "from gurobipy import Model, GRB, quicksum\n",
    "\n",
    "\n",
    "CHARGERS_BUDGET_LIMIT = 15\n",
    "CAP_SPOT = 200  # Each charging spot serves up to 150 trips\n",
    "MAX_CHARGERS = 5  # Maximum number of chargers per site\n",
    "\n",
    "\n",
    "\n",
    "# Create a new model\n",
    "model = Model(\"EV Charging Station Placement with Charger Capacities\")\n",
    "\n",
    "# Decision variables\n",
    "build = model.addVars(P, vtype=GRB.INTEGER, lb=0, ub=MAX_CHARGERS, name=\"build\")  # Number of charging spots at each site\n",
    "served = model.addVars(P, A, vtype=GRB.CONTINUOUS, lb=0, name=\"served\")  # Trips served from site i to area j\n",
    "z = model.addVars(A, vtype=GRB.CONTINUOUS, lb=0, ub=1, name=\"z\")  # Saturation level for each area\n",
    "\n",
    "# Auxiliary variable for raw saturation calculation\n",
    "saturation_raw = model.addVars(A, vtype=GRB.CONTINUOUS, lb=0, name=\"saturation_raw\")\n",
    "\n",
    "# Objective: Maximize the total effective coverage across all areas\n",
    "model.setObjective(quicksum(z[j] * c[j] for j in A), GRB.MAXIMIZE)\n",
    "\n",
    "\n",
    "# Constraints\n",
    "# Capacity constraint: Total trips served from site i to all areas cannot exceed the capacity from installed chargers\n",
    "for i in P:\n",
    "    model.addConstr(quicksum(served[i, j] for j in A) <= build[i] * CAP_SPOT, name=f\"capacity_constraint_{i}\")\n",
    "\n",
    "\n",
    "\n",
    "# Trip limit constraint: Trips served from site i to area j cannot exceed the actual trips\n",
    "for i, j in tr:\n",
    "    model.addConstr(served[i, j] <= tr[i, j], name=f\"trip_limit_{i}_{j}\")\n",
    "\n",
    "\n",
    "\n",
    "# Raw saturation calculation for each area\n",
    "for j in A:\n",
    "    model.addConstr(saturation_raw[j] == quicksum(served[i, j] for i in P if (i, j) in tr) / c[j], name=f\"saturation_raw_{j}\")\n",
    "\n",
    "\n",
    "\n",
    "# Saturation calculation: z[j] is the minimum of 1 and saturation_raw[j]\n",
    "for j in A:\n",
    "    model.addGenConstrMin(z[j], [saturation_raw[j], 1], name=f\"saturation_{j}\")\n",
    "\n",
    "# New constraint: Limit the total number of chargers built across all sites to chargers_budget_limit\n",
    "model.addConstr(quicksum(build[i] for i in P) <= CHARGERS_BUDGET_LIMIT, name=\"chargers_budget_limit\")\n",
    "\n",
    "# Optimize the model\n",
    "model.optimize()\n",
    "\n",
    "# Display results\n",
    "if model.status == GRB.OPTIMAL:\n",
    "    print(\"Optimal solution found:\")\n",
    "    for i in P:\n",
    "        if build[i].x > 0.5:\n",
    "            print(f\"Build {int(build[i].x)} charging spots at site {i}\")\n",
    "    for j in A:\n",
    "        a = 1\n",
    "        print(f\"Effective coverage for area {j}: {z[j].x * 100:.2f}% of capacity\")\n",
    "\n",
    "else:\n",
    "    print(\"No optimal solution found.\")\n",
    "\n"
   ]
  },
  {
   "cell_type": "code",
   "execution_count": 49,
   "id": "38c564d8",
   "metadata": {},
   "outputs": [
    {
     "name": "stdout",
     "output_type": "stream",
     "text": [
      "Optimal solution found:\n",
      "Build 5 charging spots at site Area5\n",
      "  Serve 135.0 trips to Area4\n",
      "  Serve 865.0 trips to Area8\n",
      "Build 4 charging spots at site Area4\n",
      "  Serve 112.0 trips to Area2\n",
      "  Serve 688.0 trips to Area10\n",
      "Build 5 charging spots at site Area6\n",
      "  Serve 118.0 trips to Area1\n",
      "  Serve 146.0 trips to Area3\n",
      "  Serve 109.0 trips to Area5\n",
      "  Serve 152.0 trips to Area6\n",
      "  Serve 174.0 trips to Area7\n",
      "  Serve 168.0 trips to Area9\n",
      "  Serve 133.0 trips to Area10\n",
      "Build 1 charging spots at site Area10\n",
      "  Serve 10.0 trips to Area1\n",
      "  Serve 190.0 trips to Area7\n",
      "Effective coverage for area Area1: 100.00% of capacity\n",
      "Effective coverage for area Area2: 100.00% of capacity\n",
      "Effective coverage for area Area3: 100.00% of capacity\n",
      "Effective coverage for area Area4: 100.00% of capacity\n",
      "Effective coverage for area Area5: 100.00% of capacity\n",
      "Effective coverage for area Area6: 17.29% of capacity\n",
      "Effective coverage for area Area7: 36.77% of capacity\n",
      "Effective coverage for area Area8: 95.05% of capacity\n",
      "Effective coverage for area Area9: 19.56% of capacity\n",
      "Effective coverage for area Area10: 82.35% of capacity\n"
     ]
    }
   ],
   "source": [
    "if model.status == GRB.OPTIMAL:\n",
    "    print(\"Optimal solution found:\")\n",
    "    for i in P:\n",
    "        if build[i].x > 0.5:\n",
    "            print(f\"Build {int(build[i].x)} charging spots at site {i}\")\n",
    "            for j in A:\n",
    "                if served[i,j].x > 0:\n",
    "                    print(f\"  Serve {served[i,j].x} trips to {j}\")\n",
    "    for j in A:\n",
    "        print(f\"Effective coverage for area {j}: {z[j].x * 100:.2f}% of capacity\")"
   ]
  },
  {
   "cell_type": "code",
   "execution_count": 51,
   "id": "d9a6d683",
   "metadata": {},
   "outputs": [
    {
     "ename": "IndexError",
     "evalue": "list index out of range",
     "output_type": "error",
     "traceback": [
      "\u001b[0;31m---------------------------------------------------------------------------\u001b[0m",
      "\u001b[0;31mIndexError\u001b[0m                                Traceback (most recent call last)",
      "Cell \u001b[0;32mIn[51], line 2\u001b[0m\n\u001b[1;32m      1\u001b[0m a \u001b[38;5;241m=\u001b[39m [\u001b[38;5;241m1\u001b[39m, \u001b[38;5;241m2\u001b[39m]\n\u001b[0;32m----> 2\u001b[0m \u001b[43ma\u001b[49m\u001b[43m[\u001b[49m\u001b[38;5;241;43m3\u001b[39;49m\u001b[43m]\u001b[49m\n",
      "\u001b[0;31mIndexError\u001b[0m: list index out of range"
     ]
    }
   ],
   "source": [
    "a = [1, 2]\n",
    "a[3]"
   ]
  }
 ],
 "metadata": {
  "kernelspec": {
   "display_name": "spatial_analysis_course",
   "language": "python",
   "name": "python3"
  },
  "language_info": {
   "codemirror_mode": {
    "name": "ipython",
    "version": 3
   },
   "file_extension": ".py",
   "mimetype": "text/x-python",
   "name": "python",
   "nbconvert_exporter": "python",
   "pygments_lexer": "ipython3",
   "version": "3.12.3"
  },
  "toc": {
   "base_numbering": 1,
   "nav_menu": {},
   "number_sections": true,
   "sideBar": true,
   "skip_h1_title": true,
   "title_cell": "Table of Contents",
   "title_sidebar": "Contents",
   "toc_cell": false,
   "toc_position": {
    "height": "calc(100% - 180px)",
    "left": "10px",
    "top": "150px",
    "width": "313.6px"
   },
   "toc_section_display": true,
   "toc_window_display": true
  },
  "varInspector": {
   "cols": {
    "lenName": 16,
    "lenType": 16,
    "lenVar": 40
   },
   "kernels_config": {
    "python": {
     "delete_cmd_postfix": "",
     "delete_cmd_prefix": "del ",
     "library": "var_list.py",
     "varRefreshCmd": "print(var_dic_list())"
    },
    "r": {
     "delete_cmd_postfix": ") ",
     "delete_cmd_prefix": "rm(",
     "library": "var_list.r",
     "varRefreshCmd": "cat(var_dic_list()) "
    }
   },
   "types_to_exclude": [
    "module",
    "function",
    "builtin_function_or_method",
    "instance",
    "_Feature"
   ],
   "window_display": false
  }
 },
 "nbformat": 4,
 "nbformat_minor": 5
}
