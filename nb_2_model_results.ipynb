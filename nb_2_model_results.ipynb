{
 "cells": [
  {
   "cell_type": "code",
   "execution_count": null,
   "metadata": {},
   "outputs": [],
   "source": [
    "import pickle\n",
    "import geopandas as gpd\n",
    "import folium\n",
    "import random\n"
   ]
  },
  {
   "cell_type": "code",
   "execution_count": 61,
   "metadata": {},
   "outputs": [],
   "source": [
    "# Load the geometry data for areas\n",
    "gdf_shp_areas = gpd.read_file(\"./data/block_groups_shapefiles_with_population.gpkg\", layer=\"areas\")\n",
    "gdf_shp_areas.area_demand = gdf_shp_areas.area_demand.astype(int)"
   ]
  },
  {
   "cell_type": "markdown",
   "metadata": {},
   "source": [
    "## Charger Placement"
   ]
  },
  {
   "cell_type": "markdown",
   "metadata": {},
   "source": [
    "### Shapes"
   ]
  },
  {
   "cell_type": "code",
   "execution_count": 76,
   "metadata": {},
   "outputs": [
    {
     "name": "stdout",
     "output_type": "stream",
     "text": [
      "Map created and saved as './data/maps/stations_built_map_shapes_upd1.html'.\n"
     ]
    }
   ],
   "source": [
    "# Load the built stations data\n",
    "with open(\"./data/model_output/built_stations.pkl\", \"rb\") as f:\n",
    "    built_stations = pickle.load(f)\n",
    "\n",
    "# Map the built station data to the GeoDataFrame\n",
    "gdf_built_stations = gdf_shp_areas.copy()\n",
    "gdf_built_stations['chargers_built'] = gdf_built_stations['full_id'].map(built_stations).fillna(0)\n",
    "\n",
    "# Filter out areas with no chargers\n",
    "gdf_built_stations_nonzero = gdf_built_stations[gdf_built_stations['chargers_built'] > 0]\n",
    "\n",
    "# Ensure the GeoDataFrame has the correct CRS (WGS84 for compatibility)\n",
    "if gdf_built_stations_nonzero.crs is None or gdf_built_stations_nonzero.crs.to_string() != \"EPSG:4326\":\n",
    "    gdf_built_stations_nonzero = gdf_built_stations_nonzero.to_crs(epsg=4326)\n",
    "\n",
    "# Style the base layer with gray and transparency\n",
    "base_style = {\n",
    "    'fillColor': '#d3d3d3',  # Light gray color for the base map\n",
    "    'fillOpacity': 0.1,      # Partial transparency\n",
    "    'color': '#d3d3d3',      # Border color to match the fill\n",
    "    'weight': 0.5            # Thin border for the areas\n",
    "}\n",
    "\n",
    "# Use the GeoPandas `explore` function to visualize with a blue palette\n",
    "map_stations = gdf_shp_areas.explore(\n",
    "    style_kwds=base_style,  # Style for the base layer\n",
    "    tooltip=[\"full_id\"],    # Tooltip for base layer areas\n",
    "    popup=True              # Enable pop-ups for base layer info\n",
    ")\n",
    "\n",
    "# Add the stations layer with the blue palette on top of the base layer\n",
    "stations_layer = gdf_built_stations_nonzero.explore(\n",
    "    column=\"chargers_built\",  # The column to visualize\n",
    "    cmap=\"Purples\",            # Blue color palette\n",
    "    vmin=-5,                    # Start the color spectrum at 1 (to make it darker for low values)\n",
    "    vmax=8,\n",
    "    legend=True,             # Show legend\n",
    "    legend_kwds={'caption': \"Chargers Built\"},  # Customize legend caption\n",
    "    tooltip=[\"full_id\", \"chargers_built\"],      # Show ID and chargers on hover\n",
    "    popup=True,              # Enable pop-ups for detailed info\n",
    "    m=map_stations           # Add to the existing map\n",
    ")\n",
    "\n",
    "# Save the map to an HTML file\n",
    "output_path = \"./data/maps/stations_built_map_shapes_upd1.html\"\n",
    "stations_layer.save(output_path)\n",
    "\n",
    "print(f\"Map created and saved as '{output_path}'.\")\n"
   ]
  },
  {
   "cell_type": "markdown",
   "metadata": {},
   "source": [
    "### Points"
   ]
  },
  {
   "cell_type": "code",
   "execution_count": null,
   "metadata": {},
   "outputs": [
    {
     "name": "stderr",
     "output_type": "stream",
     "text": [
      "/var/folders/9q/6xd73j7x5tqg10w1v1xhrcl80000gn/T/ipykernel_18284/3492515622.py:26: UserWarning: Geometry is in a geographic CRS. Results from 'centroid' are likely incorrect. Use 'GeoSeries.to_crs()' to re-project geometries to a projected CRS before this operation.\n",
      "\n",
      "  gdf_built_stations_nonzero['centroid'] = gdf_built_stations_nonzero.geometry.centroid\n",
      "/var/folders/9q/6xd73j7x5tqg10w1v1xhrcl80000gn/T/ipykernel_18284/3492515622.py:30: UserWarning: Geometry is in a geographic CRS. Results from 'centroid' are likely incorrect. Use 'GeoSeries.to_crs()' to re-project geometries to a projected CRS before this operation.\n",
      "\n",
      "  location=[gdf_shp_areas.geometry.centroid.y.mean(), gdf_shp_areas.geometry.centroid.x.mean()],\n"
     ]
    },
    {
     "name": "stdout",
     "output_type": "stream",
     "text": [
      "Map created and saved as './data/maps/stations_built_map_points.html'.\n"
     ]
    }
   ],
   "source": [
    "# Load the built stations data\n",
    "with open(\"./data/model_output/built_stations.pkl\", \"rb\") as f:\n",
    "    built_stations = pickle.load(f)\n",
    "\n",
    "# Map the built station data to the GeoDataFrame\n",
    "gdf_built_stations = gdf_shp_areas.copy()\n",
    "gdf_built_stations['chargers_built'] = gdf_built_stations['full_id'].map(built_stations).fillna(0)\n",
    "\n",
    "# Filter out areas with no chargers\n",
    "gdf_built_stations_nonzero = gdf_built_stations[gdf_built_stations['chargers_built'] > 0]\n",
    "\n",
    "# Ensure the GeoDataFrame has the correct CRS (WGS84 for compatibility)\n",
    "if gdf_built_stations.crs is None or gdf_built_stations.crs.to_string() != \"EPSG:4326\":\n",
    "    gdf_shp_areas = gdf_shp_areas.to_crs(epsg=4326)\n",
    "    gdf_built_stations_nonzero = gdf_built_stations_nonzero.to_crs(epsg=4326)\n",
    "\n",
    "# Calculate centroids for stations\n",
    "gdf_built_stations_nonzero['centroid'] = gdf_built_stations_nonzero.geometry.centroid\n",
    "\n",
    "# Create the base map\n",
    "map_stations = folium.Map(\n",
    "    location=[gdf_shp_areas.geometry.centroid.y.mean(), gdf_shp_areas.geometry.centroid.x.mean()],\n",
    "    zoom_start=8\n",
    ")\n",
    "\n",
    "# Add transparent base layer for areas with interactivity\n",
    "folium.GeoJson(\n",
    "    gdf_shp_areas,\n",
    "    style_function=lambda x: {\n",
    "        'fillColor': '#d3d3d3',\n",
    "        'fillOpacity': 0.4,\n",
    "        'color': '#d3d3d3',\n",
    "        'weight': 0.5\n",
    "    },\n",
    "    tooltip=folium.GeoJsonTooltip(\n",
    "        fields=['full_id'],  # Replace with the columns you want to show\n",
    "        aliases=['Area ID:'],  # Alias for better readability\n",
    "        localize=True\n",
    "    ),\n",
    "    popup=folium.GeoJsonPopup(\n",
    "        fields=['full_id'],  # Replace with the columns you want to show in the popup\n",
    "        aliases=['Area ID:'],  # Alias for better readability\n",
    "        localize=True\n",
    "    ),\n",
    "    name='Base Layer'\n",
    ").add_to(map_stations)\n",
    "\n",
    "# Add jittered points for chargers\n",
    "for _, row in gdf_built_stations_nonzero.iterrows():\n",
    "    chargers = int(row['chargers_built'])  # Number of chargers\n",
    "    centroid = row['centroid']\n",
    "    \n",
    "    # Generate jittered points around the centroid\n",
    "    for _ in range(chargers):\n",
    "        jitter_lat = centroid.y + random.uniform(-0.0030, 0.0030)  # Small jitter in latitude\n",
    "        jitter_lon = centroid.x + random.uniform(-0.0030, 0.0030)  # Small jitter in longitude\n",
    "        \n",
    "        # Add the point to the map\n",
    "        folium.CircleMarker(\n",
    "            location=[jitter_lat, jitter_lon],\n",
    "            radius=2,  # Small radius\n",
    "            color='purple',\n",
    "            fill=True,\n",
    "            fill_color='purple',\n",
    "            fill_opacity=0.8\n",
    "        ).add_to(map_stations)\n",
    "\n",
    "# Save the map to an HTML file\n",
    "output_path = \"./data/maps/stations_built_map_points.html\"\n",
    "map_stations.save(output_path)\n",
    "\n",
    "print(f\"Map created and saved as '{output_path}'.\")\n"
   ]
  },
  {
   "cell_type": "markdown",
   "metadata": {},
   "source": [
    "## Area Coverage"
   ]
  },
  {
   "cell_type": "markdown",
   "metadata": {},
   "source": [
    "### Percentages"
   ]
  },
  {
   "cell_type": "code",
   "execution_count": 67,
   "metadata": {},
   "outputs": [
    {
     "name": "stdout",
     "output_type": "stream",
     "text": [
      "Map created and saved as './data/maps/area_coverage_map.html'.\n"
     ]
    }
   ],
   "source": [
    "# Load the coverage percentages data\n",
    "with open(\"./data/model_output/coverage_percentages.pkl\", \"rb\") as f:\n",
    "    coverage_percentages = pickle.load(f)\n",
    "\n",
    "# Map the coverage data to the GeoDataFrame\n",
    "gdf_coverage = gdf_shp_areas.copy()\n",
    "gdf_coverage['coverage_percentage'] = gdf_coverage['full_id'].map(coverage_percentages).fillna(0)\n",
    "\n",
    "# Ensure the GeoDataFrame has the correct CRS (WGS84 for compatibility)\n",
    "if gdf_coverage.crs is None or gdf_coverage.crs.to_string() != \"EPSG:4326\":\n",
    "    gdf_coverage = gdf_coverage.to_crs(epsg=4326)\n",
    "\n",
    "# Style the base layer with gray and transparency\n",
    "base_style = {\n",
    "    'fillColor': '#d3d3d3',  # Light gray color for the base map\n",
    "    'fillOpacity': 0.1,      # Partial transparency\n",
    "    'color': '#d3d3d3',      # Border color to match the fill\n",
    "    'weight': 0.5            # Thin border for the areas\n",
    "}\n",
    "\n",
    "# Use the GeoPandas `explore` function to visualize the base layer\n",
    "map_coverage = gdf_shp_areas.explore(\n",
    "    style_kwds=base_style,  # Style for the base layer\n",
    "    tooltip=[\"full_id\", \"area_demand\"],    # Tooltip for base layer areas\n",
    "    popup=True              # Enable pop-ups for base layer info\n",
    ")\n",
    "\n",
    "gdf_coverage.coverage_percentage= gdf_coverage.coverage_percentage.astype(int)\n",
    "# Add the area coverage layer with a green palette on top of the base layer\n",
    "coverage_layer = gdf_coverage.explore(\n",
    "    column=\"coverage_percentage\",  # The column to visualize\n",
    "    cmap=\"YlGn\",                   # Yellow-Green color palette for coverage\n",
    "    vmin=0,                        # Start at 0% coverage\n",
    "    vmax=100,                      # Max coverage at 100%\n",
    "    legend=True,                   # Show legend\n",
    "    tooltip=[\"full_id\", \"coverage_percentage\", \"area_demand\"],          # Show on hover\n",
    "    popup=True,                   # Enable pop-ups for detailed info\n",
    "    m=map_coverage                # Add to the existing map\n",
    ")\n",
    "\n",
    "# Save the map to an HTML file\n",
    "output_path = \"./data/maps/area_coverage_map.html\"\n",
    "coverage_layer.save(output_path)\n",
    "\n",
    "print(f\"Map created and saved as '{output_path}'.\")\n"
   ]
  },
  {
   "cell_type": "markdown",
   "metadata": {},
   "source": [
    "### Absolutes"
   ]
  },
  {
   "cell_type": "code",
   "execution_count": 77,
   "metadata": {},
   "outputs": [
    {
     "name": "stdout",
     "output_type": "stream",
     "text": [
      "Map created and saved as './data/maps/area_coverage_map_absolutes_upd1.html'.\n"
     ]
    }
   ],
   "source": [
    "# Load the coverage percentages data\n",
    "with open(\"./data/model_output/coverage_percentages.pkl\", \"rb\") as f:\n",
    "    coverage_percentages = pickle.load(f)\n",
    "\n",
    "# Map the coverage data to the GeoDataFrame\n",
    "gdf_coverage = gdf_shp_areas.copy()\n",
    "gdf_coverage['coverage_percentage'] = gdf_coverage['full_id'].map(coverage_percentages).fillna(0)\n",
    "gdf_coverage['coverage_absolute'] = ((gdf_coverage['coverage_percentage']/100) * gdf_coverage['area_demand']).astype(int)\n",
    "\n",
    "# Ensure the GeoDataFrame has the correct CRS (WGS84 for compatibility)\n",
    "if gdf_coverage.crs is None or gdf_coverage.crs.to_string() != \"EPSG:4326\":\n",
    "    gdf_coverage = gdf_coverage.to_crs(epsg=4326)\n",
    "\n",
    "# Style the base layer with gray and transparency\n",
    "base_style = {\n",
    "    'fillColor': '#d3d3d3',  # Light gray color for the base map\n",
    "    'fillOpacity': 0.1,      # Partial transparency\n",
    "    'color': '#d3d3d3',      # Border color to match the fill\n",
    "    'weight': 0.5            # Thin border for the areas\n",
    "}\n",
    "\n",
    "# Use the GeoPandas `explore` function to visualize the base layer\n",
    "map_coverage = gdf_shp_areas.explore(\n",
    "    style_kwds=base_style,  # Style for the base layer\n",
    "    tooltip=[\"full_id\", \"area_demand\"],    # Tooltip for base layer areas\n",
    "    popup=True              # Enable pop-ups for base layer info\n",
    ")\n",
    "\n",
    "gdf_coverage.coverage_percentage= gdf_coverage.coverage_percentage.astype(int)\n",
    "vmax_value = gdf_coverage.coverage_absolute.quantile(0.8)\n",
    "# Add the area coverage layer with a green palette on top of the base layer\n",
    "coverage_layer = gdf_coverage.explore(\n",
    "    column=\"coverage_absolute\",  # The column to visualize\n",
    "    cmap=\"YlGn\",                   # Yellow-Green color palette for coverage\n",
    "    vmin=0,                        \n",
    "    vmax=vmax_value,               \n",
    "    legend=True,                   # Show legend\n",
    "    tooltip=[\"full_id\", \"coverage_absolute\", \"coverage_percentage\", \"area_demand\"],          # Show on hover\n",
    "    popup=True,                   # Enable pop-ups for detailed info\n",
    "    m=map_coverage                # Add to the existing map\n",
    ")\n",
    "\n",
    "# Save the map to an HTML file\n",
    "output_path = \"./data/maps/area_coverage_map_absolutes_upd1.html\"\n",
    "coverage_layer.save(output_path)\n",
    "\n",
    "print(f\"Map created and saved as '{output_path}'.\")\n"
   ]
  }
 ],
 "metadata": {
  "kernelspec": {
   "display_name": "spatial_analysis_course",
   "language": "python",
   "name": "python3"
  },
  "language_info": {
   "codemirror_mode": {
    "name": "ipython",
    "version": 3
   },
   "file_extension": ".py",
   "mimetype": "text/x-python",
   "name": "python",
   "nbconvert_exporter": "python",
   "pygments_lexer": "ipython3",
   "version": "3.12.3"
  }
 },
 "nbformat": 4,
 "nbformat_minor": 2
}
