{
 "cells": [
  {
   "cell_type": "code",
   "execution_count": 2,
   "id": "a6223b5c",
   "metadata": {
    "ExecuteTime": {
     "end_time": "2022-02-13T12:03:24.780316Z",
     "start_time": "2022-02-13T12:03:24.768212Z"
    }
   },
   "outputs": [],
   "source": [
    "# BASIC LIBS\n",
    "\n",
    "# data\n",
    "import pandas as pd\n",
    "import numpy as np\n",
    "\n",
    "import geopandas as gpd\n",
    "import contextily as ctx\n",
    "from pyproj import CRS\n",
    "\n",
    "# stat significance\n",
    "import scipy as sp\n",
    "\n",
    "# visualisation\n",
    "import matplotlib.pyplot as plt\n",
    "import seaborn as sns\n",
    "%matplotlib inline\n",
    "sns.set()\n",
    "%config InlineBackend.figure_format = 'retina'\n",
    "\n",
    "\n",
    "# JUPYTER CONFIG\n",
    "import warnings\n",
    "warnings.filterwarnings('ignore')\n",
    "\n",
    "pd.set_option('display.max_columns', 100)\n",
    "pd.set_option('display.max_rows', 100)\n",
    "\n",
    "# helper consts\n",
    "THOUSAND = 1000\n",
    "MILLION = 1000000"
   ]
  },
  {
   "cell_type": "markdown",
   "id": "cdb07233",
   "metadata": {},
   "source": [
    "# DATA"
   ]
  },
  {
   "cell_type": "markdown",
   "id": "c1a3af47",
   "metadata": {},
   "source": [
    "## TRIPS"
   ]
  },
  {
   "cell_type": "markdown",
   "id": "45b38df5",
   "metadata": {},
   "source": [
    "### load"
   ]
  },
  {
   "cell_type": "code",
   "execution_count": 175,
   "id": "69688af4",
   "metadata": {},
   "outputs": [],
   "source": [
    "df_trips_initial = pd.read_csv('./data/georgia_od_data/GDOT_2019_09_large.csv')"
   ]
  },
  {
   "cell_type": "code",
   "execution_count": 176,
   "id": "18d5d258",
   "metadata": {},
   "outputs": [],
   "source": [
    "df_sample = df_trips_initial"
   ]
  },
  {
   "cell_type": "code",
   "execution_count": 177,
   "id": "9c1958e4",
   "metadata": {},
   "outputs": [
    {
     "data": {
      "text/plain": [
       "Index(['month', 'origin_zone_id', 'destination_zone_id', 'origin_zone_name',\n",
       "       'destination_zone_name', 'origin_state', 'destination_state',\n",
       "       'origin_flag', 'destination_flag', 'day_type', 'avg_linked_trips',\n",
       "       'avg_unlinked_trips', 'avg_tours', 'total_linked_trips',\n",
       "       'total_unlinked_trips', 'total_tours', 'hour_00', 'hour_01', 'hour_02'],\n",
       "      dtype='object')"
      ]
     },
     "execution_count": 177,
     "metadata": {},
     "output_type": "execute_result"
    }
   ],
   "source": [
    "df_sample.columns[1:20]"
   ]
  },
  {
   "cell_type": "markdown",
   "id": "4e97a4a1",
   "metadata": {},
   "source": [
    "### how we define trips"
   ]
  },
  {
   "cell_type": "code",
   "execution_count": 178,
   "id": "e00fd54e",
   "metadata": {},
   "outputs": [],
   "source": [
    "df_sample_ = df_sample.rename({\n",
    "    \"origin_zone_id\":\"ORIG\", \n",
    "    \"destination_zone_id\":\"DEST\",\n",
    "\n",
    "}, axis=1)\n",
    "\n",
    "# removing from areas for now since i dont have populations for them and that creates problems\n",
    "df_sample_ = df_sample_.query(\"destination_state == 'GA' and origin_state == 'GA'\")\n",
    "\n",
    "df_sample_ = df_sample_[[\"ORIG\", \"DEST\", \"destination_state\", \"origin_state\", \"total_linked_trips\", \"total_unlinked_trips\",'purpose_hbw', 'purpose_hbo', 'purpose_wbo', 'purpose_obo']]\n",
    "df_sample_[\"TRIPS_HOMEBASED\"] = df_sample_.purpose_hbw + df_sample_.purpose_hbo\n",
    "df_sample_ = df_sample_[[\"ORIG\", \"DEST\", \"TRIPS_HOMEBASED\", \"origin_state\", \"destination_state\"]]\n",
    "\n",
    "df_sample_[\"ORIG\"] = df_sample_[\"ORIG\"].astype(str)\n",
    "df_sample_[\"DEST\"] = df_sample_[\"DEST\"].astype(str)"
   ]
  },
  {
   "cell_type": "code",
   "execution_count": 179,
   "id": "0d1a4a2d",
   "metadata": {},
   "outputs": [
    {
     "name": "stdout",
     "output_type": "stream",
     "text": [
      "<class 'pandas.core.frame.DataFrame'>\n",
      "Index: 3314270 entries, 20583 to 3541626\n",
      "Data columns (total 5 columns):\n",
      " #   Column             Dtype \n",
      "---  ------             ----- \n",
      " 0   ORIG               object\n",
      " 1   DEST               object\n",
      " 2   TRIPS_HOMEBASED    int64 \n",
      " 3   origin_state       object\n",
      " 4   destination_state  object\n",
      "dtypes: int64(1), object(4)\n",
      "memory usage: 151.7+ MB\n"
     ]
    }
   ],
   "source": [
    "df_sample_.info()"
   ]
  },
  {
   "cell_type": "markdown",
   "id": "8b43b2ec",
   "metadata": {},
   "source": [
    "### POTENTIAL SITES SET"
   ]
  },
  {
   "cell_type": "markdown",
   "id": "c5da44f4",
   "metadata": {},
   "source": [
    "#### Stage 1"
   ]
  },
  {
   "cell_type": "code",
   "execution_count": 205,
   "id": "42dda2b6",
   "metadata": {},
   "outputs": [],
   "source": [
    "incoming = df_sample_.groupby(['DEST', 'destination_state']).agg({\"TRIPS_HOMEBASED\":\"sum\"}).reset_index()\n",
    "outcoming = df_sample_.groupby('ORIG').agg({\"TRIPS_HOMEBASED\":\"sum\"}).reset_index()\n",
    "\n",
    "df_area_traffic_volume = incoming.merge(outcoming, left_on=\"DEST\", right_on=\"ORIG\", how = \"left\").dropna()\n",
    "df_area_traffic_volume['traffic_volume'] = df_area_traffic_volume['TRIPS_HOMEBASED_x'] + df_area_traffic_volume['TRIPS_HOMEBASED_y']\n",
    "df_area_traffic_volume = df_area_traffic_volume.drop(columns = ['ORIG']).rename({'DEST':'area', 'TRIPS_HOMEBASED_x':'incoming', 'TRIPS_HOMEBASED_y':'outcoming'}, axis = 1)\n",
    "\n",
    "df_area_traffic_volume = (\n",
    "df_area_traffic_volume\n",
    "    .query(\"destination_state == 'GA'\")\n",
    "    .sort_values('traffic_volume', ascending=False)\n",
    ")\n",
    "\n",
    "# df_area_traffic_volume.traffic_volume.quantile(0.9)"
   ]
  },
  {
   "cell_type": "code",
   "execution_count": 206,
   "id": "6517e772",
   "metadata": {},
   "outputs": [
    {
     "name": "stdout",
     "output_type": "stream",
     "text": [
      "7441\n",
      "Number_of_potential sites to pick:  1488\n"
     ]
    }
   ],
   "source": [
    "NUMBER_OF_AREAS = df_area_traffic_volume.area.nunique()\n",
    "POTENTIAL_SITES_NUMBER = int(NUMBER_OF_AREAS * 0.2)\n",
    "\n",
    "print(NUMBER_OF_AREAS)\n",
    "print('Number_of_potential sites to pick: ', POTENTIAL_SITES_NUMBER)\n",
    "\n",
    "P = set(df_area_traffic_volume.head(POTENTIAL_SITES_NUMBER).area)"
   ]
  },
  {
   "cell_type": "markdown",
   "id": "15639fd2",
   "metadata": {},
   "source": [
    "#### Stage 2 underserved"
   ]
  },
  {
   "cell_type": "markdown",
   "id": "ea91738a",
   "metadata": {},
   "source": [
    "1. COVERAGE SATURATION WITH STAGE 1 Ps\n",
    "2. get undercovered area\n",
    "3. calculate traffic again the same away but only on the sample of undercovered areas"
   ]
  },
  {
   "cell_type": "code",
   "execution_count": 207,
   "id": "c19a8e71",
   "metadata": {},
   "outputs": [],
   "source": [
    "# COVERAGE SATURATION WITH STAGE 1 Ps\n",
    "# \n",
    "\n",
    "# existing_Ps: Set of existing Ps\n",
    "# Example existing Ps\n",
    "existing_Ps = P\n",
    "# trips_dict: Dictionary with keys as (P, A) tuples and values as trips (its calculated for newly sample Ps on the stage after)\n",
    "\n",
    "\n",
    "# Step 1: Convert trips_dict to DataFrame\n",
    "# ---------------------------------------\n",
    "# Create a list of tuples from trips_dict items\n",
    "trips_data = list(trips_dict.items())\n",
    "\n",
    "# Convert to DataFrame\n",
    "trips_df = pd.DataFrame(trips_data, columns=['P_A', 'trips'])\n",
    "\n",
    "# Split 'P_A' into separate 'P' and 'A' columns\n",
    "trips_df[['P', 'A']] = pd.DataFrame(trips_df['P_A'].tolist(), index=trips_df.index)\n",
    "\n",
    "# Display the trips_df for verification\n",
    "# print(\"Trips DataFrame:\")\n",
    "# print(trips_df)\n",
    "# print(\"\\n\")\n",
    "\n",
    "# Step 2: Filter Trips to Include Only Existing Ps\n",
    "# -------------------------------------------------\n",
    "filtered_trips_df = trips_df[trips_df['P'].isin(existing_Ps)]\n",
    "\n",
    "# Display the filtered_trips_df for verification\n",
    "# print(\"Filtered Trips DataFrame (Only Existing Ps):\")\n",
    "# print(filtered_trips_df)\n",
    "# print(\"\\n\")\n",
    "\n",
    "# Step 3: Aggregate Trips by Area to Compute Traffic\n",
    "# ---------------------------------------------------\n",
    "# Group by 'A' and sum the 'trips' to get 'traffic'\n",
    "traffic_df = filtered_trips_df.groupby('A')['trips'].sum().reset_index()\n",
    "\n",
    "# Rename columns for clarity\n",
    "traffic_df.rename(columns={'A': 'area_id', 'trips': 'traffic'}, inplace=True)\n",
    "\n",
    "# Step 4: Merge Aggregated Traffic with df_demand\n",
    "# -----------------------------------------------\n",
    "# Merge df_demand with traffic_df on 'area_id'\n",
    "df_demand = (\n",
    "    gdf_block_groups_with_population[['full_id', 'area_demand']]\n",
    "    .rename({'full_id':'area_id', 'area_demand':'demand'}, axis = 1)\n",
    ")\n",
    "df_demand = df_demand.merge(traffic_df, on='area_id', how='left')\n",
    "\n",
    "# Step 5: Handle Missing Values in 'traffic'\n",
    "# ------------------------------------------\n",
    "# Replace NaN values in 'traffic' with 0 (indicating no incoming trips from existing Ps)\n",
    "df_demand['traffic'] = df_demand['traffic'].fillna(0).astype(int)\n",
    "\n",
    "\n",
    "df_demand['saturation'] = df_demand.traffic / df_demand.demand * 100\n",
    "df_demand = df_demand.sort_values([\"saturation\"], ascending=False)\n",
    "\n",
    "\n",
    "saturation_quantile = df_demand.saturation.quantile(0.45)\n",
    "df_underverved_areas = df_demand.query(\"saturation < @saturation_quantile\").sort_values([\"demand\"], ascending=False)\n",
    "\n",
    "undercovered_ids_set = set(df_underverved_areas.area_id.to_list())"
   ]
  },
  {
   "cell_type": "code",
   "execution_count": 208,
   "id": "43fc2288",
   "metadata": {},
   "outputs": [],
   "source": [
    "# we still include noncovered areas when choosing new Ps \n",
    "# we just dont use those areas for traffic calculation\n",
    "incoming_undercovered = (\n",
    "    df_sample_\n",
    "    .query(\"ORIG in @undercovered_ids_set\")\n",
    "    .groupby(['DEST', 'destination_state'])\n",
    "    .agg({\"TRIPS_HOMEBASED\":\"sum\"}).reset_index()\n",
    ")\n",
    "outcoming_undercovered = (\n",
    "    df_sample_\n",
    "    .query(\"DEST in @undercovered_ids_set\")\n",
    "    .groupby('ORIG')\n",
    "    .agg({\"TRIPS_HOMEBASED\":\"sum\"}).reset_index()\n",
    ")\n",
    "\n",
    "df_area_traffic_volume_undercovered = incoming_undercovered.merge(outcoming_undercovered, left_on=\"DEST\", right_on=\"ORIG\", how = \"left\").dropna()\n",
    "df_area_traffic_volume_undercovered['traffic_volume'] = df_area_traffic_volume_undercovered['TRIPS_HOMEBASED_x'] + df_area_traffic_volume_undercovered['TRIPS_HOMEBASED_y']\n",
    "df_area_traffic_volume_undercovered = df_area_traffic_volume_undercovered.drop(columns = ['ORIG']).rename({'DEST':'area', 'TRIPS_HOMEBASED_x':'incoming', 'TRIPS_HOMEBASED_y':'outcoming'}, axis = 1)\n",
    "\n",
    "df_area_traffic_volume_undercovered_sorted = (\n",
    "df_area_traffic_volume_undercovered\n",
    "    .query(\"area not in @P\")\n",
    "    .query(\"destination_state == 'GA'\")\n",
    "    .sort_values('traffic_volume', ascending=False)\n",
    ")"
   ]
  },
  {
   "cell_type": "code",
   "execution_count": 209,
   "id": "ae04dca6",
   "metadata": {},
   "outputs": [
    {
     "data": {
      "text/html": [
       "<div>\n",
       "<style scoped>\n",
       "    .dataframe tbody tr th:only-of-type {\n",
       "        vertical-align: middle;\n",
       "    }\n",
       "\n",
       "    .dataframe tbody tr th {\n",
       "        vertical-align: top;\n",
       "    }\n",
       "\n",
       "    .dataframe thead th {\n",
       "        text-align: right;\n",
       "    }\n",
       "</style>\n",
       "<table border=\"1\" class=\"dataframe\">\n",
       "  <thead>\n",
       "    <tr style=\"text-align: right;\">\n",
       "      <th></th>\n",
       "      <th>area</th>\n",
       "      <th>destination_state</th>\n",
       "      <th>incoming</th>\n",
       "      <th>outcoming</th>\n",
       "      <th>traffic_volume</th>\n",
       "    </tr>\n",
       "  </thead>\n",
       "  <tbody>\n",
       "    <tr>\n",
       "      <th>7403</th>\n",
       "      <td>133159604002</td>\n",
       "      <td>GA</td>\n",
       "      <td>106511</td>\n",
       "      <td>97839</td>\n",
       "      <td>204350</td>\n",
       "    </tr>\n",
       "    <tr>\n",
       "      <th>6852</th>\n",
       "      <td>132679504023</td>\n",
       "      <td>GA</td>\n",
       "      <td>102876</td>\n",
       "      <td>99440</td>\n",
       "      <td>202316</td>\n",
       "    </tr>\n",
       "    <tr>\n",
       "      <th>5123</th>\n",
       "      <td>131414804001</td>\n",
       "      <td>GA</td>\n",
       "      <td>96735</td>\n",
       "      <td>102915</td>\n",
       "      <td>199650</td>\n",
       "    </tr>\n",
       "    <tr>\n",
       "      <th>5127</th>\n",
       "      <td>131414804005</td>\n",
       "      <td>GA</td>\n",
       "      <td>97830</td>\n",
       "      <td>101792</td>\n",
       "      <td>199622</td>\n",
       "    </tr>\n",
       "    <tr>\n",
       "      <th>5811</th>\n",
       "      <td>131899502001</td>\n",
       "      <td>GA</td>\n",
       "      <td>123169</td>\n",
       "      <td>75509</td>\n",
       "      <td>198678</td>\n",
       "    </tr>\n",
       "    <tr>\n",
       "      <th>...</th>\n",
       "      <td>...</td>\n",
       "      <td>...</td>\n",
       "      <td>...</td>\n",
       "      <td>...</td>\n",
       "      <td>...</td>\n",
       "    </tr>\n",
       "    <tr>\n",
       "      <th>5706</th>\n",
       "      <td>131839800001</td>\n",
       "      <td>GA</td>\n",
       "      <td>1137</td>\n",
       "      <td>237</td>\n",
       "      <td>1374</td>\n",
       "    </tr>\n",
       "    <tr>\n",
       "      <th>3353</th>\n",
       "      <td>131171306111</td>\n",
       "      <td>GA</td>\n",
       "      <td>390</td>\n",
       "      <td>981</td>\n",
       "      <td>1371</td>\n",
       "    </tr>\n",
       "    <tr>\n",
       "      <th>4447</th>\n",
       "      <td>131350501212</td>\n",
       "      <td>GA</td>\n",
       "      <td>685</td>\n",
       "      <td>476</td>\n",
       "      <td>1161</td>\n",
       "    </tr>\n",
       "    <tr>\n",
       "      <th>4440</th>\n",
       "      <td>131350501182</td>\n",
       "      <td>GA</td>\n",
       "      <td>114</td>\n",
       "      <td>896</td>\n",
       "      <td>1010</td>\n",
       "    </tr>\n",
       "    <tr>\n",
       "      <th>5657</th>\n",
       "      <td>131790101031</td>\n",
       "      <td>GA</td>\n",
       "      <td>331</td>\n",
       "      <td>208</td>\n",
       "      <td>539</td>\n",
       "    </tr>\n",
       "  </tbody>\n",
       "</table>\n",
       "<p>5953 rows × 5 columns</p>\n",
       "</div>"
      ],
      "text/plain": [
       "              area destination_state  incoming  outcoming  traffic_volume\n",
       "7403  133159604002                GA    106511      97839          204350\n",
       "6852  132679504023                GA    102876      99440          202316\n",
       "5123  131414804001                GA     96735     102915          199650\n",
       "5127  131414804005                GA     97830     101792          199622\n",
       "5811  131899502001                GA    123169      75509          198678\n",
       "...            ...               ...       ...        ...             ...\n",
       "5706  131839800001                GA      1137        237            1374\n",
       "3353  131171306111                GA       390        981            1371\n",
       "4447  131350501212                GA       685        476            1161\n",
       "4440  131350501182                GA       114        896            1010\n",
       "5657  131790101031                GA       331        208             539\n",
       "\n",
       "[5953 rows x 5 columns]"
      ]
     },
     "execution_count": 209,
     "metadata": {},
     "output_type": "execute_result"
    }
   ],
   "source": [
    "df_area_traffic_volume_undercovered_sorted"
   ]
  },
  {
   "cell_type": "code",
   "execution_count": 210,
   "id": "9f40c0b1",
   "metadata": {},
   "outputs": [
    {
     "name": "stdout",
     "output_type": "stream",
     "text": [
      "7441\n",
      "Number_of_potential sites picked 1st stage:  1488\n",
      "Number_of_potential sites picked 2nd stage:  491\n",
      "Number_of_potential sites picked total:  1979\n"
     ]
    }
   ],
   "source": [
    "STAGE_2_SITES_NUMBER = int(POTENTIAL_SITES_NUMBER * 0.33)\n",
    "\n",
    "print(NUMBER_OF_AREAS)\n",
    "print('Number_of_potential sites picked 1st stage: ', POTENTIAL_SITES_NUMBER)\n",
    "\n",
    "P_2 = set(df_area_traffic_volume_undercovered_sorted.head(STAGE_2_SITES_NUMBER).area)\n",
    "print('Number_of_potential sites picked 2nd stage: ', STAGE_2_SITES_NUMBER)\n",
    "\n",
    "P = P | P_2\n",
    "print('Number_of_potential sites picked total: ', len(P))"
   ]
  },
  {
   "cell_type": "markdown",
   "id": "d3447aff",
   "metadata": {},
   "source": [
    "### bi-directional -> one directional"
   ]
  },
  {
   "cell_type": "code",
   "execution_count": 211,
   "id": "c6598ab3",
   "metadata": {},
   "outputs": [],
   "source": [
    "\n",
    "\"\"\"\n",
    "Optimized function to calculate trips dictionary for a subset of origins (P),\n",
    "including only trips that either begin or end at P.\n",
    "\n",
    "Args:\n",
    "    df (pd.DataFrame): DataFrame with columns [\"ORIG\", \"DEST\", \"TRIPS_HOMEBASED\"].\n",
    "    P (set): Subset of ORIG values.\n",
    "    \n",
    "Returns:\n",
    "    dict: Dictionary with keys (P, ORIG) and values as the sum of P -> ORIG and ORIG -> P trips.\n",
    "\"\"\"\n",
    "df = df_sample_\n",
    "\n",
    "# Filter the DataFrame to include only rows where ORIG or DEST is in P\n",
    "df_filtered = df[(df[\"ORIG\"].isin(P)) | (df[\"DEST\"].isin(P))]\n",
    "\n",
    "# Group by (ORIG, DEST) and sum TRIPS_HOMEBASED\n",
    "grouped = df_filtered.groupby([\"ORIG\", \"DEST\"])[\"TRIPS_HOMEBASED\"].sum()\n",
    "\n",
    "# Convert grouped data to a dictionary for fast lookups\n",
    "trip_lookup = grouped.to_dict()\n",
    "\n",
    "# Initialize the trips dictionary\n",
    "trips_dict = {}\n",
    "\n",
    "# Calculate the sum of P -> ORIG and ORIG -> P for all pairs\n",
    "for p in P:\n",
    "    for orig in df_filtered[\"ORIG\"].unique():\n",
    "        # Get P -> ORIG\n",
    "        p_to_orig = trip_lookup.get((p, orig), 0)\n",
    "        \n",
    "        # Get ORIG -> P\n",
    "        orig_to_p = trip_lookup.get((orig, p), 0)\n",
    "        \n",
    "        # Update the dictionary with the sum\n",
    "        trips_dict[(p, orig)] = p_to_orig + orig_to_p\n",
    "    \n",
    "\n",
    "# Keep only non-zero values in trips_dict\n",
    "trips_dict = {key: value for key, value in trips_dict.items() if value != 0}\n"
   ]
  },
  {
   "cell_type": "code",
   "execution_count": 212,
   "id": "5fe2cd12",
   "metadata": {},
   "outputs": [
    {
     "data": {
      "text/plain": [
       "1"
      ]
     },
     "execution_count": 212,
     "metadata": {},
     "output_type": "execute_result"
    }
   ],
   "source": [
    "# trips_dict now is P -> A = P -> A + A -> P\n",
    "trips_dict\n",
    "1"
   ]
  },
  {
   "cell_type": "code",
   "execution_count": 213,
   "id": "69de6f0c",
   "metadata": {},
   "outputs": [
    {
     "data": {
      "text/plain": [
       "7441"
      ]
     },
     "execution_count": 213,
     "metadata": {},
     "output_type": "execute_result"
    }
   ],
   "source": [
    "len({el[1] for el in trips_dict.keys()})"
   ]
  },
  {
   "cell_type": "markdown",
   "id": "f360af7b",
   "metadata": {},
   "source": [
    "## AREAS SET"
   ]
  },
  {
   "cell_type": "code",
   "execution_count": 215,
   "id": "ce81e345",
   "metadata": {},
   "outputs": [],
   "source": [
    "temp = df_sample_\n",
    "A = set(temp.ORIG.unique()) | set(temp.DEST.unique())"
   ]
  },
  {
   "cell_type": "code",
   "execution_count": 216,
   "id": "e6f0382b",
   "metadata": {},
   "outputs": [
    {
     "data": {
      "text/plain": [
       "7441"
      ]
     },
     "execution_count": 216,
     "metadata": {},
     "output_type": "execute_result"
    }
   ],
   "source": [
    "len(A)"
   ]
  },
  {
   "cell_type": "markdown",
   "id": "ac810402",
   "metadata": {},
   "source": [
    "## AREAS DEMAND"
   ]
  },
  {
   "cell_type": "markdown",
   "id": "a237a494",
   "metadata": {},
   "source": [
    "### infer areas (block groups) populations from tracts (NA)\n",
    "it works but ids now matched and we could just merge, leave for now since it still does the job"
   ]
  },
  {
   "cell_type": "code",
   "execution_count": 3,
   "id": "76e8a23e",
   "metadata": {},
   "outputs": [],
   "source": [
    "gdf_block_groups_shapefiles = gpd.read_file(r\"./data/georgia_bg_shapefiles/tl_2021_13_bg/tl_2021_13_bg.shp\") # competition description is wrong - 2019 does not match\n",
    "df_population_by_tract = pd.read_csv('./data/population_by_tract_2021.csv')\n",
    "\n",
    "# run only with df load, since it shortens str\n",
    "df_population_by_tract = df_population_by_tract.rename({\"Geographic ID for geographic unit\":\"GEOID\", \"# Total population, 2021\":\"POP\"}, axis=1)\n",
    "gdf_block_groups_shapefiles[\"GEOID\"] = gdf_block_groups_shapefiles[\"GEOID\"].str[:-1]\n",
    "\n",
    "gdf_tracts_shapefiles_2021 = gpd.read_file(r\"./data/georgia_tract_data/tl_2021_13_tract/tl_2021_13_tract.shp\")"
   ]
  },
  {
   "cell_type": "code",
   "execution_count": 218,
   "id": "23d728a1",
   "metadata": {},
   "outputs": [],
   "source": [
    "# df_join = (\n",
    "#     gdf_block_groups_shapefiles\n",
    "#     [[\"GEOID\", \"BLKGRPCE\", \"geometry\"]]\n",
    "#     .merge(df_population_by_tract[[\"GEOID\", \"POP\"]].astype(str), on = \"GEOID\", how = \"left\")\n",
    "# )\n",
    "# df_join.POP.isna().value_counts()"
   ]
  },
  {
   "cell_type": "markdown",
   "id": "15831fbf",
   "metadata": {},
   "source": [
    "Tract of 40% of block groups is missing!!!  \n",
    "reason - different year. tracts have changes from 2019 to 2021  \n",
    "fix:  "
   ]
  },
  {
   "cell_type": "code",
   "execution_count": 219,
   "id": "3c38696e",
   "metadata": {},
   "outputs": [
    {
     "data": {
      "text/plain": [
       "10.625615"
      ]
     },
     "execution_count": 219,
     "metadata": {},
     "output_type": "execute_result"
    }
   ],
   "source": [
    "gdf_population_by_tract = (\n",
    "    gdf_tracts_shapefiles_2021\n",
    "    [[\"GEOID\", \"geometry\"]]\n",
    "    .merge(df_population_by_tract[[\"GEOID\", \"POP\"]].astype(str), on = \"GEOID\", how = \"right\")\n",
    ")\n",
    "gdf_population_by_tract.POP.astype(int).sum() / MILLION"
   ]
  },
  {
   "cell_type": "markdown",
   "id": "7f21f271",
   "metadata": {},
   "source": [
    "for each block group, assign population of its corresponding tract (block group data have the format of: tract_id, block_group_number, geometry of blockgroup shape; tract data have geomtetry of tract shape) if are of block group coincide well enough with tract area (in many cases it wont coincide perfectly cuz tract shapes have changed (they are from a different year)\n",
    "\n",
    "write me a code to do it\n",
    "\n",
    "p.s. No need to infer block group population in a smart way, just assign the tract population (i will transform it to block group population later)"
   ]
  },
  {
   "cell_type": "code",
   "execution_count": 220,
   "id": "352a0058",
   "metadata": {},
   "outputs": [],
   "source": [
    "# Load the shapefiles\n",
    "block_groups_2021 = gdf_block_groups_shapefiles\n",
    "tracts_2021 = gdf_population_by_tract\n",
    "\n",
    "# Ensure both GeoDataFrames have the same CRS\n",
    "block_groups_2021 = block_groups_2021.to_crs(tracts_2021.crs)\n",
    "\n",
    "\n",
    "tracts_2021['tract_geom'] = tracts_2021['geometry']\n",
    "# Spatial join: Assign tract data to block groups\n",
    "block_groups_with_population = gpd.sjoin(\n",
    "    block_groups_2021[['GEOID', 'BLKGRPCE', 'geometry']], tracts_2021[['GEOID', 'geometry', 'POP', 'tract_geom']], \n",
    "    how='left', \n",
    "    predicate='intersects'  # Match tracts and block groups based on overlapping areas\n",
    ")\n",
    "\n",
    "# Calculate the percentage overlap for cases where multiple tracts intersect a block group\n",
    "block_groups_with_population['overlap_area'] = block_groups_with_population.geometry.intersection(\n",
    "    block_groups_with_population['tract_geom']\n",
    ").area\n",
    "\n",
    "# Retain only the tract with the largest overlap for each block group\n",
    "\n",
    "block_groups_with_population['overlap_percent'] = block_groups_with_population.overlap_area / block_groups_with_population.geometry.area * 100\n",
    "block_groups_with_population['overlap_percent'] = block_groups_with_population['overlap_percent'].apply(lambda x: round(x, 3))\n",
    "block_groups_with_population = (\n",
    "    block_groups_with_population\n",
    "        .sort_values(['GEOID_left', 'BLKGRPCE', 'overlap_percent'], ascending=[True, True, False])\n",
    "        .drop_duplicates(subset=['GEOID_left', 'BLKGRPCE'])\n",
    ")\n",
    "\n",
    "\n",
    "block_groups_with_population = block_groups_with_population.drop(columns=['index_right', 'GEOID_right', 'tract_geom']).rename({'POP':'tract_pop', 'GEOID_left': 'GEOID'}, axis = 1)"
   ]
  },
  {
   "cell_type": "code",
   "execution_count": 221,
   "id": "0e760ed6",
   "metadata": {},
   "outputs": [
    {
     "data": {
      "text/html": [
       "<div>\n",
       "<style scoped>\n",
       "    .dataframe tbody tr th:only-of-type {\n",
       "        vertical-align: middle;\n",
       "    }\n",
       "\n",
       "    .dataframe tbody tr th {\n",
       "        vertical-align: top;\n",
       "    }\n",
       "\n",
       "    .dataframe thead th {\n",
       "        text-align: right;\n",
       "    }\n",
       "</style>\n",
       "<table border=\"1\" class=\"dataframe\">\n",
       "  <thead>\n",
       "    <tr style=\"text-align: right;\">\n",
       "      <th></th>\n",
       "      <th>GEOID</th>\n",
       "      <th>BLKGRPCE</th>\n",
       "      <th>geometry</th>\n",
       "      <th>tract_pop</th>\n",
       "      <th>overlap_area</th>\n",
       "      <th>overlap_percent</th>\n",
       "    </tr>\n",
       "  </thead>\n",
       "  <tbody>\n",
       "  </tbody>\n",
       "</table>\n",
       "</div>"
      ],
      "text/plain": [
       "Empty GeoDataFrame\n",
       "Columns: [GEOID, BLKGRPCE, geometry, tract_pop, overlap_area, overlap_percent]\n",
       "Index: []"
      ]
     },
     "execution_count": 221,
     "metadata": {},
     "output_type": "execute_result"
    }
   ],
   "source": [
    "#   model.addConstr(saturation_raw[j] == quicksum(served[i, j] for i in P if (i, j) in tr) / c[j], name=f\"saturation_raw_{j}\")\n",
    "#                                          ~~~~~~~~~~~~~~~~~~~~~~~~~~~~~~~~~~~~~~~~~~~~~~~~~~^~~~~~\n",
    "#   File \"src/gurobipy/linexpr.pxi\", line 572, in gurobipy.LinExpr.__truediv__\n",
    "# ZeroDivisionError: float division\n",
    "\n",
    "# model can't divide by zero \n",
    "# if population is zero its probably missing => replace with the global median for now (todo: interpolate from the neighboring areas)\n",
    "\n",
    "block_groups_with_population.tract_pop = block_groups_with_population.tract_pop.astype(int)\n",
    "TEMP_MEDIAN = block_groups_with_population.tract_pop.median()\n",
    "block_groups_with_population.loc[block_groups_with_population.tract_pop == 0, 'tract_pop'] = TEMP_MEDIAN\n",
    "block_groups_with_population[block_groups_with_population.tract_pop == 0]"
   ]
  },
  {
   "cell_type": "code",
   "execution_count": 222,
   "id": "7b150eec",
   "metadata": {},
   "outputs": [],
   "source": [
    "# INFERRING BLOCK GROUP POPULATION FROM TRACT\n",
    "temp = block_groups_with_population.groupby('GEOID')['BLKGRPCE'].count().reset_index()\n",
    "temp.columns = ['GEOID', 'tract_block_group_count']\n",
    "block_groups_with_population = block_groups_with_population.merge(temp, on = 'GEOID', how = 'left')\n",
    "\n",
    "block_groups_with_population['block_group_population_inferred'] = block_groups_with_population.tract_pop.astype(int) / block_groups_with_population.tract_block_group_count"
   ]
  },
  {
   "cell_type": "code",
   "execution_count": 223,
   "id": "6de9d74f",
   "metadata": {},
   "outputs": [],
   "source": [
    "gdf_block_groups_with_population = block_groups_with_population"
   ]
  },
  {
   "cell_type": "markdown",
   "id": "308efce0",
   "metadata": {},
   "source": [
    "### bring populations and trips to one dimension"
   ]
  },
  {
   "cell_type": "markdown",
   "id": "a51c6ed4",
   "metadata": {},
   "source": [
    "trips per resident = total trips / total population  \n",
    "trips generated per area = area population * trips per resident\n",
    "  \n",
    "we care about\n",
    "- proportions with real trips per area\n",
    "- absolute number match with trips amount (sum of trips **we use in the model** == sum of trips of all areas)"
   ]
  },
  {
   "cell_type": "markdown",
   "id": "52bde271",
   "metadata": {},
   "source": [
    "BUG: I only calculate existing trips from Ps, not all trips (FIXED)  \n",
    "now it calculated from df_sample and will be constant respective to number of Ps  "
   ]
  },
  {
   "cell_type": "code",
   "execution_count": 231,
   "id": "014b687d",
   "metadata": {},
   "outputs": [
    {
     "data": {
      "text/plain": [
       "611.182098"
      ]
     },
     "execution_count": 231,
     "metadata": {},
     "output_type": "execute_result"
    }
   ],
   "source": [
    "df_sample_.TRIPS_HOMEBASED.sum() / MILLION"
   ]
  },
  {
   "cell_type": "code",
   "execution_count": 239,
   "id": "fe00b87c",
   "metadata": {},
   "outputs": [
    {
     "name": "stdout",
     "output_type": "stream",
     "text": [
      "total trips in millions:  611.18\n",
      "total population in millions:  10.67\n",
      "trips per 1 resident in Georgia:  57.26\n"
     ]
    }
   ],
   "source": [
    "TRIPS_TOTAL = df_sample_.TRIPS_HOMEBASED.sum()\n",
    "print('total trips in millions: ', round(TRIPS_TOTAL / MILLION, 2))\n",
    "\n",
    "POPULATION_TOTAL = gdf_block_groups_with_population.block_group_population_inferred.sum()\n",
    "print('total population in millions: ', round(POPULATION_TOTAL / MILLION, 2))\n",
    "\n",
    "TRIPS_PER_RESIDENT = TRIPS_TOTAL / POPULATION_TOTAL\n",
    "print('trips per 1 resident in Georgia: ', round(TRIPS_PER_RESIDENT, 2))\n",
    "\n",
    "gdf_block_groups_with_population['area_demand'] = gdf_block_groups_with_population.block_group_population_inferred * TRIPS_PER_RESIDENT\n",
    "\n",
    "\n",
    "# reorder columns\n",
    "gdf_block_groups_with_population = gdf_block_groups_with_population[[\n",
    "    'GEOID', 'BLKGRPCE', \n",
    "    'area_demand', \n",
    "    'block_group_population_inferred', 'tract_pop', 'overlap_area',\n",
    "    'overlap_percent', 'tract_block_group_count', 'geometry']]"
   ]
  },
  {
   "cell_type": "code",
   "execution_count": 240,
   "id": "9db91e78",
   "metadata": {},
   "outputs": [
    {
     "name": "stdout",
     "output_type": "stream",
     "text": [
      "611.182098\n",
      "611.182098\n",
      "double-check that it matches\n"
     ]
    }
   ],
   "source": [
    "print(TRIPS_TOTAL / MILLION)\n",
    "print(gdf_block_groups_with_population.area_demand.sum() / MILLION)\n",
    "print('double-check that it matches')"
   ]
  },
  {
   "cell_type": "code",
   "execution_count": 241,
   "id": "b33687ba",
   "metadata": {},
   "outputs": [],
   "source": [
    "# area_demand_dict(geoid + bg number) == A == P == trips keys\n",
    "gdf_block_groups_with_population['full_id'] = gdf_block_groups_with_population.GEOID + gdf_block_groups_with_population.BLKGRPCE\n",
    "\n",
    "area_demand_dict = gdf_block_groups_with_population.set_index(\"full_id\")[\"area_demand\"].to_dict()"
   ]
  },
  {
   "cell_type": "markdown",
   "id": "92ac2144",
   "metadata": {},
   "source": [
    "# EXPORT"
   ]
  },
  {
   "cell_type": "code",
   "execution_count": 242,
   "id": "c6e09a17",
   "metadata": {},
   "outputs": [],
   "source": [
    "trips_export = trips_dict\n",
    "potential_sites_set_export = P\n",
    "areas_set_export = A\n",
    "areas_demand_export = area_demand_dict"
   ]
  },
  {
   "cell_type": "markdown",
   "id": "20517135",
   "metadata": {},
   "source": [
    "## validate"
   ]
  },
  {
   "cell_type": "markdown",
   "id": "0dccb3fc",
   "metadata": {},
   "source": [
    "## export"
   ]
  },
  {
   "cell_type": "code",
   "execution_count": 243,
   "id": "fd1f0ca7",
   "metadata": {},
   "outputs": [
    {
     "name": "stdout",
     "output_type": "stream",
     "text": [
      "- trips:\n",
      "rows: 928564\n",
      "\n",
      "- areas set:\n",
      "rows: 7441\n",
      "\n",
      "- potential sites set:\n",
      "rows: 1979\n",
      "\n",
      "- areas demand:\n",
      "rows: 7446\n",
      "average demand:  82081.9\n",
      "\n"
     ]
    }
   ],
   "source": [
    "print('- trips:')\n",
    "print('rows:', len(trips_export))\n",
    "print()\n",
    "\n",
    "print('- areas set:')\n",
    "print('rows:', len(areas_set_export))\n",
    "print()\n",
    "\n",
    "print('- potential sites set:')\n",
    "print('rows:', len(potential_sites_set_export))\n",
    "print()\n",
    "\n",
    "\n",
    "print('- areas demand:')\n",
    "print('rows:', len(areas_demand_export))\n",
    "print('average demand: ', round(np.mean(list(areas_demand_export.values())), 1))\n",
    "print()\n"
   ]
  },
  {
   "cell_type": "code",
   "execution_count": 229,
   "id": "1b27fd78",
   "metadata": {},
   "outputs": [],
   "source": [
    "import pickle\n",
    "\n",
    "# Convert sets to lists (JSON does not support sets)\n",
    "data = {\n",
    "    \"trips\": trips_export, \n",
    "    \"potential_sites\": list(potential_sites_set_export), \n",
    "    \"areas\": list(areas_set_export),\n",
    "    \"areas_demand\": areas_demand_export,\n",
    "}\n",
    "\n",
    "with open(\"./data/georgia_processed_data/georgia_processed_data.pkl\", \"wb\") as f:\n",
    "    pickle.dump(data, f)"
   ]
  },
  {
   "cell_type": "code",
   "execution_count": 47,
   "id": "cf915c4c",
   "metadata": {},
   "outputs": [],
   "source": [
    "# # CODE TO IMPORT\n",
    "# # Load the data from the .pkl file\n",
    "# with open(\"./data/georgia_processed_data/trips_sites_areas.pkl\", \"rb\") as f:\n",
    "#     loaded_data = pickle.load(f)\n",
    "\n",
    "# print(loaded_data.keys())"
   ]
  },
  {
   "cell_type": "markdown",
   "id": "a9f09c50",
   "metadata": {},
   "source": [
    "# OTHER"
   ]
  },
  {
   "cell_type": "markdown",
   "id": "80dde465",
   "metadata": {},
   "source": [
    "### Defining the value from the charger"
   ]
  },
  {
   "cell_type": "code",
   "execution_count": null,
   "id": "f83948ca",
   "metadata": {},
   "outputs": [],
   "source": [
    "TOTAL_COST = 70 * MILLION"
   ]
  },
  {
   "cell_type": "code",
   "execution_count": 247,
   "id": "ed32b466",
   "metadata": {},
   "outputs": [],
   "source": [
    "COVERAGE = 382299766 # 70 MM"
   ]
  },
  {
   "cell_type": "code",
   "execution_count": 248,
   "id": "1f2e18de",
   "metadata": {},
   "outputs": [
    {
     "data": {
      "text/plain": [
       "0.1778708909803518"
      ]
     },
     "execution_count": 248,
     "metadata": {},
     "output_type": "execute_result"
    }
   ],
   "source": [
    "TOTAL_COST / COVERAGE"
   ]
  },
  {
   "cell_type": "code",
   "execution_count": 246,
   "id": "ac6f9a0e",
   "metadata": {},
   "outputs": [
    {
     "data": {
      "text/plain": [
       "68000000"
      ]
     },
     "execution_count": 246,
     "metadata": {},
     "output_type": "execute_result"
    }
   ],
   "source": [
    "TOTAL_COST"
   ]
  },
  {
   "cell_type": "markdown",
   "id": "6cb1419e",
   "metadata": {},
   "source": [
    "### P Traffic (trips) amount"
   ]
  },
  {
   "cell_type": "code",
   "execution_count": null,
   "id": "74fe2ed0",
   "metadata": {},
   "outputs": [
    {
     "data": {
      "text/plain": [
       "347.002822"
      ]
     },
     "metadata": {},
     "output_type": "display_data"
    }
   ],
   "source": [
    "(df_area_traffic_volume.query(\"area in @P\").traffic_volume.sum()) / MILLION"
   ]
  },
  {
   "cell_type": "markdown",
   "id": "5ee8f9db",
   "metadata": {},
   "source": [
    "seemingly the same, but trips intersect so they dont cover all the demand"
   ]
  },
  {
   "cell_type": "code",
   "execution_count": null,
   "id": "e8f9cf23",
   "metadata": {},
   "outputs": [
    {
     "data": {
      "text/plain": [
       "346.34986436"
      ]
     },
     "metadata": {},
     "output_type": "display_data"
    }
   ],
   "source": [
    "total_area_capacities = 346349864.36\n",
    "total_area_capacities / MILLION"
   ]
  },
  {
   "cell_type": "code",
   "execution_count": null,
   "id": "3e67f787",
   "metadata": {},
   "outputs": [
    {
     "data": {
      "text/plain": [
       "214.7369159032"
      ]
     },
     "metadata": {},
     "output_type": "display_data"
    }
   ],
   "source": [
    "total_area_capacities * 0.62 / MILLION"
   ]
  },
  {
   "cell_type": "code",
   "execution_count": null,
   "id": "60c75098",
   "metadata": {},
   "outputs": [
    {
     "data": {
      "text/plain": [
       "<Axes: >"
      ]
     },
     "metadata": {},
     "output_type": "display_data"
    },
    {
     "data": {
      "image/png": "[encoded data removed]",
      "text/plain": [
       "<Figure size 640x480 with 1 Axes>"
      ]
     },
     "metadata": {},
     "output_type": "display_data"
    }
   ],
   "source": [
    "df_area_traffic_volume.query(\"area in @P and traffic_volume < 500000\").traffic_volume.hist(bins = 100)"
   ]
  },
  {
   "cell_type": "code",
   "execution_count": null,
   "id": "444d5890",
   "metadata": {},
   "outputs": [],
   "source": []
  },
  {
   "cell_type": "markdown",
   "id": "eeaf4b82",
   "metadata": {},
   "source": [
    "### Model gap"
   ]
  },
  {
   "cell_type": "code",
   "execution_count": 50,
   "id": "09e58b20",
   "metadata": {},
   "outputs": [
    {
     "data": {
      "text/plain": [
       "2.941176470588239"
      ]
     },
     "execution_count": 50,
     "metadata": {},
     "output_type": "execute_result"
    }
   ],
   "source": [
    "coverage = 3400\n",
    "cur = 2000\n",
    "gap = 0.05\n",
    "\n",
    "(cur / coverage * 100) - (cur*(1 - gap) / coverage * 100)"
   ]
  },
  {
   "cell_type": "markdown",
   "id": "09bb793d",
   "metadata": {},
   "source": [
    "## Shapefiles export"
   ]
  },
  {
   "cell_type": "code",
   "execution_count": 36,
   "id": "5105e2aa",
   "metadata": {},
   "outputs": [],
   "source": [
    "# Export GeoDataFrame to a GeoPackage file\n",
    "gdf_block_groups_with_population.to_file(\"./data/block_groups_shapefiles_with_population.gpkg\", layer=\"areas\", driver=\"GPKG\")\n"
   ]
  },
  {
   "cell_type": "markdown",
   "id": "aa36fd9d",
   "metadata": {},
   "source": [
    "## Model Parameters"
   ]
  },
  {
   "cell_type": "code",
   "execution_count": 464,
   "id": "c86003d4",
   "metadata": {},
   "outputs": [],
   "source": [
    "# model solves !"
   ]
  },
  {
   "cell_type": "code",
   "execution_count": 18,
   "id": "a838dd9f",
   "metadata": {},
   "outputs": [
    {
     "data": {
      "text/plain": [
       "504201.6806722688"
      ]
     },
     "execution_count": 18,
     "metadata": {},
     "output_type": "execute_result"
    }
   ],
   "source": [
    "# As of 2023, there were approximately 4.7 million plug-in electric vehicles (EVs) in use in the United States. \n",
    "# WIKIPEDIA\n",
    "#  Given that the total number of registered vehicles in the U.S. is around 276 million, EVs constitute about 1.7% of all vehicles on the road.\n",
    "\n",
    "# It's important to note that while EV sales have been increasing, the overall share of EVs in the total vehicle fleet remains relatively low due to the long \n",
    "# lifespan of vehicles and the gradual turnover of the existing fleet.\n",
    "\n",
    "EV_SHARE = 0.017\n",
    "\n",
    "DAYS_IN_A_MONTH = 30\n",
    "HOURS_PER_DAY = 10\n",
    "CARS_PER_HOUR = 2\n",
    "\n",
    "# todo: public usecase share\n",
    "PUBLIC_USECASE_SHARE = 0.07\n",
    "\n",
    "CHARGING_SPOT_CAPACITY = (DAYS_IN_A_MONTH * HOURS_PER_DAY * CARS_PER_HOUR) / EV_SHARE / PUBLIC_USECASE_SHARE\n",
    "CHARGING_SPOT_CAPACITY"
   ]
  },
  {
   "cell_type": "code",
   "execution_count": 43,
   "id": "48fde769",
   "metadata": {},
   "outputs": [
    {
     "data": {
      "text/plain": [
       "333.3333333333333"
      ]
     },
     "execution_count": 43,
     "metadata": {},
     "output_type": "execute_result"
    }
   ],
   "source": [
    "# $1.5 billion\n",
    "# Atlanta, GA – Governor Brian P. Kemp today announced new details for the historic $1.5 billion investment \n",
    "# in transportation infrastructure around the state included in the Amended Fiscal Year 2024 budget.\n",
    "\n",
    "BUDGET = 100 * MILLION\n",
    "COST = 300000\n",
    "CHARGERS = BUDGET / COST\n",
    "CHARGERS"
   ]
  },
  {
   "cell_type": "code",
   "execution_count": 58,
   "id": "9ec1020b",
   "metadata": {},
   "outputs": [],
   "source": [
    "MILLION = 1000000\n",
    "BUDGET = 100 * MILLION\n",
    "COST = 150000\n",
    "CHARGERS = BUDGET / COST\n",
    "CHARGERS\n",
    "\n",
    "budgets = range(150, 351, 100)\n",
    "CAP_SPOT = 350000              \n",
    "MAX_CHARGERS = 30"
   ]
  },
  {
   "cell_type": "code",
   "execution_count": 59,
   "id": "e015f0bd",
   "metadata": {},
   "outputs": [
    {
     "data": {
      "text/plain": [
       "[1000, 1666, 2333]"
      ]
     },
     "execution_count": 59,
     "metadata": {},
     "output_type": "execute_result"
    }
   ],
   "source": [
    "[int(budget * MILLION / COST) for budget in budgets]"
   ]
  },
  {
   "cell_type": "code",
   "execution_count": 477,
   "id": "d7f4fba6",
   "metadata": {},
   "outputs": [
    {
     "data": {
      "text/plain": [
       "46602.581520279346"
      ]
     },
     "execution_count": 477,
     "metadata": {},
     "output_type": "execute_result"
    }
   ],
   "source": [
    "gdf_block_groups_with_population.area_demand.mean()"
   ]
  },
  {
   "cell_type": "code",
   "execution_count": 480,
   "id": "3e225fb9",
   "metadata": {},
   "outputs": [
    {
     "data": {
      "text/plain": [
       "695.1415052195287"
      ]
     },
     "execution_count": 480,
     "metadata": {},
     "output_type": "execute_result"
    }
   ],
   "source": [
    "np.mean(list(trips_export.values()))"
   ]
  },
  {
   "cell_type": "markdown",
   "id": "9f80f76e",
   "metadata": {},
   "source": [
    "## match model data input fromat with data I generate here"
   ]
  },
  {
   "cell_type": "code",
   "execution_count": 1,
   "id": "d967ff09",
   "metadata": {},
   "outputs": [
    {
     "name": "stdout",
     "output_type": "stream",
     "text": [
      "\n",
      "Trips Matrix (Potential Station Sites as rows, Areas as columns):\n",
      "       Area1  Area2  Area3  Area4  Area5  Area6  Area7  Area8  Area9  Area10\n",
      "Area1   1043   1057    749    932   1006   1055   1111    809   1063    1021\n",
      "Area3    763    892    778    749    782   1062   1053    865   1195     998\n",
      "Area4   1005    959    839    994    793    992    832    825   1096     831\n",
      "Area5    995    890   1019    980   1086   1022   1001    890    829     854\n",
      "Area8    895    831    884    951    940    169    283    176    299     165\n",
      "\n",
      "Area Capacities (c):\n",
      "          Area1  Area2  Area3  Area4  Area5  Area6  Area7  Area8  Area9  \\\n",
      "Capacity    112    179    158    200    182    985    884    884    935   \n",
      "\n",
      "          Area10  \n",
      "Capacity     970  \n",
      "\n",
      "Constants:\n",
      "CHARGERS_BUDGET_LIMIT: 15\n",
      "CAP_SPOT: 200\n",
      "MAX_CHARGERS: 5\n"
     ]
    }
   ],
   "source": [
    "from synthetic_data_gen import GENERATE_DATA\n",
    "\n",
    "# SYNTHETIC\n",
    "N_AREAS = 10\n",
    "N_POTENTIAL_SITES = 5\n",
    "CHARGERS_BUDGET_LIMIT = 15\n",
    "CAP_SPOT = 200        # Each charging spot serves up to 200 trips\n",
    "MAX_CHARGERS = 5\n",
    "\n",
    "A, P, c, tr = GENERATE_DATA(\n",
    "    N_AREAS,\n",
    "    N_POTENTIAL_SITES,\n",
    "    CHARGERS_BUDGET_LIMIT,\n",
    "    CAP_SPOT,\n",
    "    MAX_CHARGERS,\n",
    "    SEED = 43\n",
    ")"
   ]
  },
  {
   "cell_type": "markdown",
   "id": "0a30b2fd",
   "metadata": {},
   "source": [
    "## A and areas demand size mismatch"
   ]
  },
  {
   "cell_type": "markdown",
   "id": "5defb9f6",
   "metadata": {},
   "source": [
    "add area that are perfect match? check initial length"
   ]
  },
  {
   "cell_type": "code",
   "execution_count": 300,
   "id": "fac237ad",
   "metadata": {},
   "outputs": [],
   "source": [
    "gdf_bg_shp_19 = gpd.read_file(r\"./data/georgia_bg_shapefiles/tl_2019_13_bg/tl_2019_13_bg.shp\")\n",
    "gdf_bg_shp_21 = gpd.read_file(r\"./data/georgia_bg_shapefiles/tl_2021_13_bg/tl_2021_13_bg.shp\")\n",
    "gdf_bg_shp_24 = gpd.read_file(r\"./data/georgia_bg_shapefiles/tl_2024_13_bg/tl_2024_13_bg.shp\")"
   ]
  },
  {
   "cell_type": "code",
   "execution_count": 309,
   "id": "f8e6a784",
   "metadata": {},
   "outputs": [
    {
     "data": {
      "text/plain": [
       "7441"
      ]
     },
     "execution_count": 309,
     "metadata": {},
     "output_type": "execute_result"
    }
   ],
   "source": [
    "temp = gdf_bg_shp_21\n",
    "\n",
    "temp_set = set(temp.GEOID.unique())\n",
    "\n",
    "len(temp_set & A)"
   ]
  },
  {
   "cell_type": "code",
   "execution_count": 313,
   "id": "587c633b",
   "metadata": {},
   "outputs": [
    {
     "data": {
      "text/plain": [
       "7441"
      ]
     },
     "execution_count": 313,
     "metadata": {},
     "output_type": "execute_result"
    }
   ],
   "source": [
    "len(temp_set & set(df_area_traffic_volume.area.unique()))"
   ]
  },
  {
   "cell_type": "code",
   "execution_count": null,
   "id": "73f44391",
   "metadata": {},
   "outputs": [
    {
     "data": {
      "text/plain": [
       "['131350502224',\n",
       " '131759504003',\n",
       " '132330101001',\n",
       " '132859601022',\n",
       " '131350505911']"
      ]
     },
     "metadata": {},
     "output_type": "display_data"
    }
   ],
   "source": [
    "import random\n",
    "random.sample(list(A), 5)"
   ]
  },
  {
   "cell_type": "code",
   "execution_count": 148,
   "id": "3ca896bd",
   "metadata": {},
   "outputs": [
    {
     "data": {
      "text/plain": [
       "3112"
      ]
     },
     "execution_count": 148,
     "metadata": {},
     "output_type": "execute_result"
    }
   ],
   "source": [
    "len(set(areas_demand_export.keys()) & A)"
   ]
  },
  {
   "cell_type": "code",
   "execution_count": null,
   "id": "53c96a34",
   "metadata": {},
   "outputs": [],
   "source": [
    "all_ids_in_trips"
   ]
  },
  {
   "cell_type": "code",
   "execution_count": 292,
   "id": "b65ffb8a",
   "metadata": {},
   "outputs": [
    {
     "data": {
      "text/plain": [
       "5533"
      ]
     },
     "execution_count": 292,
     "metadata": {},
     "output_type": "execute_result"
    }
   ],
   "source": [
    "len(ad)"
   ]
  },
  {
   "cell_type": "code",
   "execution_count": 168,
   "id": "7d75da0c",
   "metadata": {},
   "outputs": [],
   "source": [
    "inter = set(areas_demand_export.keys()) & A"
   ]
  },
  {
   "cell_type": "code",
   "execution_count": 297,
   "id": "97ac4abf",
   "metadata": {},
   "outputs": [],
   "source": [
    "# gdf_block_groups_with_population.query(\"full_id in @inter\").explore()"
   ]
  },
  {
   "cell_type": "code",
   "execution_count": null,
   "id": "0a8feca8",
   "metadata": {},
   "outputs": [
    {
     "data": {
      "text/plain": [
       "2421"
      ]
     },
     "execution_count": 227,
     "metadata": {},
     "output_type": "execute_result"
    }
   ],
   "source": [
    "len(set(areas_demand_export.keys()) - A"
   ]
  },
  {
   "cell_type": "code",
   "execution_count": 244,
   "id": "c0f77850",
   "metadata": {},
   "outputs": [
    {
     "data": {
      "text/plain": [
       "7441"
      ]
     },
     "execution_count": 244,
     "metadata": {},
     "output_type": "execute_result"
    }
   ],
   "source": [
    "len(A)"
   ]
  },
  {
   "cell_type": "code",
   "execution_count": 242,
   "id": "6e253cb6",
   "metadata": {},
   "outputs": [],
   "source": [
    "ad = set(areas_demand_export.keys())"
   ]
  },
  {
   "cell_type": "code",
   "execution_count": 232,
   "id": "09895657",
   "metadata": {},
   "outputs": [],
   "source": [
    "d_not = gdf_block_groups_with_population.query(\"full_id not in @inter\").describe()"
   ]
  },
  {
   "cell_type": "code",
   "execution_count": 233,
   "id": "c348d0b1",
   "metadata": {},
   "outputs": [],
   "source": [
    "d_int = gdf_block_groups_with_population.query(\"full_id in @inter\").describe()"
   ]
  },
  {
   "cell_type": "code",
   "execution_count": 243,
   "id": "d2c11bcf",
   "metadata": {},
   "outputs": [
    {
     "data": {
      "text/plain": [
       "3112"
      ]
     },
     "execution_count": 243,
     "metadata": {},
     "output_type": "execute_result"
    }
   ],
   "source": [
    "len(set(df_area_traffic_volume.area.unique()) & ad)"
   ]
  },
  {
   "cell_type": "code",
   "execution_count": 290,
   "id": "74811e83",
   "metadata": {},
   "outputs": [],
   "source": [
    "map1 = (\n",
    "    gdf_block_groups_with_population\n",
    "    .merge(df_area_traffic_volume, left_on = 'full_id', right_on = 'area')\n",
    "    .explore(\n",
    "        column='traffic_volume',  # The column to base the heatmap on\n",
    "        cmap='YlOrRd',        # Color map for the heatmap\n",
    "        scheme='Quantiles',   # Optional: Categorize data (e.g., 'Quantiles', 'EqualInterval')\n",
    "        legend=True,          # Show a legend\n",
    "        tiles='CartoDB positron'  # Specify base map tiles\n",
    "    )\n",
    ")\n",
    "\n",
    "# Save the maps to an HTML file\n",
    "map1.save('./data/maps/traffic_volume_in_not_missing_areas.html')"
   ]
  },
  {
   "cell_type": "code",
   "execution_count": 284,
   "id": "3a306a3e",
   "metadata": {},
   "outputs": [
    {
     "data": {
      "text/html": [
       "<div>\n",
       "<style scoped>\n",
       "    .dataframe tbody tr th:only-of-type {\n",
       "        vertical-align: middle;\n",
       "    }\n",
       "\n",
       "    .dataframe tbody tr th {\n",
       "        vertical-align: top;\n",
       "    }\n",
       "\n",
       "    .dataframe thead th {\n",
       "        text-align: right;\n",
       "    }\n",
       "</style>\n",
       "<table border=\"1\" class=\"dataframe\">\n",
       "  <thead>\n",
       "    <tr style=\"text-align: right;\">\n",
       "      <th></th>\n",
       "      <th>area</th>\n",
       "      <th>destination_state</th>\n",
       "      <th>incoming</th>\n",
       "      <th>outcoming</th>\n",
       "      <th>traffic_volume</th>\n",
       "    </tr>\n",
       "  </thead>\n",
       "  <tbody>\n",
       "    <tr>\n",
       "      <th>1455</th>\n",
       "      <td>130639800001</td>\n",
       "      <td>GA</td>\n",
       "      <td>1751472</td>\n",
       "      <td>899408.0</td>\n",
       "      <td>2650880.0</td>\n",
       "    </tr>\n",
       "    <tr>\n",
       "      <th>1587</th>\n",
       "      <td>130670302783</td>\n",
       "      <td>GA</td>\n",
       "      <td>1499537</td>\n",
       "      <td>843912.0</td>\n",
       "      <td>2343449.0</td>\n",
       "    </tr>\n",
       "    <tr>\n",
       "      <th>1178</th>\n",
       "      <td>130590004022</td>\n",
       "      <td>GA</td>\n",
       "      <td>1269898</td>\n",
       "      <td>829934.0</td>\n",
       "      <td>2099832.0</td>\n",
       "    </tr>\n",
       "    <tr>\n",
       "      <th>4275</th>\n",
       "      <td>131210119013</td>\n",
       "      <td>GA</td>\n",
       "      <td>869523</td>\n",
       "      <td>474334.0</td>\n",
       "      <td>1343857.0</td>\n",
       "    </tr>\n",
       "    <tr>\n",
       "      <th>3455</th>\n",
       "      <td>131210010012</td>\n",
       "      <td>GA</td>\n",
       "      <td>779151</td>\n",
       "      <td>430747.0</td>\n",
       "      <td>1209898.0</td>\n",
       "    </tr>\n",
       "    <tr>\n",
       "      <th>...</th>\n",
       "      <td>...</td>\n",
       "      <td>...</td>\n",
       "      <td>...</td>\n",
       "      <td>...</td>\n",
       "      <td>...</td>\n",
       "    </tr>\n",
       "    <tr>\n",
       "      <th>476</th>\n",
       "      <td>130299800001</td>\n",
       "      <td>GA</td>\n",
       "      <td>8242</td>\n",
       "      <td>3192.0</td>\n",
       "      <td>11434.0</td>\n",
       "    </tr>\n",
       "    <tr>\n",
       "      <th>2367</th>\n",
       "      <td>130890212222</td>\n",
       "      <td>GA</td>\n",
       "      <td>4798</td>\n",
       "      <td>6526.0</td>\n",
       "      <td>11324.0</td>\n",
       "    </tr>\n",
       "    <tr>\n",
       "      <th>2842</th>\n",
       "      <td>130899800001</td>\n",
       "      <td>GA</td>\n",
       "      <td>8699</td>\n",
       "      <td>1781.0</td>\n",
       "      <td>10480.0</td>\n",
       "    </tr>\n",
       "    <tr>\n",
       "      <th>5887</th>\n",
       "      <td>131919800001</td>\n",
       "      <td>GA</td>\n",
       "      <td>14</td>\n",
       "      <td>2050.0</td>\n",
       "      <td>2064.0</td>\n",
       "    </tr>\n",
       "    <tr>\n",
       "      <th>5752</th>\n",
       "      <td>131839800001</td>\n",
       "      <td>GA</td>\n",
       "      <td>1540</td>\n",
       "      <td>325.0</td>\n",
       "      <td>1865.0</td>\n",
       "    </tr>\n",
       "  </tbody>\n",
       "</table>\n",
       "<p>7441 rows × 5 columns</p>\n",
       "</div>"
      ],
      "text/plain": [
       "              area destination_state  incoming  outcoming  traffic_volume\n",
       "1455  130639800001                GA   1751472   899408.0       2650880.0\n",
       "1587  130670302783                GA   1499537   843912.0       2343449.0\n",
       "1178  130590004022                GA   1269898   829934.0       2099832.0\n",
       "4275  131210119013                GA    869523   474334.0       1343857.0\n",
       "3455  131210010012                GA    779151   430747.0       1209898.0\n",
       "...            ...               ...       ...        ...             ...\n",
       "476   130299800001                GA      8242     3192.0         11434.0\n",
       "2367  130890212222                GA      4798     6526.0         11324.0\n",
       "2842  130899800001                GA      8699     1781.0         10480.0\n",
       "5887  131919800001                GA        14     2050.0          2064.0\n",
       "5752  131839800001                GA      1540      325.0          1865.0\n",
       "\n",
       "[7441 rows x 5 columns]"
      ]
     },
     "execution_count": 284,
     "metadata": {},
     "output_type": "execute_result"
    }
   ],
   "source": [
    "df_area_traffic_volume"
   ]
  },
  {
   "cell_type": "code",
   "execution_count": 245,
   "id": "d8cd5300",
   "metadata": {},
   "outputs": [],
   "source": [
    "traff_int = (set(df_area_traffic_volume.area.unique()) & ad)"
   ]
  },
  {
   "cell_type": "code",
   "execution_count": 250,
   "id": "079cbc5e",
   "metadata": {},
   "outputs": [
    {
     "data": {
      "text/html": [
       "<div>\n",
       "<style scoped>\n",
       "    .dataframe tbody tr th:only-of-type {\n",
       "        vertical-align: middle;\n",
       "    }\n",
       "\n",
       "    .dataframe tbody tr th {\n",
       "        vertical-align: top;\n",
       "    }\n",
       "\n",
       "    .dataframe thead th {\n",
       "        text-align: right;\n",
       "    }\n",
       "</style>\n",
       "<table border=\"1\" class=\"dataframe\">\n",
       "  <thead>\n",
       "    <tr style=\"text-align: right;\">\n",
       "      <th></th>\n",
       "      <th>incoming</th>\n",
       "      <th>outcoming</th>\n",
       "      <th>traffic_volume</th>\n",
       "    </tr>\n",
       "  </thead>\n",
       "  <tbody>\n",
       "    <tr>\n",
       "      <th>count</th>\n",
       "      <td>3.112000</td>\n",
       "      <td>3.112000</td>\n",
       "      <td>3.112000</td>\n",
       "    </tr>\n",
       "    <tr>\n",
       "      <th>mean</th>\n",
       "      <td>80.484118</td>\n",
       "      <td>79.418824</td>\n",
       "      <td>159.902942</td>\n",
       "    </tr>\n",
       "    <tr>\n",
       "      <th>std</th>\n",
       "      <td>85.107072</td>\n",
       "      <td>57.444495</td>\n",
       "      <td>138.382356</td>\n",
       "    </tr>\n",
       "    <tr>\n",
       "      <th>min</th>\n",
       "      <td>0.014000</td>\n",
       "      <td>0.325000</td>\n",
       "      <td>1.865000</td>\n",
       "    </tr>\n",
       "    <tr>\n",
       "      <th>25%</th>\n",
       "      <td>34.864000</td>\n",
       "      <td>44.099500</td>\n",
       "      <td>80.886000</td>\n",
       "    </tr>\n",
       "    <tr>\n",
       "      <th>50%</th>\n",
       "      <td>56.747000</td>\n",
       "      <td>66.357000</td>\n",
       "      <td>124.082500</td>\n",
       "    </tr>\n",
       "    <tr>\n",
       "      <th>75%</th>\n",
       "      <td>94.120000</td>\n",
       "      <td>97.910500</td>\n",
       "      <td>192.067250</td>\n",
       "    </tr>\n",
       "    <tr>\n",
       "      <th>max</th>\n",
       "      <td>1751.472000</td>\n",
       "      <td>899.408000</td>\n",
       "      <td>2650.880000</td>\n",
       "    </tr>\n",
       "  </tbody>\n",
       "</table>\n",
       "</div>"
      ],
      "text/plain": [
       "          incoming   outcoming  traffic_volume\n",
       "count     3.112000    3.112000        3.112000\n",
       "mean     80.484118   79.418824      159.902942\n",
       "std      85.107072   57.444495      138.382356\n",
       "min       0.014000    0.325000        1.865000\n",
       "25%      34.864000   44.099500       80.886000\n",
       "50%      56.747000   66.357000      124.082500\n",
       "75%      94.120000   97.910500      192.067250\n",
       "max    1751.472000  899.408000     2650.880000"
      ]
     },
     "execution_count": 250,
     "metadata": {},
     "output_type": "execute_result"
    }
   ],
   "source": [
    "df_area_traffic_volume.query(\"area in @traff_int\").describe() / THOUSAND"
   ]
  },
  {
   "cell_type": "code",
   "execution_count": null,
   "id": "f264aad9",
   "metadata": {},
   "outputs": [
    {
     "data": {
      "text/html": [
       "<div>\n",
       "<style scoped>\n",
       "    .dataframe tbody tr th:only-of-type {\n",
       "        vertical-align: middle;\n",
       "    }\n",
       "\n",
       "    .dataframe tbody tr th {\n",
       "        vertical-align: top;\n",
       "    }\n",
       "\n",
       "    .dataframe thead th {\n",
       "        text-align: right;\n",
       "    }\n",
       "</style>\n",
       "<table border=\"1\" class=\"dataframe\">\n",
       "  <thead>\n",
       "    <tr style=\"text-align: right;\">\n",
       "      <th></th>\n",
       "      <th>incoming</th>\n",
       "      <th>outcoming</th>\n",
       "      <th>traffic_volume</th>\n",
       "    </tr>\n",
       "  </thead>\n",
       "  <tbody>\n",
       "    <tr>\n",
       "      <th>count</th>\n",
       "      <td>4.329000</td>\n",
       "      <td>4.329000</td>\n",
       "      <td>4.329000</td>\n",
       "    </tr>\n",
       "    <tr>\n",
       "      <th>mean</th>\n",
       "      <td>85.302121</td>\n",
       "      <td>85.940492</td>\n",
       "      <td>171.242613</td>\n",
       "    </tr>\n",
       "    <tr>\n",
       "      <th>std</th>\n",
       "      <td>83.136973</td>\n",
       "      <td>54.975743</td>\n",
       "      <td>133.687879</td>\n",
       "    </tr>\n",
       "    <tr>\n",
       "      <th>min</th>\n",
       "      <td>3.574000</td>\n",
       "      <td>5.820000</td>\n",
       "      <td>11.324000</td>\n",
       "    </tr>\n",
       "    <tr>\n",
       "      <th>25%</th>\n",
       "      <td>36.777000</td>\n",
       "      <td>49.434000</td>\n",
       "      <td>89.075000</td>\n",
       "    </tr>\n",
       "    <tr>\n",
       "      <th>50%</th>\n",
       "      <td>59.810000</td>\n",
       "      <td>73.906000</td>\n",
       "      <td>136.731000</td>\n",
       "    </tr>\n",
       "    <tr>\n",
       "      <th>75%</th>\n",
       "      <td>103.216000</td>\n",
       "      <td>107.437000</td>\n",
       "      <td>209.588000</td>\n",
       "    </tr>\n",
       "    <tr>\n",
       "      <th>max</th>\n",
       "      <td>1499.537000</td>\n",
       "      <td>843.912000</td>\n",
       "      <td>2343.449000</td>\n",
       "    </tr>\n",
       "  </tbody>\n",
       "</table>\n",
       "</div>"
      ],
      "text/plain": [
       "          incoming   outcoming  traffic_volume\n",
       "count     4.329000    4.329000        4.329000\n",
       "mean     85.302121   85.940492      171.242613\n",
       "std      83.136973   54.975743      133.687879\n",
       "min       3.574000    5.820000       11.324000\n",
       "25%      36.777000   49.434000       89.075000\n",
       "50%      59.810000   73.906000      136.731000\n",
       "75%     103.216000  107.437000      209.588000\n",
       "max    1499.537000  843.912000     2343.449000"
      ]
     },
     "execution_count": 251,
     "metadata": {},
     "output_type": "execute_result"
    }
   ],
   "source": [
    "df_area_traffic_volume.query(\"area not in @traff_int\").describe() / THOUSAND"
   ]
  },
  {
   "cell_type": "code",
   "execution_count": 295,
   "id": "17a7a8be",
   "metadata": {},
   "outputs": [],
   "source": [
    "# d_not"
   ]
  },
  {
   "cell_type": "code",
   "execution_count": 296,
   "id": "f6d3aea7",
   "metadata": {},
   "outputs": [],
   "source": [
    "# d_int"
   ]
  },
  {
   "cell_type": "code",
   "execution_count": 293,
   "id": "742318f6",
   "metadata": {},
   "outputs": [],
   "source": [
    "# gdf_block_groups_with_population.query(\"full_id in @inter\").explore()"
   ]
  },
  {
   "cell_type": "code",
   "execution_count": 294,
   "id": "fccca5d7",
   "metadata": {},
   "outputs": [],
   "source": [
    "idss = {'130670314092', '130670314051'}\n",
    "# gdf_block_groups_with_population.query(\"full_id.str.contains('130670314')\").explore()"
   ]
  },
  {
   "cell_type": "code",
   "execution_count": 276,
   "id": "295fb825",
   "metadata": {},
   "outputs": [
    {
     "data": {
      "text/html": [
       "<div>\n",
       "<style scoped>\n",
       "    .dataframe tbody tr th:only-of-type {\n",
       "        vertical-align: middle;\n",
       "    }\n",
       "\n",
       "    .dataframe tbody tr th {\n",
       "        vertical-align: top;\n",
       "    }\n",
       "\n",
       "    .dataframe thead th {\n",
       "        text-align: right;\n",
       "    }\n",
       "</style>\n",
       "<table border=\"1\" class=\"dataframe\">\n",
       "  <thead>\n",
       "    <tr style=\"text-align: right;\">\n",
       "      <th></th>\n",
       "      <th>GEOID</th>\n",
       "      <th>BLKGRPCE</th>\n",
       "    </tr>\n",
       "  </thead>\n",
       "  <tbody>\n",
       "    <tr>\n",
       "      <th>1404</th>\n",
       "      <td>13067031404</td>\n",
       "      <td>1</td>\n",
       "    </tr>\n",
       "    <tr>\n",
       "      <th>1405</th>\n",
       "      <td>13067031404</td>\n",
       "      <td>2</td>\n",
       "    </tr>\n",
       "    <tr>\n",
       "      <th>1406</th>\n",
       "      <td>13067031404</td>\n",
       "      <td>3</td>\n",
       "    </tr>\n",
       "    <tr>\n",
       "      <th>1407</th>\n",
       "      <td>13067031404</td>\n",
       "      <td>4</td>\n",
       "    </tr>\n",
       "    <tr>\n",
       "      <th>1408</th>\n",
       "      <td>13067031405</td>\n",
       "      <td>1</td>\n",
       "    </tr>\n",
       "    <tr>\n",
       "      <th>1409</th>\n",
       "      <td>13067031405</td>\n",
       "      <td>2</td>\n",
       "    </tr>\n",
       "    <tr>\n",
       "      <th>1410</th>\n",
       "      <td>13067031405</td>\n",
       "      <td>3</td>\n",
       "    </tr>\n",
       "    <tr>\n",
       "      <th>1411</th>\n",
       "      <td>13067031405</td>\n",
       "      <td>4</td>\n",
       "    </tr>\n",
       "    <tr>\n",
       "      <th>1412</th>\n",
       "      <td>13067031405</td>\n",
       "      <td>5</td>\n",
       "    </tr>\n",
       "    <tr>\n",
       "      <th>1413</th>\n",
       "      <td>13067031406</td>\n",
       "      <td>1</td>\n",
       "    </tr>\n",
       "    <tr>\n",
       "      <th>1414</th>\n",
       "      <td>13067031406</td>\n",
       "      <td>2</td>\n",
       "    </tr>\n",
       "    <tr>\n",
       "      <th>1415</th>\n",
       "      <td>13067031406</td>\n",
       "      <td>3</td>\n",
       "    </tr>\n",
       "    <tr>\n",
       "      <th>1416</th>\n",
       "      <td>13067031408</td>\n",
       "      <td>1</td>\n",
       "    </tr>\n",
       "    <tr>\n",
       "      <th>1417</th>\n",
       "      <td>13067031408</td>\n",
       "      <td>2</td>\n",
       "    </tr>\n",
       "    <tr>\n",
       "      <th>1418</th>\n",
       "      <td>13067031408</td>\n",
       "      <td>3</td>\n",
       "    </tr>\n",
       "    <tr>\n",
       "      <th>1419</th>\n",
       "      <td>13067031409</td>\n",
       "      <td>1</td>\n",
       "    </tr>\n",
       "    <tr>\n",
       "      <th>1420</th>\n",
       "      <td>13067031409</td>\n",
       "      <td>2</td>\n",
       "    </tr>\n",
       "  </tbody>\n",
       "</table>\n",
       "</div>"
      ],
      "text/plain": [
       "            GEOID BLKGRPCE\n",
       "1404  13067031404        1\n",
       "1405  13067031404        2\n",
       "1406  13067031404        3\n",
       "1407  13067031404        4\n",
       "1408  13067031405        1\n",
       "1409  13067031405        2\n",
       "1410  13067031405        3\n",
       "1411  13067031405        4\n",
       "1412  13067031405        5\n",
       "1413  13067031406        1\n",
       "1414  13067031406        2\n",
       "1415  13067031406        3\n",
       "1416  13067031408        1\n",
       "1417  13067031408        2\n",
       "1418  13067031408        3\n",
       "1419  13067031409        1\n",
       "1420  13067031409        2"
      ]
     },
     "execution_count": 276,
     "metadata": {},
     "output_type": "execute_result"
    }
   ],
   "source": [
    "gdf_block_groups_with_population.query(\"full_id.str.contains('130670314')\")[['GEOID', 'BLKGRPCE']]"
   ]
  },
  {
   "cell_type": "code",
   "execution_count": 274,
   "id": "a2942748",
   "metadata": {},
   "outputs": [
    {
     "data": {
      "text/plain": [
       "{(13067031409, 1),\n",
       " (13067031409, 2),\n",
       " (13067031409, 3),\n",
       " (13067031409, 4),\n",
       " (13067031410, 1),\n",
       " (13067031410, 2),\n",
       " (13067031410, 3),\n",
       " (13067031411, 1),\n",
       " (13067031411, 2),\n",
       " (13067031411, 3),\n",
       " (13067031412, 1),\n",
       " (13067031412, 2),\n",
       " (13067031412, 3),\n",
       " (13067031413, 1),\n",
       " (13067031413, 2),\n",
       " (13067031413, 3),\n",
       " (13067031414, 1),\n",
       " (13067031414, 2),\n",
       " (13067031414, 3),\n",
       " (13067031415, 1),\n",
       " (13067031415, 2),\n",
       " (13067031416, 1),\n",
       " (13067031416, 2),\n",
       " (13067031416, 3),\n",
       " (13067031417, 1),\n",
       " (13067031417, 2)}"
      ]
     },
     "execution_count": 274,
     "metadata": {},
     "output_type": "execute_result"
    }
   ],
   "source": [
    "{ (int(el[:-1]), int(el[-1:])) for el in A if '130670314' in el }"
   ]
  },
  {
   "cell_type": "code",
   "execution_count": 158,
   "id": "8ae82f4c",
   "metadata": {},
   "outputs": [],
   "source": [
    "diff = set(areas_demand_export.keys()) - A"
   ]
  },
  {
   "cell_type": "code",
   "execution_count": 160,
   "id": "a103460f",
   "metadata": {},
   "outputs": [],
   "source": [
    "diff_n = [ len(id) for id in diff ]"
   ]
  },
  {
   "cell_type": "code",
   "execution_count": 162,
   "id": "c2c86326",
   "metadata": {},
   "outputs": [
    {
     "data": {
      "text/plain": [
       "12.0"
      ]
     },
     "execution_count": 162,
     "metadata": {},
     "output_type": "execute_result"
    }
   ],
   "source": [
    "np.mean(diff_n)"
   ]
  },
  {
   "cell_type": "code",
   "execution_count": 150,
   "id": "3842f94c",
   "metadata": {},
   "outputs": [],
   "source": [
    "import json\n",
    "# Export to JSON\n",
    "with open(\"areas_demand_export.json\", \"w\") as f:\n",
    "    json.dump(list(set(areas_demand_export.keys())), f)"
   ]
  },
  {
   "cell_type": "code",
   "execution_count": 151,
   "id": "28b313a4",
   "metadata": {},
   "outputs": [],
   "source": [
    "import json\n",
    "# Export to JSON\n",
    "with open(\"areas.json\", \"w\") as f:\n",
    "    json.dump(list(A), f)"
   ]
  },
  {
   "cell_type": "code",
   "execution_count": null,
   "id": "fed025fa",
   "metadata": {},
   "outputs": [
    {
     "ename": "SyntaxError",
     "evalue": "invalid syntax (620243760.py, line 1)",
     "output_type": "error",
     "traceback": [
      "\u001b[0;36m  Cell \u001b[0;32mIn[164], line 1\u001b[0;36m\u001b[0m\n\u001b[0;31m    A is from trips\u001b[0m\n\u001b[0m         ^\u001b[0m\n\u001b[0;31mSyntaxError\u001b[0m\u001b[0;31m:\u001b[0m invalid syntax\n"
     ]
    }
   ],
   "source": [
    "# A is from trips trips od 2019\n",
    "# area demand is from gdf_block_groups_shapefiles = gpd.read_file(r\"./data/block_groups_shapefiles_2019/tl_2019_13_bg.shp\")"
   ]
  },
  {
   "cell_type": "code",
   "execution_count": 149,
   "id": "db3c90f5",
   "metadata": {},
   "outputs": [
    {
     "data": {
      "text/plain": [
       "5533"
      ]
     },
     "execution_count": 149,
     "metadata": {},
     "output_type": "execute_result"
    }
   ],
   "source": [
    "# 5500 block group cover the whole georgia so they are exhaustive\n",
    "len(set(areas_demand_export.keys()) )"
   ]
  },
  {
   "cell_type": "code",
   "execution_count": null,
   "id": "2317c175",
   "metadata": {},
   "outputs": [
    {
     "data": {
      "text/plain": [
       "{'132330101001'}"
      ]
     },
     "metadata": {},
     "output_type": "display_data"
    }
   ],
   "source": [
    "{ key for key in areas_demand_export.keys() if key == '132330101001' }"
   ]
  },
  {
   "cell_type": "code",
   "execution_count": null,
   "id": "28a50257",
   "metadata": {},
   "outputs": [
    {
     "data": {
      "text/plain": [
       "{'130019501001': 78495.12133245582,\n",
       " '130019501002': 78495.12133245582,\n",
       " '130019502001': 38104.13080758988,\n",
       " '130019502002': 37721.71279466746,\n",
       " '130019502003': 38104.13080758988,\n",
       " '130019503001': 18310.174458725443,\n",
       " '130019503002': 18310.174458725443,\n",
       " '130019503003': 33958.71954751085,\n",
       " '130019503004': 33958.71954751085,\n",
       " '130019504001': 42494.289595939255,\n",
       " '130019504002': 42494.289595939255,\n",
       " '130019505001': 56949.69048440671,\n",
       " '130019505002': 56949.69048440671,\n",
       " '130019505003': 56949.69048440671,\n",
       " '130039601001': 50800.4088366142,\n",
       " '130039601002': 50800.4088366142,\n",
       " '130039602001': 70426.10125979278,\n",
       " '130039602002': 70426.10125979278,\n",
       " '130039602003': 70426.10125979278,\n",
       " '130039603001': 66586.62441005168,\n",
       " '130059701001': 41285.848675104404,\n",
       " '130059701002': 41285.848675104404,\n",
       " '130059701003': 41285.848675104404,\n",
       " '130059702011': 65699.41462007166,\n",
       " '130059702012': 65699.41462007166,\n",
       " '130059702013': 65699.41462007166,\n",
       " '130059702021': 63772.02783494267,\n",
       " '130059702022': 63772.02783494267,\n",
       " '130059702023': 63772.02783494267,\n",
       " '130079601001': 43825.10428090927,\n",
       " '130079601002': 43825.10428090927,\n",
       " '130079602001': 23358.092229301383,\n",
       " '130079602002': 23358.092229301383,\n",
       " '130099701001': 46731.48117911966,\n",
       " '130099701002': 46731.48117911966,\n",
       " '130099701003': 34662.3686912881,\n",
       " '130099702001': 31939.552439280473,\n",
       " '130099702002': 31939.552439280473,\n",
       " '130099702003': 29810.248943328443,\n",
       " '130099702004': 29810.248943328443,\n",
       " '130099702005': 29810.248943328443,\n",
       " '130099703001': 53714.43409508304,\n",
       " '130099703002': 79619.43029044774,\n",
       " '130099704001': 34904.05687545507,\n",
       " '130099704002': 34904.05687545507,\n",
       " '130099704003': 34904.05687545507,\n",
       " '130099704004': 34904.05687545507,\n",
       " '130099704005': 34904.05687545507,\n",
       " '130099705001': 57423.888820430504,\n",
       " '130099705002': 57423.888820430504,\n",
       " '130099705003': 41668.26668802682,\n",
       " '130099706001': 43067.91661532288,\n",
       " '130099706002': 43067.91661532288,\n",
       " '130099706003': 43067.91661532288,\n",
       " '130099706004': 43067.91661532288,\n",
       " '130099707011': 30195.726300354243,\n",
       " '130099707012': 30195.726300354243,\n",
       " '130099707013': 30195.726300354243,\n",
       " '130099707021': 53049.02675259803,\n",
       " '130099707022': 53049.02675259803,\n",
       " '130099708001': 51224.89283095809,\n",
       " '130099708002': 51224.89283095809,\n",
       " '130099708003': 37056.305452182445,\n",
       " '130099708004': 37056.305452182445,\n",
       " '130119701001': 116951.07671193432,\n",
       " '130119701002': 116951.07671193432,\n",
       " '130119702001': 104950.7994664288,\n",
       " '130119702002': 104950.7994664288,\n",
       " '130119703001': 103987.1060738643,\n",
       " '130119703002': 103987.1060738643,\n",
       " '130119704001': 177044.2432625633,\n",
       " '130131801031': 280664.2280440221,\n",
       " '130131801041': 108576.12222893334,\n",
       " '130131801051': 127987.66056487535,\n",
       " '130131801061': 60001.38622752762,\n",
       " '130131801062': 60001.38622752762,\n",
       " '130131801071': 94143.66642124123,\n",
       " '130131801072': 94143.66642124123,\n",
       " '130131801081': 67206.141590986,\n",
       " '130131801082': 67206.141590986,\n",
       " '130131802031': 84024.88579931401,\n",
       " '130131802032': 84024.88579931401,\n",
       " '130131802041': 74181.44614669093,\n",
       " '130131802042': 74181.44614669093,\n",
       " '130131802051': 77064.87796412598,\n",
       " '130131802052': 77064.87796412598,\n",
       " '130131802053': 77064.87796412598,\n",
       " '130131802061': 76613.62470887751,\n",
       " '130131802062': 76613.62470887751,\n",
       " '130131803011': 146527.28583135424,\n",
       " '130131803021': 134113.9971318925,\n",
       " '130131803022': 134113.9971318925,\n",
       " '130131803031': 132278.3906698649,\n",
       " '130131803032': 132278.3906698649,\n",
       " '130131804011': 139712.59684107674,\n",
       " '130131804012': 139712.59684107674,\n",
       " '130131804021': 96644.68022575385,\n",
       " '130131804022': 96644.68022575385,\n",
       " '130131804023': 96644.68022575385,\n",
       " '130131805011': 362440.4959273523,\n",
       " '130131805021': 56662.87697471489,\n",
       " '130131805022': 56662.87697471489,\n",
       " '130131805023': 56662.87697471489,\n",
       " '130131805024': 56662.87697471489,\n",
       " '130131805031': 270797.84331062366,\n",
       " '130159601011': 76039.99768949389,\n",
       " '130159601021': 55970.700371325314,\n",
       " '130159601022': 40475.122487708875,\n",
       " '130159601023': 57332.10849732912,\n",
       " '130159602001': 25588.354080664933,\n",
       " '130159602002': 35206.931941689625,\n",
       " '130159602003': 35381.31455558225,\n",
       " '130159602004': 35206.931941689625,\n",
       " '130159602005': 35381.31455558225,\n",
       " '130159603001': 87719.04380414457,\n",
       " '130159603002': 69730.10047627396,\n",
       " '130159604011': 84300.22676861814,\n",
       " '130159604012': 64016.77536321302,\n",
       " '130159604013': 84300.22676861814,\n",
       " '130159604021': 42555.47647800684,\n",
       " '130159604022': 40153.891356854045,\n",
       " '130159604023': 74999.8206943449,\n",
       " '130159605001': 74525.62235832111,\n",
       " '130159605002': 74525.62235832111,\n",
       " '130159605003': 74525.62235832111,\n",
       " '130159605004': 32478.761837501086,\n",
       " '130159606001': 26769.260904569364,\n",
       " '130159606002': 26769.260904569364,\n",
       " '130159606003': 26769.260904569364,\n",
       " '130159606004': 41568.838004667,\n",
       " '130159606005': 41568.838004667,\n",
       " '130159606006': 26769.260904569364,\n",
       " '130159607001': 28038.888707471797,\n",
       " '130159607002': 28038.888707471797,\n",
       " '130159607003': 40823.88771549412,\n",
       " '130159607004': 40823.88771549412,\n",
       " '130159607005': 40823.88771549412,\n",
       " '130159608011': 108622.01239048403,\n",
       " '130159608012': 108622.01239048403,\n",
       " '130159608021': 79275.25407881755,\n",
       " '130159608022': 79275.25407881755,\n",
       " '130159608031': 28543.68048452939,\n",
       " '130159608032': 28543.68048452939,\n",
       " '130159608033': 57943.977318005,\n",
       " '130159609011': 64957.52367500217,\n",
       " '130159609012': 64957.52367500217,\n",
       " '130159609021': 85034.46935342919,\n",
       " '130159609022': 85034.46935342919,\n",
       " '130159609023': 85034.46935342919,\n",
       " '130159609024': 85034.46935342919,\n",
       " '130159610001': 39121.36272196351,\n",
       " '130159610002': 39121.36272196351,\n",
       " '130159610003': 63672.59915158284,\n",
       " '130159610004': 63672.59915158284,\n",
       " '130179601001': 136110.21915934753,\n",
       " '130179602001': 79160.52867494083,\n",
       " '130179603001': 40165.36389724172,\n",
       " '130179603002': 40165.36389724172,\n",
       " '130179603003': 40165.36389724172,\n",
       " '130179603004': 40165.36389724172,\n",
       " '130179604001': 48574.73600140572,\n",
       " '130179604002': 48574.73600140572,\n",
       " '130179604003': 48574.73600140572,\n",
       " '130179604004': 48574.73600140572,\n",
       " '130179605001': 37015.004306786825,\n",
       " '130179605002': 37015.004306786825,\n",
       " '130179605003': 37015.004306786825,\n",
       " '130179605004': 37015.004306786825,\n",
       " '130179605005': 7140.509137287416,\n",
       " '130199701001': 30516.957431209074,\n",
       " '130199701002': 30516.957431209074,\n",
       " '130199702001': 86893.02089623215,\n",
       " '130199702002': 86893.02089623215,\n",
       " '130199703001': 43396.79610643616,\n",
       " '130199703002': 43396.79610643616,\n",
       " '130199703003': 43396.79610643616,\n",
       " '130199704001': 53783.269337409074,\n",
       " '130199704002': 53783.269337409074,\n",
       " '130199704003': 53783.269337409074,\n",
       " '130199705001': 77692.04350531874,\n",
       " '130199705002': 77692.04350531874,\n",
       " '130199706001': 51075.74980591834,\n",
       " '130199706002': 51075.74980591834,\n",
       " '130199706003': 51075.74980591834,\n",
       " '130210101001': 38593.625864130576,\n",
       " '130210101002': 38593.625864130576,\n",
       " '130210102001': 30088.649256735964,\n",
       " '130210102002': 30088.649256735964,\n",
       " '130210102003': 30088.649256735964,\n",
       " '130210103001': 163093.63415115347,\n",
       " '130210104001': 18390.482241439153,\n",
       " '130210104002': 18390.482241439153,\n",
       " '130210104003': 18390.482241439153,\n",
       " '130210104004': 18390.482241439153,\n",
       " '130210105001': 63580.81882848146,\n",
       " '130210105002': 63580.81882848146,\n",
       " '130210108001': 74250.28138901696,\n",
       " '130210110001': 29342.1692955114,\n",
       " '130210110002': 29342.1692955114,\n",
       " '130210110003': 29342.1692955114,\n",
       " '130210110004': 29342.1692955114,\n",
       " '130210110005': 8214.33891757357,\n",
       " '130210111001': 28375.416558843528,\n",
       " '130210111002': 28375.416558843528,\n",
       " '130210111003': 28375.416558843528,\n",
       " '130210115001': 29599.154200195266,\n",
       " '130210115002': 29599.154200195266,\n",
       " '130210117011': 65714.71134058856,\n",
       " '130210117012': 65714.71134058856,\n",
       " '130210117021': 32574.366340731693,\n",
       " '130210117022': 32574.366340731693,\n",
       " '130210117023': 32574.366340731693,\n",
       " '130210117024': 32574.366340731693,\n",
       " '130210117025': 32574.366340731693,\n",
       " '130210117026': 32574.366340731693,\n",
       " '130210118001': 46291.70046425888,\n",
       " '130210118002': 46291.70046425888,\n",
       " '130210118003': 46291.70046425888,\n",
       " '130210118004': 46291.70046425888,\n",
       " '130210119001': 29308.516510374226,\n",
       " '130210119002': 29308.516510374226,\n",
       " '130210119003': 29308.516510374226,\n",
       " '130210120001': 56203.97535920799,\n",
       " '130210120002': 56203.97535920799,\n",
       " '130210120003': 56203.97535920799,\n",
       " '130210120004': 56203.97535920799,\n",
       " '130210121011': 139138.9698216931,\n",
       " '130210121021': 83673.06122742538,\n",
       " '130210121022': 83673.06122742538,\n",
       " '130210121023': 83673.06122742538,\n",
       " '130210122001': 57660.98798844241,\n",
       " '130210122002': 57660.98798844241,\n",
       " '130210123001': 54364.544717051154,\n",
       " '130210123002': 54364.544717051154,\n",
       " '130210123003': 54364.544717051154,\n",
       " '130210124001': 52647.48783902949,\n",
       " '130210124002': 52647.48783902949,\n",
       " '130210124003': 52647.48783902949,\n",
       " '130210124004': 52647.48783902949,\n",
       " '130210125001': 48184.66962822485,\n",
       " '130210125002': 48184.66962822485,\n",
       " '130210125003': 48184.66962822485,\n",
       " '130210126001': 46876.80002403018,\n",
       " '130210126002': 46876.80002403018,\n",
       " '130210126003': 46876.80002403018,\n",
       " '130210126004': 46876.80002403018,\n",
       " '130210127001': 26906.931389221438,\n",
       " '130210127002': 26906.931389221438,\n",
       " '130210127003': 26906.931389221438,\n",
       " '130210128001': 46869.151663771736,\n",
       " '130210128002': 46869.151663771736,\n",
       " '130210128003': 46869.151663771736,\n",
       " '130210129001': 37538.152148464695,\n",
       " '130210129002': 37538.152148464695,\n",
       " '130210131011': 92407.48864257344,\n",
       " '130210131012': 92407.48864257344,\n",
       " '130210131013': 92407.48864257344,\n",
       " '130210131021': 48333.8126532646,\n",
       " '130210131022': 48333.8126532646,\n",
       " '130210131023': 48333.8126532646,\n",
       " '130210131024': 48333.8126532646,\n",
       " '130210132011': 61745.212366453845,\n",
       " '130210132012': 61745.212366453845,\n",
       " '130210132013': 61745.212366453845,\n",
       " '130210132014': 61745.212366453845,\n",
       " '130210132021': 46976.22870739001,\n",
       " '130210132022': 46976.22870739001,\n",
       " '130210132023': 46976.22870739001,\n",
       " '130210133021': 43033.49899415986,\n",
       " '130210133022': 43033.49899415986,\n",
       " '130210133023': 43033.49899415986,\n",
       " '130210133024': 43033.49899415986,\n",
       " '130210134071': 69079.98985430585,\n",
       " '130210134072': 69079.98985430585,\n",
       " '130210134073': 69079.98985430585,\n",
       " '130210134081': 100270.00298825839,\n",
       " '130210134082': 100270.00298825839,\n",
       " '130210134091': 100705.95952298994,\n",
       " '130210134092': 100705.95952298994,\n",
       " '130210134101': 59213.60512090743,\n",
       " '130210134102': 59213.60512090743,\n",
       " '130210134103': 26968.11827128902,\n",
       " '130210134111': 110526.45409483768,\n",
       " '130210134112': 110526.45409483768,\n",
       " '130210135021': 41324.09047639665,\n",
       " '130210135022': 41324.09047639665,\n",
       " '130210135031': 116698.68082340552,\n",
       " '130210135041': 55733.60120331342,\n",
       " '130210135042': 55733.60120331342,\n",
       " '130210135043': 52073.86081964586,\n",
       " '130210135044': 52073.86081964586,\n",
       " '130210136031': 114059.99653424084,\n",
       " '130210136032': 114059.99653424084,\n",
       " '130210136041': 73837.26993506076,\n",
       " '130210136042': 73837.26993506076,\n",
       " '130210136043': 73837.26993506076,\n",
       " '130210136051': 95390.34914336831,\n",
       " '130210136052': 95390.34914336831,\n",
       " '130210136053': 95390.34914336831,\n",
       " '130210136061': 46119.61235844379,\n",
       " '130210136062': 30895.551264002268,\n",
       " '130210136063': 30895.551264002268,\n",
       " '130210136064': 46119.61235844379,\n",
       " '130210137001': 28666.05424866456,\n",
       " '130210137002': 17392.37122771164,\n",
       " '130210137003': 17392.37122771164,\n",
       " '130210138001': 33499.81793200395,\n",
       " '130210138002': 33499.81793200395,\n",
       " '130210139001': 42769.630565243395,\n",
       " '130210139002': 42769.630565243395,\n",
       " '130237901001': 100086.44234205563,\n",
       " '130237901002': 100086.44234205563,\n",
       " '130237902001': 63879.104878560946,\n",
       " '130237902002': 63879.104878560946,\n",
       " '130237903001': 26765.43672444014,\n",
       " '130237903002': 26765.43672444014,\n",
       " '130237903003': 35369.842015194576,\n",
       " '130237903004': 35369.842015194576,\n",
       " '130259601001': 51687.618626594216,\n",
       " '130259601002': 56919.09704337291,\n",
       " '130259601003': 56919.09704337291,\n",
       " '130259602001': 28176.559192123867,\n",
       " '130259602002': 60529.12308536055,\n",
       " '130259602003': 60529.12308536055,\n",
       " '130259603001': 79129.93523390703,\n",
       " '130259603002': 79129.93523390703,\n",
       " '130259603003': 79129.93523390703,\n",
       " '130279602001': 31572.43114687495,\n",
       " '130279602002': 31572.43114687495,\n",
       " '130279603001': 45511.56771789714,\n",
       " '130279603002': 45511.56771789714,\n",
       " '130279603003': 17748.019979729488,\n",
       " '130279603004': 45511.56771789714,\n",
       " '130279604001': 58173.42812575845,\n",
       " '130279604002': 58173.42812575845,\n",
       " '130279604003': 58173.42812575845,\n",
       " '130279605001': 46991.525427906905,\n",
       " '130279605002': 46991.525427906905,\n",
       " '130279605003': 46991.525427906905,\n",
       " '130279606001': 38073.537366556084,\n",
       " '130279606002': 38073.537366556084,\n",
       " '130279606003': 38073.537366556084,\n",
       " '130299201011': 121540.09286700336,\n",
       " '130299201012': 121540.09286700336,\n",
       " '130299201021': 68208.07678484273,\n",
       " '130299201022': 23618.136478088625,\n",
       " '130299201023': 68208.07678484273,\n",
       " '130299203011': 80583.12368301224,\n",
       " '130299203031': 160913.85147749566,\n",
       " '130299203032': 160913.85147749566,\n",
       " '130299203051': 114128.83177656686,\n",
       " '130299203052': 114128.83177656686,\n",
       " '130299203061': 150320.87251954465,\n",
       " '130299203062': 150320.87251954465,\n",
       " '130299203063': 128614.82610606811,\n",
       " '130299800001': 0.0,\n",
       " '130311101001': 55940.10693029152,\n",
       " '130311101002': 55940.10693029152,\n",
       " '130311101003': 55940.10693029152,\n",
       " '130311102001': 31549.486066099606,\n",
       " '130311102002': 28551.328844787837,\n",
       " '130311102003': 31549.486066099606,\n",
       " '130311102004': 31549.486066099606,\n",
       " '130311102005': 31549.486066099606,\n",
       " '130311102006': 28551.328844787837,\n",
       " '130311103001': 42792.57564601874,\n",
       " '130311103002': 71554.23439791391,\n",
       " '130311103003': 42792.57564601874,\n",
       " '130311103004': 71554.23439791391,\n",
       " '130311104011': 64552.16058130441,\n",
       " '130311104012': 64552.16058130441,\n",
       " '130311104013': 64552.16058130441,\n",
       " '130311104031': 81546.81707557674,\n",
       " '130311104032': 29461.483715543196,\n",
       " '130311104033': 81546.81707557674,\n",
       " '130311104041': 84713.23822257436,\n",
       " '130311104042': 84713.23822257436,\n",
       " '130311104043': 51595.838303492834,\n",
       " '130311105001': 50765.991215451184,\n",
       " '130311105002': 50765.991215451184,\n",
       " '130311105003': 50765.991215451184,\n",
       " '130311105004': 50765.991215451184,\n",
       " '130311106011': 48123.48274615727,\n",
       " '130311106012': 63924.99504011164,\n",
       " '130311106013': 63924.99504011164,\n",
       " '130311106021': 67489.13092054859,\n",
       " '130311106022': 67489.13092054859,\n",
       " '130311106023': 67489.13092054859,\n",
       " '130311107001': 58131.362144336985,\n",
       " '130311107002': 25836.16095303866,\n",
       " '130311107003': 58131.362144336985,\n",
       " '130311107004': 44433.14892145592,\n",
       " '130311108001': 68697.57184138344,\n",
       " '130311108002': 68697.57184138344,\n",
       " '130311109001': 54081.55538748856,\n",
       " '130311109002': 54081.55538748856,\n",
       " '130311109003': 31010.276667878996,\n",
       " '130311109004': 31010.276667878996,\n",
       " '130339501001': 73860.2150158361,\n",
       " '130339501002': 58005.164200072584,\n",
       " '130339502001': 74319.116631343,\n",
       " '130339502002': 74319.116631343,\n",
       " '130339504001': 54356.896356792706,\n",
       " '130339504002': 54356.896356792706,\n",
       " '130339504003': 54356.896356792706,\n",
       " '130339504004': 54356.896356792706,\n",
       " '130339505001': 89960.01335986995,\n",
       " '130339505002': 89960.01335986995,\n",
       " '130339505003': 89960.01335986995,\n",
       " '130339507001': 44957.061599159635,\n",
       " '130339507002': 44957.061599159635,\n",
       " '130339507003': 44957.061599159635,\n",
       " '130339509001': 38708.351268007296,\n",
       " '130339509002': 38708.351268007296,\n",
       " '130351501001': 43072.50563147795,\n",
       " '130351501002': 40264.0277445757,\n",
       " '130351501003': 43072.50563147795,\n",
       " '130351501004': 43072.50563147795,\n",
       " '130351501005': 40264.0277445757,\n",
       " '130351502001': 22477.00112752813,\n",
       " '130351502002': 45688.2448398673,\n",
       " '130351502003': 45688.2448398673,\n",
       " '130351502004': 45688.2448398673,\n",
       " '130351502005': 45688.2448398673,\n",
       " '130351503001': 96862.65849311963,\n",
       " '130351503002': 96862.65849311963,\n",
       " '130351503003': 96862.65849311963,\n",
       " '130351503004': 96862.65849311963,\n",
       " '130379501001': 68468.12103362998,\n",
       " '130379501002': 68468.12103362998,\n",
       " '130379502001': 30792.298400513217,\n",
       " '130379502002': 30792.298400513217,\n",
       " '130379502003': 30792.298400513217,\n",
       " '130379502004': 30792.298400513217,\n",
       " '130390101001': 63511.983586155424,\n",
       " '130390101002': 63511.983586155424,\n",
       " '130390102001': 33392.74088838567,\n",
       " '130390102002': 33392.74088838567,\n",
       " '130390102003': 41086.99130838475,\n",
       " '130390103011': 40176.83643762939,\n",
       " '130390103012': 31606.84876803797,\n",
       " '130390103013': 31606.84876803797,\n",
       " '130390103014': 23828.466385195956,\n",
       " '130390103021': 73393.66504007074,\n",
       " '130390103022': 73393.66504007074,\n",
       " '130390103023': 73393.66504007074,\n",
       " '130390104011': 110457.61885251164,\n",
       " '130390104012': 110457.61885251164,\n",
       " '130390104013': 78594.55001581565,\n",
       " '130390104021': 49446.649070868836,\n",
       " '130390104022': 91527.92721285188,\n",
       " '130390104031': 197327.69466796846,\n",
       " '130390105001': 74273.22646979231,\n",
       " '130390105002': 74273.22646979231,\n",
       " '130390106011': 54165.68735033149,\n",
       " '130390106012': 38134.72424862367,\n",
       " '130390106013': 54165.68735033149,\n",
       " '130390106021': 64842.798271125444,\n",
       " '130399900000': 0.0,\n",
       " '130439501001': 80751.3876086981,\n",
       " '130439501002': 80751.3876086981,\n",
       " '130439501003': 80751.3876086981,\n",
       " '130439502001': 48643.571243731756,\n",
       " '130439502002': 48643.571243731756,\n",
       " '130439502003': 48643.571243731756,\n",
       " '130439503001': 55664.76596098738,\n",
       " '130439503002': 55664.76596098738,\n",
       " '130459101011': 142121.83032248798,\n",
       " '130459101012': 142121.83032248798,\n",
       " '130459101031': 117341.1430851152,\n",
       " '130459101032': 117341.1430851152,\n",
       " '130459101041': 60139.056712179685,\n",
       " '130459101042': 51993.55303693215,\n",
       " '130459101043': 51993.55303693215,\n",
       " '130459101044': 60139.056712179685,\n",
       " '130459102001': 65087.54579939579,\n",
       " '130459102002': 91367.31164742446,\n",
       " '130459102003': 53936.23654257804,\n",
       " '130459103001': 51228.71701108731,\n",
       " '130459103002': 60085.518190370545,\n",
       " '130459103003': 60085.518190370545,\n",
       " '130459104001': 54945.82009669323,\n",
       " '130459104002': 54945.82009669323,\n",
       " '130459104003': 54945.82009669323,\n",
       " '130459105011': 46498.20619123698,\n",
       " '130459105012': 47427.48196263846,\n",
       " '130459105013': 47427.48196263846,\n",
       " '130459105014': 47427.48196263846,\n",
       " '130459105021': 49041.28597717108,\n",
       " '130459105022': 49041.28597717108,\n",
       " '130459105023': 49041.28597717108,\n",
       " '130459106001': 90051.79368297133,\n",
       " '130459106002': 90051.79368297133,\n",
       " '130459106003': 90051.79368297133,\n",
       " '130459107011': 57546.26258456568,\n",
       " '130459107012': 75764.65672018974,\n",
       " '130459107013': 75764.65672018974,\n",
       " '130459107021': 81332.66298834018,\n",
       " '130459107022': 72445.26836802314,\n",
       " '130459107023': 72445.26836802314,\n",
       " '130459107031': 45637.76566216154,\n",
       " '130459107032': 42781.10310563107,\n",
       " '130459107033': 42781.10310563107,\n",
       " '130459107034': 45637.76566216154,\n",
       " '130459108001': 90518.34365873669,\n",
       " '130459108002': 90518.34365873669,\n",
       " '130459109001': 93111.1377863507,\n",
       " '130459109002': 93111.1377863507,\n",
       " '130459110001': 50601.55146989455,\n",
       " '130459110002': 54456.32504015254,\n",
       " '130459110003': 50601.55146989455,\n",
       " '130459111001': 27855.328061269036,\n",
       " '130459111002': 47413.71491417326,\n",
       " '130459111003': 47413.71491417326,\n",
       " '130459111004': 27855.328061269036,\n",
       " '130459111005': 47413.71491417326,\n",
       " '130459112001': 33316.257285801184,\n",
       " '130459112002': 34027.55478983688,\n",
       " '130459112003': 34027.55478983688,\n",
       " '130459112004': 33316.257285801184,\n",
       " '130470301001': 76797.18535508028,\n",
       " '130470301002': 76797.18535508028,\n",
       " '130470301003': 76797.18535508028,\n",
       " '130470301004': 76797.18535508028,\n",
       " '130470302011': 123306.86408670494,\n",
       " '130470302012': 123306.86408670494,\n",
       " '130470302021': 98128.46211589285,\n",
       " '130470302022': 98128.46211589285,\n",
       " '130470302023': 98128.46211589285,\n",
       " '130470303011': 29966.27549260079,\n",
       " '130470303012': 85126.24967653057,\n",
       " '130470303013': 85126.24967653057,\n",
       " '130470303031': 166030.60449039764,\n",
       " '130470303041': 186956.51815751244,\n",
       " '130470304011': 79848.8810982012,\n",
       " '130470304012': 79848.8810982012,\n",
       " '130470304013': 42647.25680110822,\n",
       " '130470304021': 66965.21824284487,\n",
       " '130470304022': 66965.21824284487,\n",
       " '130470304023': 66965.21824284487,\n",
       " '130470304024': 66965.21824284487,\n",
       " '130470305001': 44681.72062985549,\n",
       " '130470305002': 57622.74618715017,\n",
       " '130470305003': 57622.74618715017,\n",
       " '130470306001': 51149.17406439944,\n",
       " '130470306002': 51149.17406439944,\n",
       " '130470306003': 51149.17406439944,\n",
       " '130470306004': 51149.17406439944,\n",
       " '130470306005': 51149.17406439944,\n",
       " '130470307001': 43384.55873002264,\n",
       " '130470307002': 43384.55873002264,\n",
       " '130470307003': 27965.46444899069,\n",
       " '130470307004': 27965.46444899069,\n",
       " '130470307005': 27965.46444899069,\n",
       " '130490101001': 55423.84261284625,\n",
       " '130490101002': 55423.84261284625,\n",
       " '130490101003': 48563.26346101805,\n",
       " '130490101004': 48563.26346101805,\n",
       " '130490102001': 76911.910758957,\n",
       " '130490102002': 76911.910758957,\n",
       " '130510001001': 132668.45704304575,\n",
       " '130510003001': 66334.22852152288,\n",
       " '130510003002': 66334.22852152288,\n",
       " '130510006011': 43549.76331160513,\n",
       " '130510006012': 43549.76331160513,\n",
       " '130510006013': 43549.76331160513,\n",
       " '130510006014': 43549.76331160513,\n",
       " '130510006015': 43549.76331160513,\n",
       " '130510009001': 90449.50841641065,\n",
       " '130510011001': 39304.92336816627,\n",
       " '130510011002': 39304.92336816627,\n",
       " '130510012001': 128263.0015341795,\n",
       " '130510015001': 90449.50841641065,\n",
       " '130510020001': 29713.879604071994,\n",
       " '130510020002': 29713.879604071994,\n",
       " '130510021001': 33882.23594492637,\n",
       " '130510021002': 33882.23594492637,\n",
       " '130510021003': 33882.23594492637,\n",
       " '130510022001': 40704.57329546233,\n",
       " '130510022002': 40704.57329546233,\n",
       " '130510022003': 40704.57329546233,\n",
       " '130510022004': 40704.57329546233,\n",
       " '130510022005': 40704.57329546233,\n",
       " '130510023001': 40704.57329546233,\n",
       " '130510023002': 40704.57329546233,\n",
       " '130510026001': 41943.60765733097,\n",
       " '130510026002': 41943.60765733097,\n",
       " '130510027001': 37354.59150226194,\n",
       " '130510027002': 37354.59150226194,\n",
       " '130510027003': 37354.59150226194,\n",
       " '130510027004': 37354.59150226194,\n",
       " '130510028001': 48857.725330968315,\n",
       " '130510028002': 48857.725330968315,\n",
       " '130510028003': 48857.725330968315,\n",
       " '130510029001': 33350.6749069642,\n",
       " '130510029002': 33350.6749069642,\n",
       " '130510029003': 33350.6749069642,\n",
       " '130510029004': 33350.6749069642,\n",
       " '130510030001': 42287.783868961145,\n",
       " '130510030002': 42287.783868961145,\n",
       " '130510033011': 35289.534232480866,\n",
       " '130510033012': 35289.534232480866,\n",
       " '130510033021': 49308.97858621677,\n",
       " '130510033022': 49308.97858621677,\n",
       " '130510034001': 41227.7211371402,\n",
       " '130510034002': 41227.7211371402,\n",
       " '130510034003': 41227.7211371402,\n",
       " '130510034004': 41227.7211371402,\n",
       " '130510034005': 41227.7211371402,\n",
       " '130510035011': 38578.32914361367,\n",
       " '130510035012': 38578.32914361367,\n",
       " '130510035013': 38578.32914361367,\n",
       " '130510035021': 43916.88460401065,\n",
       " '130510035022': 43916.88460401065,\n",
       " '130510035023': 43916.88460401065,\n",
       " '130510035024': 43916.88460401065,\n",
       " '130510036011': 93225.86319022742,\n",
       " '130510036012': 93225.86319022742,\n",
       " '130510036021': 49166.71908540963,\n",
       " '130510036022': 49166.71908540963,\n",
       " '130510036023': 49166.71908540963,\n",
       " '130510036024': 49166.71908540963,\n",
       " '130510036025': 49166.71908540963,\n",
       " '130510037001': 49630.2097170716,\n",
       " '130510037002': 49630.2097170716,\n",
       " '130510038001': 68766.40708370948,\n",
       " '130510038002': 68766.40708370948,\n",
       " '130510039001': 43377.67520579004,\n",
       " '130510039002': 43377.67520579004,\n",
       " '130510039003': 43377.67520579004,\n",
       " '130510039004': 43377.67520579004,\n",
       " '130510040011': 41007.44836169689,\n",
       " '130510040012': 41007.44836169689,\n",
       " '130510040013': 41007.44836169689,\n",
       " '130510040014': 41007.44836169689,\n",
       " '130510040015': 41007.44836169689,\n",
       " '130510040021': 36012.304276904244,\n",
       " '130510040022': 36012.304276904244,\n",
       " '130510040023': 36012.304276904244,\n",
       " '130510040024': 36012.304276904244,\n",
       " '130510041001': 48460.010597529,\n",
       " '130510041002': 48460.010597529,\n",
       " '130510042071': 46654.99757653518,\n",
       " '130510042072': 46654.99757653518,\n",
       " '130510042073': 46654.99757653518,\n",
       " '130510042081': 40364.98609998722,\n",
       " '130510042082': 40364.98609998722,\n",
       " '130510042083': 40364.98609998722,\n",
       " '130510042084': 40364.98609998722,\n",
       " '130510042085': 40364.98609998722,\n",
       " '130510042091': 54701.07256842288,\n",
       " '130510042092': 54701.07256842288,\n",
       " '130510042093': 54701.07256842288,\n",
       " '130510042101': 56857.91016130533,\n",
       " '130510042102': 56857.91016130533,\n",
       " '130510042103': 56857.91016130533,\n",
       " '130510042104': 56857.91016130533,\n",
       " '130510042111': 59645.73747550976,\n",
       " '130510042112': 59645.73747550976,\n",
       " '130510042113': 59645.73747550976,\n",
       " '130510042114': 59645.73747550976,\n",
       " '130510042121': 87910.25281060579,\n",
       " '130510042122': 87910.25281060579,\n",
       " '130510042123': 87910.25281060579,\n",
       " '130510043001': 135421.8667360872,\n",
       " '130510044001': 60368.50751993314,\n",
       " '130510044002': 60368.50751993314,\n",
       " '130510045001': 47117.723372171306,\n",
       " '130510045002': 47117.723372171306,\n",
       " '130510045003': 47117.723372171306,\n",
       " '130510045004': 47117.723372171306,\n",
       " '130510101011': 31320.035258346154,\n",
       " '130510101012': 31320.035258346154,\n",
       " '130510101021': 64689.83106595648,\n",
       " '130510101022': 64689.83106595648,\n",
       " '130510101023': 64689.83106595648,\n",
       " '130510102001': 71833.39954734728,\n",
       " '130510102002': 71833.39954734728,\n",
       " '130510102003': 71833.39954734728,\n",
       " '130510105011': 37721.71279466746,\n",
       " '130510105012': 37721.71279466746,\n",
       " '130510105013': 16951.82567682501,\n",
       " '130510105014': 16951.82567682501,\n",
       " '130510105015': 16951.82567682501,\n",
       " '130510105021': 100338.83823058443,\n",
       " '130510105022': 100338.83823058443,\n",
       " '130510106011': 34838.28097723241,\n",
       " '130510106012': 34838.28097723241,\n",
       " '130510106013': 34838.28097723241,\n",
       " '130510106014': 34838.28097723241,\n",
       " '130510106015': 34838.28097723241,\n",
       " '130510106016': 34838.28097723241,\n",
       " '130510106031': 120232.22326280868,\n",
       " '130510106051': 62640.07051669231,\n",
       " '130510107001': 51305.2006136718,\n",
       " '130510107002': 51305.2006136718,\n",
       " '130510107003': 51305.2006136718,\n",
       " '130510108011': 92445.73044386569,\n",
       " '130510108012': 92445.73044386569,\n",
       " '130510108021': 44742.90751192308,\n",
       " '130510108022': 46899.74510480552,\n",
       " '130510108031': 58991.80267341243,\n",
       " '130510108032': 58991.80267341243,\n",
       " '130510108033': 58991.80267341243,\n",
       " '130510108034': 63947.94012088698,\n",
       " '130510108061': 73229.22529451411,\n",
       " '130510108062': 73229.22529451411,\n",
       " '130510108063': 73229.22529451411,\n",
       " '130510108064': 73229.22529451411,\n",
       " '130510108071': 100117.0357830894,\n",
       " '130510108072': 100117.0357830894,\n",
       " '130510108073': 100117.0357830894,\n",
       " '130510108081': 54964.94099733935,\n",
       " '130510108082': 27476.734228475838,\n",
       " '130510108083': 27476.734228475838,\n",
       " '130510108084': 60701.211191175644,\n",
       " '130510108091': 107956.60504799902,\n",
       " '130510108092': 86112.88814987041,\n",
       " '130510109011': 61446.92631637436,\n",
       " '130510109012': 61446.92631637436,\n",
       " '130510109013': 61446.92631637436,\n",
       " '130510110031': 34876.52277852465,\n",
       " '130510110032': 34876.52277852465,\n",
       " '130510110033': 34876.52277852465,\n",
       " '130510110034': 23963.842361770498,\n",
       " '130510110035': 23963.842361770498,\n",
       " '130510110041': 54379.84143756805,\n",
       " '130510110042': 54379.84143756805,\n",
       " '130510110043': 54379.84143756805,\n",
       " '130510110051': 56249.86552075868,\n",
       " '130510110052': 56249.86552075868,\n",
       " '130510110053': 56249.86552075868,\n",
       " '130510110054': 56249.86552075868,\n",
       " '130510110061': 95956.3278024935,\n",
       " '130510110062': 95956.3278024935,\n",
       " '130510111031': 18011.88840864596,\n",
       " '130510111032': 21946.969761617653,\n",
       " '130510111033': 18011.88840864596,\n",
       " '130510111034': 21946.969761617653,\n",
       " '130510111041': 80338.37615474188,\n",
       " '130510111042': 80338.37615474188,\n",
       " '130510111043': 80338.37615474188,\n",
       " '130510111061': 68376.3407105286,\n",
       " '130510111062': 50708.62851351282,\n",
       " '130510111071': 52620.71857812492,\n",
       " '130510111072': 52620.71857812492,\n",
       " '130510111073': 52620.71857812492,\n",
       " '130510111081': 70051.3316071288,\n",
       " '130510111082': 70051.3316071288,\n",
       " '130510111091': 46532.6238124,\n",
       " '130510111092': 36253.227625045365,\n",
       " '130510111093': 46532.6238124,\n",
       " '130510111094': 36253.227625045365,\n",
       " '130510112001': 38341.229975601775,\n",
       " '130510112002': 38341.229975601775,\n",
       " '130510113001': 45362.4246928574,\n",
       " '130510113002': 45362.4246928574,\n",
       " '130510114001': 37354.59150226194,\n",
       " '130510114002': 37354.59150226194,\n",
       " '130510115001': 60483.23292380986,\n",
       " '130510115002': 60483.23292380986,\n",
       " '130510116001': 45683.65582371223,\n",
       " '130510116002': 45683.65582371223,\n",
       " '130519800001': 0.0,\n",
       " '130519900000': 0.0,\n",
       " '130530201001': 46968.58034713156,\n",
       " '130530201002': 46968.58034713156,\n",
       " '130530202011': 68812.29724526015,\n",
       " '130530202012': 68812.29724526015,\n",
       " '130530202031': 36184.39238271933,\n",
       " '130530202032': 36184.39238271933,\n",
       " '130530202051': 33285.66384476739,\n",
       " '130530202052': 33285.66384476739,\n",
       " '130530202053': 33285.66384476739,\n",
       " '130530202061': 33683.378578206706,\n",
       " '130550101001': 52567.18005631578,\n",
       " '130550101002': 52567.18005631578,\n",
       " '130550102001': 25208.99541184589,\n",
       " '130550102002': 25208.99541184589,\n",
       " '130550102003': 25208.99541184589,\n",
       " '130550102004': 25323.72081572262,\n",
       " '130550102005': 25323.72081572262,\n",
       " '130550102006': 25323.72081572262,\n",
       " '130550103001': 40153.891356854045,\n",
       " '130550103002': 40153.891356854045,\n",
       " '130550103003': 40153.891356854045,\n",
       " '130550104001': 22440.288998287575,\n",
       " '130550104002': 31744.51925269004,\n",
       " '130550104003': 22440.288998287575,\n",
       " '130550104004': 31744.51925269004,\n",
       " '130550105001': 29250.38897241002,\n",
       " '130550105002': 27956.286416680556,\n",
       " '130550105003': 29250.38897241002,\n",
       " '130550105004': 29250.38897241002,\n",
       " '130550105005': 29250.38897241002,\n",
       " '130550106001': 55504.15039555996,\n",
       " '130550106002': 55504.15039555996,\n",
       " '130570901001': 56743.1847574286,\n",
       " '130570901002': 56743.1847574286,\n",
       " '130570901003': 24080.862273724753,\n",
       " '130570901004': 50433.28754420868,\n",
       " '130570902001': 101111.32261668771,\n",
       " '130570902002': 101111.32261668771,\n",
       " '130570902003': 34035.20315009533,\n",
       " '130570903001': 140630.40007209053,\n",
       " '130570903002': 59267.14364271657,\n",
       " '130570904001': 78915.78114667049,\n",
       " '130570904002': 78915.78114667049,\n",
       " '130570904003': 86197.02011271335,\n",
       " '130570905011': 64934.57859422683,\n",
       " '130570905012': 93638.87464418363,\n",
       " '130570905021': 60540.595625748225,\n",
       " '130570905022': 54104.500468263905,\n",
       " '130570905023': 48253.50487055089,\n",
       " '130570905024': 48253.50487055089,\n",
       " '130570906011': 61095.101744485735,\n",
       " '130570906012': 72078.14707561763,\n",
       " '130570906013': 61095.101744485735,\n",
       " '130570906021': 93937.16069426312,\n",
       " '130570906022': 46945.635266356214,\n",
       " '130570906023': 46945.635266356214,\n",
       " '130570907011': 57190.61383254783,\n",
       " '130570907012': 30700.518077411834,\n",
       " '130570907013': 46486.73365084931,\n",
       " '130570907014': 71909.88314993176,\n",
       " '130570907021': 58177.252305887676,\n",
       " '130570907022': 58177.252305887676,\n",
       " '130570907023': 50857.771538552566,\n",
       " '130570907024': 50857.771538552566,\n",
       " '130570908021': 60896.244377766074,\n",
       " '130570908022': 60896.244377766074,\n",
       " '130570908023': 66188.90967661235,\n",
       " '130570908031': 110396.43197044404,\n",
       " '130570908032': 101172.50949875529,\n",
       " '130570908033': 101172.50949875529,\n",
       " '130570908041': 66204.20639712927,\n",
       " '130570908042': 74831.55676865905,\n",
       " '130570908043': 66204.20639712927,\n",
       " '130570909011': 78380.39592857909,\n",
       " '130570909012': 58540.54941816397,\n",
       " '130570909013': 78380.39592857909,\n",
       " '130570909021': 58620.092364851844,\n",
       " '130570909022': 43017.43743761712,\n",
       " '130570909023': 55793.25841332931,\n",
       " '130570909024': 58620.092364851844,\n",
       " '130570909025': 43017.43743761712,\n",
       " '130570909041': 53829.159498959765,\n",
       " '130570909042': 53829.159498959765,\n",
       " '130570909043': 68422.2308720793,\n",
       " '130570909044': 68422.2308720793,\n",
       " '130570909051': 111145.971275772,\n",
       " '130570909052': 111145.971275772,\n",
       " '130570910011': 79099.34179287325,\n",
       " '130570910012': 79099.34179287325,\n",
       " '130570910013': 79099.34179287325,\n",
       " '130570910031': 71129.75040357003,\n",
       " '130570910032': 76024.70096897699,\n",
       " '130570910033': 76024.70096897699,\n",
       " '130570910051': 42861.41088834478,\n",
       " '130570910052': 49481.066692031854,\n",
       " '130570910053': 49481.066692031854,\n",
       " '130570910054': 42861.41088834478,\n",
       " '130570910061': 108507.2869866073,\n",
       " '130570910062': 108507.2869866073,\n",
       " '130570910071': 111023.59751163684,\n",
       " '130570910072': 111023.59751163684,\n",
       " '130570910073': 111023.59751163684,\n",
       " '130570910081': 35163.33628821647,\n",
       " '130570910082': 35163.33628821647,\n",
       " '130570910083': 67745.3509892066,\n",
       " '130570910084': 67745.3509892066,\n",
       " '130570911011': 98449.69324674767,\n",
       " '130570911012': 98449.69324674767,\n",
       " '130570911013': 98449.69324674767,\n",
       " '130570911021': 60035.80384869063,\n",
       " '130570911022': 58750.8793252713,\n",
       " '130570911023': 58750.8793252713,\n",
       " '130570911024': 60035.80384869063,\n",
       " '130570911031': 61573.12426063876,\n",
       " '130570911032': 40727.51837623768,\n",
       " '130570911033': 61573.12426063876,\n",
       " '130570911034': 18333.11953950079,\n",
       " '130590001001': 134962.96512058028,\n",
       " '130590004011': 65577.04085593649,\n",
       " '130590004021': 134014.5684485327,\n",
       " '130590004022': 134014.5684485327,\n",
       " '130590004023': 134014.5684485327,\n",
       " '130590006001': 69821.88079937534,\n",
       " '130590006002': 69821.88079937534,\n",
       " '130590009001': 61905.827931881264,\n",
       " '130590009002': 61905.827931881264,\n",
       " '130590009003': 61905.827931881264,\n",
       " '130590012001': 72139.33395768522,\n",
       " '130590012002': 72139.33395768522,\n",
       " '130590017001': 92193.33455533689,\n",
       " '130590018001': 34356.43428095016,\n",
       " '130590018002': 34356.43428095016,\n",
       " '130590018003': 34356.43428095016,\n",
       " '130590019001': 73768.43469273472,\n",
       " '130590019002': 73768.43469273472,\n",
       " '130590020001': 49331.923666992116,\n",
       " '130590020002': 49331.923666992116,\n",
       " '130590021001': 96346.39417567436,\n",
       " '130590021002': 96346.39417567436,\n",
       " '130590022001': 60735.62881233866,\n",
       " '130590022002': 60735.62881233866,\n",
       " '130590301001': 55412.37007245858,\n",
       " '130590301002': 58257.560088601385,\n",
       " '130590302001': 80078.33190595463,\n",
       " '130590302002': 80078.33190595463,\n",
       " '130590302003': 80078.33190595463,\n",
       " '130591303001': 133379.75454708145,\n",
       " '130591303002': 133379.75454708145,\n",
       " '130591304001': 104338.93064575292,\n",
       " '130591304002': 104338.93064575292,\n",
       " '130591304003': 104338.93064575292,\n",
       " '130591305001': 47939.92209995451,\n",
       " '130591305002': 47939.92209995451,\n",
       " '130591305003': 47939.92209995451,\n",
       " '130591306001': 65745.30478162236,\n",
       " '130591306002': 47266.866397211044,\n",
       " '130591306003': 65745.30478162236,\n",
       " '130591307001': 42417.80599335477,\n",
       " '130591307002': 58968.85759263708,\n",
       " '130591307003': 58968.85759263708,\n",
       " '130591403001': 71558.05857804313,\n",
       " '130591403002': 71558.05857804313,\n",
       " '130591403003': 71558.05857804313,\n",
       " '130591404001': 82281.05966038778,\n",
       " '130591404002': 82281.05966038778,\n",
       " '130591405001': 95772.76715629073,\n",
       " '130591406001': 80506.64008042775,\n",
       " '130591406002': 80506.64008042775,\n",
       " '130591406003': 80506.64008042775,\n",
       " '130591503001': 52100.63008055043,\n",
       " '130591503002': 52100.63008055043,\n",
       " '130591503003': 52100.63008055043,\n",
       " '130591504001': 59657.210015897435,\n",
       " '130591504002': 59657.210015897435,\n",
       " '130591504003': 59657.210015897435,\n",
       " '130591505001': 77829.71398997081,\n",
       " '130591505002': 77829.71398997081,\n",
       " '130591505003': 77829.71398997081,\n",
       " '130591506001': 83520.09402225641,\n",
       " '130591506002': 83520.09402225641,\n",
       " '130591507001': 65990.05230989271,\n",
       " '130591507002': 65990.05230989271,\n",
       " '130591507003': 22226.13491105102,\n",
       " '130591508001': 76888.96567818166,\n",
       " '130591508002': 76888.96567818166,\n",
       " '130591508003': 76888.96567818166,\n",
       " '130591508004': 76888.96567818166,\n",
       " '130591509001': 98067.27523382525,\n",
       " '130591509002': 98067.27523382525,\n",
       " '130619603001': 44100.445250213415,\n",
       " '130619603002': 44100.445250213415,\n",
       " '130619603003': 44100.445250213415,\n",
       " '130630402021': 66655.45965237771,\n",
       " '130630402022': 66655.45965237771,\n",
       " '130630402031': 89279.30929686806,\n",
       " '130630402032': 89279.30929686806,\n",
       " '130630402041': 79650.02373148153,\n",
       " '130630402042': 79650.02373148153,\n",
       " '130630402043': 79650.02373148153,\n",
       " '130630403021': 65806.49166368994,\n",
       " '130630403022': 65806.49166368994,\n",
       " '130630403023': 65806.49166368994,\n",
       " '130630403024': 65806.49166368994,\n",
       " '130630403031': 27021.656793098162,\n",
       " '130630403032': 24360.02742315812,\n",
       " '130630403033': 24360.02742315812,\n",
       " '130630403034': 24360.02742315812,\n",
       " '130630403035': 27021.656793098162,\n",
       " '130630403036': 27021.656793098162,\n",
       " '130630403061': 114771.29403827654,\n",
       " '130630403062': 114771.29403827654,\n",
       " '130630403071': 98434.39652623078,\n",
       " '130630403072': 98434.39652623078,\n",
       " '130630403081': 61768.15744722919,\n",
       " '130630403082': 61768.15744722919,\n",
       " '130630403083': 61768.15744722919,\n",
       " '130630404071': 102633.34630811894,\n",
       " '130630404072': 102633.34630811894,\n",
       " '130630404081': 45752.49106603827,\n",
       " '130630404082': 109906.93691390335,\n",
       " '130630404083': 109906.93691390335,\n",
       " '130630404091': 140882.79596061935,\n",
       " '130630404092': 140882.79596061935,\n",
       " '130630404101': 191958.5457665377,\n",
       " '130630404102': 191958.5457665377,\n",
       " '130630404111': 84323.17184939349,\n",
       " '130630404112': 84323.17184939349,\n",
       " '130630404113': 69569.48491084656,\n",
       " '130630404114': 69569.48491084656,\n",
       " '130630404121': 84086.07268138159,\n",
       " '130630404122': 46899.74510480552,\n",
       " '130630404123': 84086.07268138159,\n",
       " '130630404131': 60253.78211605641,\n",
       " '130630404132': 115436.70138076154,\n",
       " '130630404141': 70257.83733410691,\n",
       " ...}"
      ]
     },
     "metadata": {},
     "output_type": "display_data"
    }
   ],
   "source": [
    "areas_demand_export"
   ]
  },
  {
   "cell_type": "code",
   "execution_count": null,
   "id": "327e8b2c",
   "metadata": {},
   "outputs": [],
   "source": []
  },
  {
   "cell_type": "markdown",
   "id": "fcf62941",
   "metadata": {},
   "source": [
    "## total population mismatch (solved)"
   ]
  },
  {
   "cell_type": "code",
   "execution_count": 332,
   "id": "ad4bdf3f",
   "metadata": {},
   "outputs": [
    {
     "data": {
      "text/plain": [
       "10.625615"
      ]
     },
     "execution_count": 332,
     "metadata": {},
     "output_type": "execute_result"
    }
   ],
   "source": [
    "gdf_block_groups_with_population.block_group_population_inferred.sum() / 1000000"
   ]
  },
  {
   "cell_type": "code",
   "execution_count": 333,
   "id": "c4a476f2",
   "metadata": {},
   "outputs": [
    {
     "data": {
      "text/plain": [
       "10.625615"
      ]
     },
     "execution_count": 333,
     "metadata": {},
     "output_type": "execute_result"
    }
   ],
   "source": [
    "gdf_block_groups_with_population.drop_duplicates('GEOID').tract_pop.sum() / 1000000"
   ]
  },
  {
   "cell_type": "code",
   "execution_count": 523,
   "id": "29a79426",
   "metadata": {},
   "outputs": [
    {
     "data": {
      "text/plain": [
       "10.625615"
      ]
     },
     "execution_count": 523,
     "metadata": {},
     "output_type": "execute_result"
    }
   ],
   "source": [
    "df_population_by_tract.POP.sum() / 1000000"
   ]
  },
  {
   "cell_type": "code",
   "execution_count": 540,
   "id": "e7ca90fe",
   "metadata": {},
   "outputs": [],
   "source": [
    "map_my = gdf_block_groups_with_population.explore(\n",
    "    column='tract_pop',  # The column to color shapes by\n",
    "    cmap='YlOrRd',                # Colormap (e.g., Yellow-Orange-Red)\n",
    "    legend=True,                  # Show a legend\n",
    "    tiles='CartoDB positron'      # Base map style\n",
    ")"
   ]
  },
  {
   "cell_type": "code",
   "execution_count": 544,
   "id": "ba168ed8",
   "metadata": {},
   "outputs": [],
   "source": [
    "tracts_2021.POP = tracts_2021.POP.astype(int)\n",
    "map_baseline = tracts_2021.explore(\n",
    "    column='POP',  # The column to color shapes by\n",
    "    cmap='YlOrRd',                # Colormap (e.g., Yellow-Orange-Red)\n",
    "    legend=True,                  # Show a legend\n",
    "    tiles='CartoDB positron'      # Base map style\n",
    ")"
   ]
  },
  {
   "cell_type": "code",
   "execution_count": null,
   "id": "b6ab1de3",
   "metadata": {},
   "outputs": [
    {
     "data": {
      "text/plain": [
       "True"
      ]
     },
     "execution_count": 541,
     "metadata": {},
     "output_type": "execute_result"
    }
   ],
   "source": [
    "# Save the maps to an HTML file\n",
    "# map_my.save('map_my.html')\n",
    "# map_baseline.save('map_baseline.html')"
   ]
  },
  {
   "cell_type": "markdown",
   "id": "8d6f5cf0",
   "metadata": {},
   "source": [
    "Visually overall trends are the same  \n",
    "=> using my total for analysis  \n",
    "trends should be the same"
   ]
  }
 ],
 "metadata": {
  "kernelspec": {
   "display_name": "spatial_analysis_course",
   "language": "python",
   "name": "python3"
  },
  "language_info": {
   "codemirror_mode": {
    "name": "ipython",
    "version": 3
   },
   "file_extension": ".py",
   "mimetype": "text/x-python",
   "name": "python",
   "nbconvert_exporter": "python",
   "pygments_lexer": "ipython3",
   "version": "3.12.3"
  },
  "toc": {
   "base_numbering": 1,
   "nav_menu": {},
   "number_sections": true,
   "sideBar": true,
   "skip_h1_title": true,
   "title_cell": "Table of Contents",
   "title_sidebar": "Contents",
   "toc_cell": false,
   "toc_position": {
    "height": "calc(100% - 180px)",
    "left": "10px",
    "top": "150px",
    "width": "313.6px"
   },
   "toc_section_display": true,
   "toc_window_display": true
  },
  "varInspector": {
   "cols": {
    "lenName": 16,
    "lenType": 16,
    "lenVar": 40
   },
   "kernels_config": {
    "python": {
     "delete_cmd_postfix": "",
     "delete_cmd_prefix": "del ",
     "library": "var_list.py",
     "varRefreshCmd": "print(var_dic_list())"
    },
    "r": {
     "delete_cmd_postfix": ") ",
     "delete_cmd_prefix": "rm(",
     "library": "var_list.r",
     "varRefreshCmd": "cat(var_dic_list()) "
    }
   },
   "types_to_exclude": [
    "module",
    "function",
    "builtin_function_or_method",
    "instance",
    "_Feature"
   ],
   "window_display": false
  }
 },
 "nbformat": 4,
 "nbformat_minor": 5
}
