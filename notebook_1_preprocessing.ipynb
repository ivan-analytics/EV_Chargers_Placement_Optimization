{
 "cells": [
  {
   "cell_type": "code",
   "execution_count": 2,
   "id": "a6223b5c",
   "metadata": {
    "ExecuteTime": {
     "end_time": "2022-02-13T12:03:24.780316Z",
     "start_time": "2022-02-13T12:03:24.768212Z"
    }
   },
   "outputs": [],
   "source": [
    "# BASIC LIBS\n",
    "\n",
    "# data\n",
    "import pandas as pd\n",
    "import numpy as np\n",
    "\n",
    "import geopandas as gpd\n",
    "import contextily as ctx\n",
    "from pyproj import CRS\n",
    "\n",
    "# stat significance\n",
    "import scipy as sp\n",
    "\n",
    "# visualisation\n",
    "import matplotlib.pyplot as plt\n",
    "import seaborn as sns\n",
    "%matplotlib inline\n",
    "sns.set()\n",
    "%config InlineBackend.figure_format = 'retina'\n",
    "\n",
    "\n",
    "# JUPYTER CONFIG\n",
    "import warnings\n",
    "warnings.filterwarnings('ignore')\n",
    "\n",
    "pd.set_option('display.max_columns', 100)\n",
    "pd.set_option('display.max_rows', 100)"
   ]
  },
  {
   "cell_type": "markdown",
   "id": "cdb07233",
   "metadata": {},
   "source": [
    "# DATA"
   ]
  },
  {
   "cell_type": "markdown",
   "id": "82078ff6",
   "metadata": {},
   "source": [
    "## POTENTIAL SITES SET"
   ]
  },
  {
   "cell_type": "code",
   "execution_count": null,
   "id": "3f213428",
   "metadata": {},
   "outputs": [],
   "source": []
  },
  {
   "cell_type": "markdown",
   "id": "c1a3af47",
   "metadata": {},
   "source": [
    "## TRIPS"
   ]
  },
  {
   "cell_type": "markdown",
   "id": "45b38df5",
   "metadata": {},
   "source": [
    "### load, format, hbw+hbo"
   ]
  },
  {
   "cell_type": "code",
   "execution_count": 3,
   "id": "69688af4",
   "metadata": {},
   "outputs": [],
   "source": [
    "df = pd.read_csv('./data/georgia_od_data/GDOT_2019_09_large.csv')"
   ]
  },
  {
   "cell_type": "code",
   "execution_count": 211,
   "id": "18d5d258",
   "metadata": {},
   "outputs": [],
   "source": [
    "df_sample = df"
   ]
  },
  {
   "cell_type": "code",
   "execution_count": 212,
   "id": "4db57b35",
   "metadata": {},
   "outputs": [],
   "source": [
    "# df.sample(10000, random_state = 42).total_linked_trips.describe()"
   ]
  },
  {
   "cell_type": "code",
   "execution_count": 213,
   "id": "e06535f5",
   "metadata": {},
   "outputs": [],
   "source": [
    "# SAMPLE_SIZE = 100\n",
    "\n",
    "# # Step 1: Sample 100 unique ORIG values (or as many as exist if less than 100)\n",
    "# sample_size = min(SAMPLE_SIZE, len(df))  # Handle cases where df has fewer than 100 rows\n",
    "# sample = df[\"origin_zone_id\"].sample(sample_size, random_state=42).to_list()  # Random sample with reproducibility\n",
    "\n",
    "# # Step 2: Extract rows where ORIG or DEST matches any value in the sample\n",
    "# # Convert sample to a set for efficient membership checking\n",
    "# sample_set = set(sample)\n",
    "\n",
    "# # Query rows where ORIG or DEST matches sample values\n",
    "# # df_sample = df[(df[\"origin_zone_id\"].isin(sample_set)) | (df[\"destination_zone_id\"].isin(sample_set))]\n",
    "# df_sample = df[(df[\"origin_zone_id\"].isin(sample_set))]\n",
    "# df_sample.shape"
   ]
  },
  {
   "cell_type": "code",
   "execution_count": 214,
   "id": "9c1958e4",
   "metadata": {},
   "outputs": [
    {
     "data": {
      "text/plain": [
       "Index(['month', 'origin_zone_id', 'destination_zone_id', 'origin_zone_name',\n",
       "       'destination_zone_name', 'origin_state', 'destination_state',\n",
       "       'origin_flag', 'destination_flag', 'day_type', 'avg_linked_trips',\n",
       "       'avg_unlinked_trips', 'avg_tours', 'total_linked_trips',\n",
       "       'total_unlinked_trips', 'total_tours', 'hour_00', 'hour_01', 'hour_02'],\n",
       "      dtype='object')"
      ]
     },
     "execution_count": 214,
     "metadata": {},
     "output_type": "execute_result"
    }
   ],
   "source": [
    "df_sample.columns[1:20]"
   ]
  },
  {
   "cell_type": "code",
   "execution_count": 215,
   "id": "e00fd54e",
   "metadata": {},
   "outputs": [],
   "source": [
    "df_sample_ = df_sample.rename({\n",
    "    \"origin_zone_id\":\"ORIG\", \n",
    "    \"destination_zone_id\":\"DEST\",\n",
    "\n",
    "}, axis=1)\n",
    "\n",
    "df_sample_ = df_sample_[[\"ORIG\", \"DEST\", \"total_linked_trips\", \"total_unlinked_trips\",'purpose_hbw', 'purpose_hbo', 'purpose_wbo', 'purpose_obo']]\n",
    "df_sample_[\"TRIPS_HOMEBASED\"] = df_sample_.purpose_hbw + df_sample_.purpose_hbo\n",
    "df_sample_ = df_sample_[[\"ORIG\", \"DEST\", \"TRIPS_HOMEBASED\"]]\n",
    "\n",
    "df_sample_[\"ORIG\"] = df_sample_[\"ORIG\"].astype(str)\n",
    "df_sample_[\"DEST\"] = df_sample_[\"DEST\"].astype(str)"
   ]
  },
  {
   "cell_type": "code",
   "execution_count": 216,
   "id": "e22d38c1",
   "metadata": {},
   "outputs": [],
   "source": [
    "# df_sample_[\"total_purp\"] = df_sample_.purpose_hbw + df_sample_.purpose_hbo + df_sample_.purpose_wbo + df_sample_.purpose_obo\n",
    "# df_sample_[\"is_link_match\"] = df_sample_.total_linked_trips / df_sample_[\"total_purp\"]\n",
    "# df_sample_[\"is_unlink_match\"] = df_sample_.total_unlinked_trips / df_sample_[\"total_purp\"]\n",
    "# df_sample_.describe()"
   ]
  },
  {
   "cell_type": "code",
   "execution_count": 217,
   "id": "0d1a4a2d",
   "metadata": {},
   "outputs": [
    {
     "name": "stdout",
     "output_type": "stream",
     "text": [
      "<class 'pandas.core.frame.DataFrame'>\n",
      "RangeIndex: 3736797 entries, 0 to 3736796\n",
      "Data columns (total 3 columns):\n",
      " #   Column           Dtype \n",
      "---  ------           ----- \n",
      " 0   ORIG             object\n",
      " 1   DEST             object\n",
      " 2   TRIPS_HOMEBASED  int64 \n",
      "dtypes: int64(1), object(2)\n",
      "memory usage: 85.5+ MB\n"
     ]
    }
   ],
   "source": [
    "df_sample_.info()"
   ]
  },
  {
   "cell_type": "markdown",
   "id": "a672c455",
   "metadata": {},
   "source": [
    "### potential sites"
   ]
  },
  {
   "cell_type": "code",
   "execution_count": null,
   "id": "9b7549c3",
   "metadata": {},
   "outputs": [],
   "source": [
    "# import random\n",
    "\n",
    "# POTENTIAL_SITES_NUMBER = 150\n",
    "\n",
    "# random.seed(41)\n",
    "# t = random.sample(df_sample_.query(\"TRIPS_HOMEBASED > 1000\").ORIG.unique().tolist(), POTENTIAL_SITES_NUMBER)\n",
    "# P = set(t)"
   ]
  },
  {
   "cell_type": "markdown",
   "id": "d3447aff",
   "metadata": {},
   "source": [
    "### bi-directional -> one directional"
   ]
  },
  {
   "cell_type": "code",
   "execution_count": 222,
   "id": "252f4124",
   "metadata": {},
   "outputs": [
    {
     "data": {
      "text/html": [
       "<div>\n",
       "<style scoped>\n",
       "    .dataframe tbody tr th:only-of-type {\n",
       "        vertical-align: middle;\n",
       "    }\n",
       "\n",
       "    .dataframe tbody tr th {\n",
       "        vertical-align: top;\n",
       "    }\n",
       "\n",
       "    .dataframe thead th {\n",
       "        text-align: right;\n",
       "    }\n",
       "</style>\n",
       "<table border=\"1\" class=\"dataframe\">\n",
       "  <thead>\n",
       "    <tr style=\"text-align: right;\">\n",
       "      <th></th>\n",
       "      <th>ORIG</th>\n",
       "      <th>DEST</th>\n",
       "      <th>TRIPS_HOMEBASED</th>\n",
       "    </tr>\n",
       "  </thead>\n",
       "  <tbody>\n",
       "    <tr>\n",
       "      <th>0</th>\n",
       "      <td>1005</td>\n",
       "      <td>130039602002</td>\n",
       "      <td>0</td>\n",
       "    </tr>\n",
       "    <tr>\n",
       "      <th>1</th>\n",
       "      <td>1005</td>\n",
       "      <td>130099702012</td>\n",
       "      <td>52</td>\n",
       "    </tr>\n",
       "    <tr>\n",
       "      <th>2</th>\n",
       "      <td>1005</td>\n",
       "      <td>130159601031</td>\n",
       "      <td>0</td>\n",
       "    </tr>\n",
       "    <tr>\n",
       "      <th>3</th>\n",
       "      <td>1005</td>\n",
       "      <td>130159602011</td>\n",
       "      <td>7</td>\n",
       "    </tr>\n",
       "    <tr>\n",
       "      <th>4</th>\n",
       "      <td>1005</td>\n",
       "      <td>130159604031</td>\n",
       "      <td>0</td>\n",
       "    </tr>\n",
       "    <tr>\n",
       "      <th>...</th>\n",
       "      <td>...</td>\n",
       "      <td>...</td>\n",
       "      <td>...</td>\n",
       "    </tr>\n",
       "    <tr>\n",
       "      <th>3736792</th>\n",
       "      <td>RWY3_WY</td>\n",
       "      <td>131850103014</td>\n",
       "      <td>0</td>\n",
       "    </tr>\n",
       "    <tr>\n",
       "      <th>3736793</th>\n",
       "      <td>RWY3_WY</td>\n",
       "      <td>132150004003</td>\n",
       "      <td>0</td>\n",
       "    </tr>\n",
       "    <tr>\n",
       "      <th>3736794</th>\n",
       "      <td>RWY3_WY</td>\n",
       "      <td>132679503005</td>\n",
       "      <td>0</td>\n",
       "    </tr>\n",
       "    <tr>\n",
       "      <th>3736795</th>\n",
       "      <td>RWY3_WY</td>\n",
       "      <td>132679504023</td>\n",
       "      <td>0</td>\n",
       "    </tr>\n",
       "    <tr>\n",
       "      <th>3736796</th>\n",
       "      <td>RWY3_WY</td>\n",
       "      <td>132779603013</td>\n",
       "      <td>0</td>\n",
       "    </tr>\n",
       "  </tbody>\n",
       "</table>\n",
       "<p>3736797 rows × 3 columns</p>\n",
       "</div>"
      ],
      "text/plain": [
       "            ORIG          DEST  TRIPS_HOMEBASED\n",
       "0           1005  130039602002                0\n",
       "1           1005  130099702012               52\n",
       "2           1005  130159601031                0\n",
       "3           1005  130159602011                7\n",
       "4           1005  130159604031                0\n",
       "...          ...           ...              ...\n",
       "3736792  RWY3_WY  131850103014                0\n",
       "3736793  RWY3_WY  132150004003                0\n",
       "3736794  RWY3_WY  132679503005                0\n",
       "3736795  RWY3_WY  132679504023                0\n",
       "3736796  RWY3_WY  132779603013                0\n",
       "\n",
       "[3736797 rows x 3 columns]"
      ]
     },
     "execution_count": 222,
     "metadata": {},
     "output_type": "execute_result"
    }
   ],
   "source": [
    "df_sample_"
   ]
  },
  {
   "cell_type": "code",
   "execution_count": 259,
   "id": "6f41eb44",
   "metadata": {},
   "outputs": [],
   "source": [
    "import random\n",
    "\n",
    "POTENTIAL_SITES_NUMBER = 15\n",
    "\n",
    "random.seed(41)\n",
    "t = random.sample(df_sample_.query(\"TRIPS_HOMEBASED > 1000\").ORIG.unique().tolist(), POTENTIAL_SITES_NUMBER)\n",
    "P = set(t)\n",
    "P = set(map(str, P))  # Ensure P is also strings"
   ]
  },
  {
   "cell_type": "code",
   "execution_count": null,
   "id": "c6598ab3",
   "metadata": {},
   "outputs": [],
   "source": [
    "\n",
    "\"\"\"\n",
    "Optimized function to calculate trips dictionary for a subset of origins (P),\n",
    "including only trips that either begin or end at P.\n",
    "\n",
    "Args:\n",
    "    df (pd.DataFrame): DataFrame with columns [\"ORIG\", \"DEST\", \"TRIPS_HOMEBASED\"].\n",
    "    P (set): Subset of ORIG values.\n",
    "    \n",
    "Returns:\n",
    "    dict: Dictionary with keys (P, ORIG) and values as the sum of P -> ORIG and ORIG -> P trips.\n",
    "\"\"\"\n",
    "df = df_sample_\n",
    "\n",
    "# Filter the DataFrame to include only rows where ORIG or DEST is in P\n",
    "df_filtered = df[(df[\"ORIG\"].isin(P)) | (df[\"DEST\"].isin(P))]\n",
    "\n",
    "# Group by (ORIG, DEST) and sum TRIPS_HOMEBASED\n",
    "grouped = df_filtered.groupby([\"ORIG\", \"DEST\"])[\"TRIPS_HOMEBASED\"].sum()\n",
    "\n",
    "# Convert grouped data to a dictionary for fast lookups\n",
    "trip_lookup = grouped.to_dict()\n",
    "\n",
    "# Initialize the trips dictionary\n",
    "trips_dict = {}\n",
    "\n",
    "# Calculate the sum of P -> ORIG and ORIG -> P for all pairs\n",
    "for p in P:\n",
    "    for orig in df_filtered[\"ORIG\"].unique():\n",
    "        # Get P -> ORIG\n",
    "        p_to_orig = trip_lookup.get((p, orig), 0)\n",
    "        \n",
    "        # Get ORIG -> P\n",
    "        orig_to_p = trip_lookup.get((orig, p), 0)\n",
    "        \n",
    "        # Update the dictionary with the sum\n",
    "        trips_dict[(p, orig)] = p_to_orig + orig_to_p\n",
    "    \n",
    "\n",
    "# Keep only non-zero values in trips_dict\n",
    "trips_dict = {key: value for key, value in trips_dict.items() if value != 0}\n"
   ]
  },
  {
   "cell_type": "code",
   "execution_count": 291,
   "id": "5fe2cd12",
   "metadata": {},
   "outputs": [
    {
     "data": {
      "text/plain": [
       "1"
      ]
     },
     "execution_count": 291,
     "metadata": {},
     "output_type": "execute_result"
    }
   ],
   "source": [
    "# trips_dict now is P -> A = P -> A + A -> P\n",
    "trips_dict\n",
    "1"
   ]
  },
  {
   "cell_type": "markdown",
   "id": "f360af7b",
   "metadata": {},
   "source": [
    "## AREAS SET"
   ]
  },
  {
   "cell_type": "code",
   "execution_count": 306,
   "id": "ce81e345",
   "metadata": {},
   "outputs": [],
   "source": [
    "A = set(df_sample_.ORIG.unique()) | set(df_sample_.DEST.unique())"
   ]
  },
  {
   "cell_type": "code",
   "execution_count": 307,
   "id": "e6f0382b",
   "metadata": {},
   "outputs": [
    {
     "data": {
      "text/plain": [
       "8043"
      ]
     },
     "execution_count": 307,
     "metadata": {},
     "output_type": "execute_result"
    }
   ],
   "source": [
    "len(A)"
   ]
  },
  {
   "cell_type": "markdown",
   "id": "ac810402",
   "metadata": {},
   "source": [
    "## AREAS POPULATION"
   ]
  },
  {
   "cell_type": "code",
   "execution_count": 498,
   "id": "76e8a23e",
   "metadata": {},
   "outputs": [],
   "source": [
    "gdf_block_groups_shapefiles = gpd.read_file(r\"./data/block_groups_shapefiles_2019/tl_2019_13_bg.shp\")\n",
    "df_population_by_tract = pd.read_csv('./data/population_by_tract_2021.csv')\n",
    "\n",
    "# run only with df load, since it shortens str\n",
    "df_population_by_tract = df_population_by_tract.rename({\"Geographic ID for geographic unit\":\"GEOID\", \"# Total population, 2021\":\"POP\"}, axis=1)\n",
    "gdf_block_groups_shapefiles[\"GEOID\"] = gdf_block_groups_shapefiles[\"GEOID\"].str[:-1]"
   ]
  },
  {
   "cell_type": "code",
   "execution_count": 499,
   "id": "23d728a1",
   "metadata": {},
   "outputs": [
    {
     "data": {
      "text/plain": [
       "POP\n",
       "False    3155\n",
       "True     2378\n",
       "Name: count, dtype: int64"
      ]
     },
     "execution_count": 499,
     "metadata": {},
     "output_type": "execute_result"
    }
   ],
   "source": [
    "df_join = (\n",
    "    gdf_block_groups_shapefiles\n",
    "    [[\"GEOID\", \"BLKGRPCE\", \"geometry\"]]\n",
    "    .merge(df_population_by_tract[[\"GEOID\", \"POP\"]].astype(str), on = \"GEOID\", how = \"left\")\n",
    ")\n",
    "df_join.POP.isna().value_counts()"
   ]
  },
  {
   "cell_type": "markdown",
   "id": "15831fbf",
   "metadata": {},
   "source": [
    "Tract of 40% of block groups is missing!!!  \n",
    "reason - different year. tracts have changes from 2019 to 2021  \n",
    "fix:  "
   ]
  },
  {
   "cell_type": "code",
   "execution_count": 526,
   "id": "3c38696e",
   "metadata": {},
   "outputs": [
    {
     "data": {
      "text/plain": [
       "10625615"
      ]
     },
     "execution_count": 526,
     "metadata": {},
     "output_type": "execute_result"
    }
   ],
   "source": [
    "gdf_population_by_tract = (\n",
    "    gdf_tracts_shapefiles_2021\n",
    "    [[\"GEOID\", \"geometry\"]]\n",
    "    .merge(df_population_by_tract[[\"GEOID\", \"POP\"]].astype(str), on = \"GEOID\", how = \"right\")\n",
    ")\n",
    "gdf_population_by_tract.POP.astype(int).sum()"
   ]
  },
  {
   "cell_type": "markdown",
   "id": "7f21f271",
   "metadata": {},
   "source": [
    "for each block group, assign population of its corresponding tract (block group data have the format of: tract_id, block_group_number, geometry of blockgroup shape; tract data have geomtetry of tract shape) if are of block group coincide well enough with tract area (in many cases it wont coincide perfectly cuz tract shapes have changed (they are from a different year)\n",
    "\n",
    "write me a code to do it\n",
    "\n",
    "p.s. No need to infer block group population in a smart way, just assign the tract population (i will transform it to block group population later)"
   ]
  },
  {
   "cell_type": "code",
   "execution_count": 514,
   "id": "352a0058",
   "metadata": {},
   "outputs": [],
   "source": [
    "# Load the shapefiles\n",
    "block_groups_2019 = gdf_block_groups_shapefiles\n",
    "tracts_2021 = gdf_population_by_tract\n",
    "\n",
    "# Ensure both GeoDataFrames have the same CRS\n",
    "block_groups_2019 = block_groups_2019.to_crs(tracts_2021.crs)\n",
    "\n",
    "\n",
    "tracts_2021['tract_geom'] = tracts_2021['geometry']\n",
    "# Spatial join: Assign tract data to block groups\n",
    "block_groups_with_population = gpd.sjoin(\n",
    "    block_groups_2019[['GEOID', 'BLKGRPCE', 'geometry']], tracts_2021[['GEOID', 'geometry', 'POP', 'tract_geom']], \n",
    "    how='left', \n",
    "    predicate='intersects'  # Match tracts and block groups based on overlapping areas\n",
    ")\n",
    "\n",
    "# Calculate the percentage overlap for cases where multiple tracts intersect a block group\n",
    "block_groups_with_population['overlap_area'] = block_groups_with_population.geometry.intersection(\n",
    "    block_groups_with_population['tract_geom']\n",
    ").area\n",
    "\n",
    "# Retain only the tract with the largest overlap for each block group\n",
    "\n",
    "block_groups_with_population['overlap_percent'] = block_groups_with_population.overlap_area / block_groups_with_population.geometry.area * 100\n",
    "block_groups_with_population['overlap_percent'] = block_groups_with_population['overlap_percent'].apply(lambda x: round(x, 3))\n",
    "block_groups_with_population = (\n",
    "    block_groups_with_population\n",
    "        .sort_values(['GEOID_left', 'BLKGRPCE', 'overlap_percent'], ascending=[True, True, False])\n",
    "        .drop_duplicates(subset=['GEOID_left', 'BLKGRPCE'])\n",
    ")\n",
    "\n",
    "\n",
    "block_groups_with_population = block_groups_with_population.drop(columns=['index_right', 'GEOID_right', 'tract_geom']).rename({'POP':'tract_pop', 'GEOID_left': 'GEOID'}, axis = 1)"
   ]
  },
  {
   "cell_type": "code",
   "execution_count": 515,
   "id": "7b150eec",
   "metadata": {},
   "outputs": [],
   "source": [
    "# INFERRING BLOCK GROUP POPULATION FROM TRACT\n",
    "temp = block_groups_with_population.groupby('GEOID')['BLKGRPCE'].count().reset_index()\n",
    "temp.columns = ['GEOID', 'tract_block_group_count']\n",
    "block_groups_with_population = block_groups_with_population.merge(temp, on = 'GEOID', how = 'left')\n",
    "\n",
    "block_groups_with_population['block_group_population_inferred'] = block_groups_with_population.tract_pop.astype(int) / block_groups_with_population.tract_block_group_count"
   ]
  },
  {
   "cell_type": "code",
   "execution_count": 516,
   "id": "6de9d74f",
   "metadata": {},
   "outputs": [],
   "source": [
    "block_groups_with_population.tract_pop = block_groups_with_population.tract_pop.astype(int)\n",
    "gdf_block_groups_with_population = block_groups_with_population"
   ]
  },
  {
   "cell_type": "code",
   "execution_count": 517,
   "id": "0bb673c1",
   "metadata": {},
   "outputs": [
    {
     "data": {
      "text/html": [
       "<div>\n",
       "<style scoped>\n",
       "    .dataframe tbody tr th:only-of-type {\n",
       "        vertical-align: middle;\n",
       "    }\n",
       "\n",
       "    .dataframe tbody tr th {\n",
       "        vertical-align: top;\n",
       "    }\n",
       "\n",
       "    .dataframe thead th {\n",
       "        text-align: right;\n",
       "    }\n",
       "</style>\n",
       "<table border=\"1\" class=\"dataframe\">\n",
       "  <thead>\n",
       "    <tr style=\"text-align: right;\">\n",
       "      <th></th>\n",
       "      <th>GEOID</th>\n",
       "      <th>BLKGRPCE</th>\n",
       "      <th>geometry</th>\n",
       "      <th>tract_pop</th>\n",
       "      <th>overlap_area</th>\n",
       "      <th>overlap_percent</th>\n",
       "      <th>tract_block_group_count</th>\n",
       "      <th>block_group_population_inferred</th>\n",
       "    </tr>\n",
       "  </thead>\n",
       "  <tbody>\n",
       "    <tr>\n",
       "      <th>0</th>\n",
       "      <td>13001950100</td>\n",
       "      <td>1</td>\n",
       "      <td>POLYGON ((-82.31653 31.85050, -82.31468 31.852...</td>\n",
       "      <td>3421</td>\n",
       "      <td>0.017806</td>\n",
       "      <td>100.000</td>\n",
       "      <td>2</td>\n",
       "      <td>1710.500000</td>\n",
       "    </tr>\n",
       "    <tr>\n",
       "      <th>1</th>\n",
       "      <td>13001950100</td>\n",
       "      <td>2</td>\n",
       "      <td>POLYGON ((-82.43165 31.85615, -82.43158 31.861...</td>\n",
       "      <td>3421</td>\n",
       "      <td>0.013871</td>\n",
       "      <td>100.000</td>\n",
       "      <td>2</td>\n",
       "      <td>1710.500000</td>\n",
       "    </tr>\n",
       "    <tr>\n",
       "      <th>2</th>\n",
       "      <td>13001950200</td>\n",
       "      <td>1</td>\n",
       "      <td>POLYGON ((-82.35209 31.84147, -82.35145 31.841...</td>\n",
       "      <td>2491</td>\n",
       "      <td>0.006946</td>\n",
       "      <td>99.162</td>\n",
       "      <td>3</td>\n",
       "      <td>830.333333</td>\n",
       "    </tr>\n",
       "    <tr>\n",
       "      <th>3</th>\n",
       "      <td>13001950200</td>\n",
       "      <td>2</td>\n",
       "      <td>POLYGON ((-82.45868 31.83810, -82.43136 31.837...</td>\n",
       "      <td>2466</td>\n",
       "      <td>0.004259</td>\n",
       "      <td>99.998</td>\n",
       "      <td>3</td>\n",
       "      <td>822.000000</td>\n",
       "    </tr>\n",
       "    <tr>\n",
       "      <th>4</th>\n",
       "      <td>13001950200</td>\n",
       "      <td>3</td>\n",
       "      <td>POLYGON ((-82.35398 31.78107, -82.35342 31.782...</td>\n",
       "      <td>2491</td>\n",
       "      <td>0.003120</td>\n",
       "      <td>82.786</td>\n",
       "      <td>3</td>\n",
       "      <td>830.333333</td>\n",
       "    </tr>\n",
       "  </tbody>\n",
       "</table>\n",
       "</div>"
      ],
      "text/plain": [
       "         GEOID BLKGRPCE                                           geometry  \\\n",
       "0  13001950100        1  POLYGON ((-82.31653 31.85050, -82.31468 31.852...   \n",
       "1  13001950100        2  POLYGON ((-82.43165 31.85615, -82.43158 31.861...   \n",
       "2  13001950200        1  POLYGON ((-82.35209 31.84147, -82.35145 31.841...   \n",
       "3  13001950200        2  POLYGON ((-82.45868 31.83810, -82.43136 31.837...   \n",
       "4  13001950200        3  POLYGON ((-82.35398 31.78107, -82.35342 31.782...   \n",
       "\n",
       "   tract_pop  overlap_area  overlap_percent  tract_block_group_count  \\\n",
       "0       3421      0.017806          100.000                        2   \n",
       "1       3421      0.013871          100.000                        2   \n",
       "2       2491      0.006946           99.162                        3   \n",
       "3       2466      0.004259           99.998                        3   \n",
       "4       2491      0.003120           82.786                        3   \n",
       "\n",
       "   block_group_population_inferred  \n",
       "0                      1710.500000  \n",
       "1                      1710.500000  \n",
       "2                       830.333333  \n",
       "3                       822.000000  \n",
       "4                       830.333333  "
      ]
     },
     "execution_count": 517,
     "metadata": {},
     "output_type": "execute_result"
    }
   ],
   "source": [
    "gdf_block_groups_with_population.head()"
   ]
  },
  {
   "cell_type": "markdown",
   "id": "a9f09c50",
   "metadata": {},
   "source": [
    "## OTHER"
   ]
  },
  {
   "cell_type": "markdown",
   "id": "fcf62941",
   "metadata": {},
   "source": [
    "### total population mismatch"
   ]
  },
  {
   "cell_type": "code",
   "execution_count": 520,
   "id": "ad4bdf3f",
   "metadata": {},
   "outputs": [
    {
     "data": {
      "text/plain": [
       "7.6495505166666655"
      ]
     },
     "execution_count": 520,
     "metadata": {},
     "output_type": "execute_result"
    }
   ],
   "source": [
    "gdf_block_groups_with_population.block_group_population_inferred.sum() / 1000000"
   ]
  },
  {
   "cell_type": "code",
   "execution_count": 534,
   "id": "c4a476f2",
   "metadata": {},
   "outputs": [
    {
     "data": {
      "text/plain": [
       "7.683327"
      ]
     },
     "execution_count": 534,
     "metadata": {},
     "output_type": "execute_result"
    }
   ],
   "source": [
    "gdf_block_groups_with_population.drop_duplicates('GEOID').tract_pop.sum() / 1000000"
   ]
  },
  {
   "cell_type": "code",
   "execution_count": 523,
   "id": "29a79426",
   "metadata": {},
   "outputs": [
    {
     "data": {
      "text/plain": [
       "10.625615"
      ]
     },
     "execution_count": 523,
     "metadata": {},
     "output_type": "execute_result"
    }
   ],
   "source": [
    "df_population_by_tract.POP.sum() / 1000000"
   ]
  },
  {
   "cell_type": "code",
   "execution_count": 540,
   "id": "e7ca90fe",
   "metadata": {},
   "outputs": [],
   "source": [
    "map_my = gdf_block_groups_with_population.explore(\n",
    "    column='tract_pop',  # The column to color shapes by\n",
    "    cmap='YlOrRd',                # Colormap (e.g., Yellow-Orange-Red)\n",
    "    legend=True,                  # Show a legend\n",
    "    tiles='CartoDB positron'      # Base map style\n",
    ")"
   ]
  },
  {
   "cell_type": "code",
   "execution_count": 544,
   "id": "ba168ed8",
   "metadata": {},
   "outputs": [],
   "source": [
    "tracts_2021.POP = tracts_2021.POP.astype(int)\n",
    "map_baseline = tracts_2021.explore(\n",
    "    column='POP',  # The column to color shapes by\n",
    "    cmap='YlOrRd',                # Colormap (e.g., Yellow-Orange-Red)\n",
    "    legend=True,                  # Show a legend\n",
    "    tiles='CartoDB positron'      # Base map style\n",
    ")"
   ]
  },
  {
   "cell_type": "code",
   "execution_count": null,
   "id": "b6ab1de3",
   "metadata": {},
   "outputs": [
    {
     "data": {
      "text/plain": [
       "True"
      ]
     },
     "execution_count": 541,
     "metadata": {},
     "output_type": "execute_result"
    }
   ],
   "source": [
    "# Save the maps to an HTML file\n",
    "# map_my.save('map_my.html')\n",
    "# map_baseline.save('map_baseline.html')"
   ]
  },
  {
   "cell_type": "markdown",
   "id": "8d6f5cf0",
   "metadata": {},
   "source": [
    "Visually overall trends are the same  \n",
    "=> using my total for analysis  \n",
    "trends should be the same"
   ]
  }
 ],
 "metadata": {
  "kernelspec": {
   "display_name": "spatial_analysis_course",
   "language": "python",
   "name": "python3"
  },
  "language_info": {
   "codemirror_mode": {
    "name": "ipython",
    "version": 3
   },
   "file_extension": ".py",
   "mimetype": "text/x-python",
   "name": "python",
   "nbconvert_exporter": "python",
   "pygments_lexer": "ipython3",
   "version": "3.12.3"
  },
  "toc": {
   "base_numbering": 1,
   "nav_menu": {},
   "number_sections": true,
   "sideBar": true,
   "skip_h1_title": true,
   "title_cell": "Table of Contents",
   "title_sidebar": "Contents",
   "toc_cell": false,
   "toc_position": {
    "height": "calc(100% - 180px)",
    "left": "10px",
    "top": "150px",
    "width": "313.6px"
   },
   "toc_section_display": true,
   "toc_window_display": true
  },
  "varInspector": {
   "cols": {
    "lenName": 16,
    "lenType": 16,
    "lenVar": 40
   },
   "kernels_config": {
    "python": {
     "delete_cmd_postfix": "",
     "delete_cmd_prefix": "del ",
     "library": "var_list.py",
     "varRefreshCmd": "print(var_dic_list())"
    },
    "r": {
     "delete_cmd_postfix": ") ",
     "delete_cmd_prefix": "rm(",
     "library": "var_list.r",
     "varRefreshCmd": "cat(var_dic_list()) "
    }
   },
   "types_to_exclude": [
    "module",
    "function",
    "builtin_function_or_method",
    "instance",
    "_Feature"
   ],
   "window_display": false
  }
 },
 "nbformat": 4,
 "nbformat_minor": 5
}
